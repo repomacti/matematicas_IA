{
 "cells": [
  {
   "cell_type": "markdown",
   "id": "407b3a25-9a2b-49f6-972f-3a7f207a79be",
   "metadata": {},
   "source": [
    "# Matemáticas para IA con Python: Estadística descriptiva.\n",
    "\n",
    "**Objetivo**. Revisar los conceptos básicos de la estadística descriptiva usando ejemplos con Python.\n",
    "\n",
    " <p xmlns:cc=\"http://creativecommons.org/ns#\" xmlns:dct=\"http://purl.org/dc/terms/\"><a property=\"dct:title\" rel=\"cc:attributionURL\" href=\"https://github.com/luiggix/intro_MeIA_2023\">Matemáticas para IA con Python</a> by <span property=\"cc:attributionName\">Luis Miguel de la Cruz Salas</span> is licensed under <a href=\"http://creativecommons.org/licenses/by-nc-sa/4.0/?ref=chooser-v1\" target=\"_blank\" rel=\"license noopener noreferrer\" style=\"display:inline-block;\">CC BY-NC-SA 4.0<img style=\"height:22px!important;margin-left:3px;vertical-align:text-bottom;\" src=\"https://mirrors.creativecommons.org/presskit/icons/cc.svg?ref=chooser-v1\"><img style=\"height:22px!important;margin-left:3px;vertical-align:text-bottom;\" src=\"https://mirrors.creativecommons.org/presskit/icons/by.svg?ref=chooser-v1\"><img style=\"height:22px!important;margin-left:3px;vertical-align:text-bottom;\" src=\"https://mirrors.creativecommons.org/presskit/icons/nc.svg?ref=chooser-v1\"><img style=\"height:22px!important;margin-left:3px;vertical-align:text-bottom;\" src=\"https://mirrors.creativecommons.org/presskit/icons/sa.svg?ref=chooser-v1\"></a></p> \n"
   ]
  },
  {
   "cell_type": "markdown",
   "id": "67daf201-874f-49b4-9a0b-53184c838312",
   "metadata": {},
   "source": [
    "En la era del *Big Data* y la IA, es importante saber cómo calcular las medidas estadísticas que describen los datos. Estas medidas dan un resumen de los datos y es posible calcularlas usando diferentes bibliotecas de Python. Por ejemplo:\n",
    "\n",
    "* Módulo `statistics` con las funciones más importantes de estadística descriptiva.\n",
    "* Biblioteca `numpy` para manejar arreglos de manera eficiente y también hacer algunos cálculos estadísticos.\n",
    "* Biblioteca `scipy`que contiene funciones adicionales para trabajar con arreglos de `numpy`.\n",
    "* Biblioteca `pandas` para trabajar con conjuntos de datos etiquetados.\n",
    "* Biblioteca `matplotlib` para visualizar los datos.\n",
    "\n",
    "Para explicar los elementos principales de la estadística descriptiva, usaremos un conjunto de datos que crearemos artificialmente. "
   ]
  },
  {
   "cell_type": "code",
   "execution_count": null,
   "id": "bb537fad-a984-4c2f-bc26-ce4fd9a31115",
   "metadata": {
    "tags": []
   },
   "outputs": [],
   "source": [
    "import math\n",
    "import statistics\n",
    "import numpy as np\n",
    "import scipy.stats\n",
    "import pandas as pd\n",
    "import matplotlib.pyplot as plt\n",
    "import macti.vis as mvis"
   ]
  },
  {
   "cell_type": "markdown",
   "id": "81298b1a-cb9d-4556-ba98-db8a15359bcc",
   "metadata": {},
   "source": [
    "# Creación de un conjunto de datos."
   ]
  },
  {
   "cell_type": "code",
   "execution_count": null,
   "id": "78e70dd8-0997-486d-b614-80dbbdcaf6e2",
   "metadata": {
    "tags": []
   },
   "outputs": [],
   "source": [
    "N = 20 # cantidad de datos\n",
    "L = 10 # dominio de estudio de los datos, de 0 a L\n",
    "\n",
    "# Generación de un conjunto de datos\n",
    "x = np.linspace(0,L,N) \n",
    "y = x + np.random.randn(N)\n",
    "\n",
    "# Revisa que todos los valores sean positivos, si obtienes algun valor negativo\n",
    "# vuelve a ejecutar la celda hasta que todos los valores sean positivos.\n",
    "print(x)\n",
    "print(y)"
   ]
  },
  {
   "cell_type": "markdown",
   "id": "dea30d35-e9d4-4519-8e48-106854ada438",
   "metadata": {},
   "source": [
    "# Análisis exploratorio.\n",
    "\n",
    "## Graficación usando `matplotlib`."
   ]
  },
  {
   "cell_type": "code",
   "execution_count": null,
   "id": "f52e9da8-a012-4062-a6ca-ba5244733c55",
   "metadata": {
    "tags": []
   },
   "outputs": [],
   "source": [
    "plt.scatter(x,y)\n",
    "plt.xlabel('$x$')\n",
    "plt.ylabel('$y$')\n",
    "plt.grid()\n",
    "plt.show()"
   ]
  },
  {
   "cell_type": "markdown",
   "id": "84817bca-54e7-46ff-a7a4-429d8cda7449",
   "metadata": {},
   "source": [
    "## Graficación usando `pandas.DataFrame.plot()` ."
   ]
  },
  {
   "cell_type": "code",
   "execution_count": null,
   "id": "e7e643d6-5e20-4f30-af97-1aff81233ed4",
   "metadata": {
    "tags": []
   },
   "outputs": [],
   "source": [
    "# Almacenamiento de datos en un Dataframe\n",
    "df = pd.DataFrame(np.array([x, y]).T, columns=['x', 'y'])\n",
    "df"
   ]
  },
  {
   "cell_type": "code",
   "execution_count": null,
   "id": "2f450f40-bb9c-4033-ac03-4802a974bb4c",
   "metadata": {
    "tags": []
   },
   "outputs": [],
   "source": [
    "df.plot(x='x', y = 'y', kind='scatter')\n",
    "plt.grid()\n",
    "plt.show()"
   ]
  },
  {
   "cell_type": "markdown",
   "id": "8c9b3f6c-00ef-4036-b15d-4f1f90330eae",
   "metadata": {},
   "source": [
    "# Medidas estadísticas.\n",
    "\n",
    "## Medidas de tendencia central.\n",
    "\n",
    "### Media\n",
    "\n",
    "$$\n",
    "\\bar{x} = \\frac{1}{n} \\sum_{i=1}^n x_i\n",
    "$$"
   ]
  },
  {
   "cell_type": "code",
   "execution_count": null,
   "id": "5c58c2c8-5c8c-4e0d-b7b6-1f6688c96c64",
   "metadata": {
    "tags": []
   },
   "outputs": [],
   "source": [
    "# Usando funciones simples de Python\n",
    "sum(df.y) / len(df.y)"
   ]
  },
  {
   "cell_type": "code",
   "execution_count": null,
   "id": "f98b3cc2-c5f1-456e-a2f6-a2f6ceb7041b",
   "metadata": {
    "tags": []
   },
   "outputs": [],
   "source": [
    "# Usando statistics\n",
    "statistics.mean(df.y)"
   ]
  },
  {
   "cell_type": "code",
   "execution_count": null,
   "id": "1d4859ef-d61e-4637-bfb8-a7211fdb8b71",
   "metadata": {
    "tags": []
   },
   "outputs": [],
   "source": [
    "# Usando numpy\n",
    "np.mean(df.y)"
   ]
  },
  {
   "cell_type": "code",
   "execution_count": null,
   "id": "00b40885-745f-4faa-8f69-100bb07cebd9",
   "metadata": {
    "tags": []
   },
   "outputs": [],
   "source": [
    "# Usando pandas\n",
    "df.mean()"
   ]
  },
  {
   "cell_type": "code",
   "execution_count": null,
   "id": "7b074221-1a52-4998-a051-ea1238f08b85",
   "metadata": {
    "tags": []
   },
   "outputs": [],
   "source": [
    "df.y.mean()"
   ]
  },
  {
   "cell_type": "code",
   "execution_count": null,
   "id": "58aefd49-e73d-4ff4-96c0-61e67b848fe4",
   "metadata": {
    "tags": []
   },
   "outputs": [],
   "source": [
    "df['y'].mean()"
   ]
  },
  {
   "cell_type": "markdown",
   "id": "73891803-ade1-4803-9bcc-09c60da7fa0a",
   "metadata": {},
   "source": [
    "<div class=\"alert alert-info\" role=\"alert\">\n",
    "    \n",
    "Existen también funciones para calcular la media ponderada. Véase  `np.average()`.\n",
    "\n",
    "\n",
    "**Definición**.\n",
    "\n",
    "---\n",
    "\n",
    "Para una serie de datos numéricos $X = \\{x_{1},x_{2},x_{3}...,x_{n}\\}$ a la que corresponden los pesos $W = \\{w_{1},w_{2},w_{3},...,w_{n}\\}$ la media ponderada se calcula de la siguiente manera:\n",
    "\n",
    "$\n",
    "\\bar{x}= \\dfrac{\\sum _{i=1}^{n}x_{i}w_{i}}{\\sum_{i=1}^{n}w_{i}} = \\dfrac{x_{1}w_{1}+x_{2}w_{2}+x_{3}w_{3}+...+x_{n}w_{n}}{w_{1}+w_{2}+w_{3}+...+w_{n}}\n",
    "$\n",
    "\n",
    "Si los pesos son iguales, $w_{i}=w$ para $1\\leq i\\leq n$, entonces la media ponderada coincide con la media aritmética.\n",
    "\n",
    "---\n",
    "\n",
    "</div>"
   ]
  },
  {
   "cell_type": "markdown",
   "id": "ee030c36-e039-495f-8670-63c0753d2278",
   "metadata": {},
   "source": [
    "### Media armónica\n",
    "\n",
    "Suele ser empleada para promediar velocidades, tiempos, rendimientos, entre otros. La media armónica resulta poco influida por la existencia de determinados valores mucho más grandes que el conjunto de los otros, siendo en cambio sensible a valores mucho más pequeños que el conjunto. \n",
    "\n",
    "$$\n",
    "H = \\frac{n}{ \\sum_{i=1}^n 1/ x_i}\n",
    "$$"
   ]
  },
  {
   "cell_type": "code",
   "execution_count": null,
   "id": "4ff5e976-663a-4dc9-a7f6-c26f3dacd88d",
   "metadata": {
    "tags": []
   },
   "outputs": [],
   "source": [
    "# Usando funciones simples de Python\n",
    "len(df.y) / sum(1 / item for item in df.y)"
   ]
  },
  {
   "cell_type": "code",
   "execution_count": null,
   "id": "5b6856c9-f3e1-4bd2-a9c3-f08fd9556833",
   "metadata": {
    "tags": []
   },
   "outputs": [],
   "source": [
    "# Usando statistics\n",
    "statistics.harmonic_mean(df.y)"
   ]
  },
  {
   "cell_type": "code",
   "execution_count": null,
   "id": "d263cc50-372f-4eb2-817a-2a90fc939fac",
   "metadata": {
    "tags": []
   },
   "outputs": [],
   "source": [
    "# Usando scipy\n",
    "scipy.stats.hmean(df.y)"
   ]
  },
  {
   "cell_type": "markdown",
   "id": "a9585955-f528-410e-8b4d-0c604753ac4f",
   "metadata": {},
   "source": [
    "### Media geométrica\n",
    "\n",
    "Es recomendada para datos de progresión geométrica, para promediar razones, interés compuesto y números índice. \n",
    "\n",
    "$$\n",
    "G = \\sqrt[n]{\\prod_{i=1}^n x_i}\n",
    "$$"
   ]
  },
  {
   "cell_type": "code",
   "execution_count": null,
   "id": "2e03fce8-87e1-44ba-9c5c-9b8c439f88ba",
   "metadata": {
    "tags": []
   },
   "outputs": [],
   "source": [
    "# Usando Python\n",
    "G = 1\n",
    "for i in df.y:\n",
    "    G *= i\n",
    "\n",
    "G **= (1/len(df.y))\n",
    "\n",
    "print(G)"
   ]
  },
  {
   "cell_type": "code",
   "execution_count": null,
   "id": "9d135b6b-27a0-4823-b318-5037a852c5cb",
   "metadata": {
    "tags": []
   },
   "outputs": [],
   "source": [
    "# Usando statistics\n",
    "statistics.geometric_mean(df.y)"
   ]
  },
  {
   "cell_type": "code",
   "execution_count": null,
   "id": "88d5f42c-d606-4c01-bdb5-6a853028ffdc",
   "metadata": {
    "tags": []
   },
   "outputs": [],
   "source": [
    "# Usando scipy\n",
    "scipy.stats.gmean(df.y)"
   ]
  },
  {
   "cell_type": "code",
   "execution_count": null,
   "id": "15862128-d7ab-42ed-b431-850fbbaf260d",
   "metadata": {
    "tags": []
   },
   "outputs": [],
   "source": [
    "plt.plot(df.y, np.zeros(len(df.y)), 'o')\n",
    "plt.scatter(statistics.mean(df.y), 0, fc='C1', ec='gray', alpha=0.75, s = 75, label='Media') \n",
    "plt.scatter(statistics.harmonic_mean(df.y), 0, fc='C2', ec='gray', alpha=0.75, s = 75, label='Media Armónica') \n",
    "plt.scatter(statistics.geometric_mean(df.y), 0, fc='C3', ec='gray', alpha=0.75, s = 75, label='Media Geométrica') \n",
    "plt.ylim(-0.5, 0.5)\n",
    "plt.legend()"
   ]
  },
  {
   "cell_type": "markdown",
   "id": "67335710-e576-4135-9a83-1e2b4b528f3e",
   "metadata": {},
   "source": [
    "### Mediana\n",
    "\n",
    "Es el elemento medio de un conjunto de datos ordenado.\n",
    "\n",
    "La media se ve afectada por valores atípicos, mientras que la mediana es afectada poco o nada por ese tipo de elementos."
   ]
  },
  {
   "cell_type": "code",
   "execution_count": null,
   "id": "0ef852f3-295e-4ee2-92b3-c39d2177b2e2",
   "metadata": {
    "tags": []
   },
   "outputs": [],
   "source": [
    "# Usando statistics\n",
    "statistics.median(df.y)"
   ]
  },
  {
   "cell_type": "code",
   "execution_count": null,
   "id": "8fa4c465-d69c-42e7-94c2-da8dedb2d8b9",
   "metadata": {
    "tags": []
   },
   "outputs": [],
   "source": [
    "# Usando numpy\n",
    "np.median(y)"
   ]
  },
  {
   "cell_type": "code",
   "execution_count": null,
   "id": "9fc90aa9-45a7-4b3d-b316-940c847a8847",
   "metadata": {
    "tags": []
   },
   "outputs": [],
   "source": [
    "# Usando pandas\n",
    "df.y.median()"
   ]
  },
  {
   "cell_type": "code",
   "execution_count": null,
   "id": "7c8942a9-52e5-485f-8493-51617a9c4879",
   "metadata": {
    "tags": []
   },
   "outputs": [],
   "source": [
    "# ¿Qué pasa si agregamos un valor muy grande?\n",
    "np.append(y, 300)"
   ]
  },
  {
   "cell_type": "code",
   "execution_count": null,
   "id": "84073e3a-30ab-49fa-8a67-0698972ab2e4",
   "metadata": {
    "tags": []
   },
   "outputs": [],
   "source": [
    "statistics.median(np.append(y, 300))"
   ]
  },
  {
   "cell_type": "code",
   "execution_count": null,
   "id": "8539c67a-ea06-4a58-9c23-a7eddec060c8",
   "metadata": {
    "tags": []
   },
   "outputs": [],
   "source": [
    "statistics.mean(np.append(y, 300))"
   ]
  },
  {
   "cell_type": "code",
   "execution_count": null,
   "id": "6c7205f9-9214-4501-9f45-96837452add6",
   "metadata": {},
   "outputs": [],
   "source": [
    "statistics.mean(y)"
   ]
  },
  {
   "cell_type": "markdown",
   "id": "16c15e4d-4933-49d1-b8ae-7cbbc1d8e399",
   "metadata": {},
   "source": [
    "### Moda\n",
    "Valor del conjunto de datos que ocurre con más frecuencia."
   ]
  },
  {
   "cell_type": "code",
   "execution_count": null,
   "id": "b8dff75f-050a-4a17-99c3-f4722893de30",
   "metadata": {
    "tags": []
   },
   "outputs": [],
   "source": [
    "# Usando statistics\n",
    "a = np.array([7,2,3,4,2,6,2,7,7,4,2,5,6,7,8,2,2,9,7,3,7])\n",
    "statistics.mode(a)"
   ]
  },
  {
   "cell_type": "code",
   "execution_count": null,
   "id": "e48e413f-7b65-4114-b99f-12e4d7b881b8",
   "metadata": {
    "tags": []
   },
   "outputs": [],
   "source": [
    "statistics.multimode(a)"
   ]
  },
  {
   "cell_type": "code",
   "execution_count": null,
   "id": "40d7de5c-c05d-41ce-93e9-69e281238033",
   "metadata": {
    "tags": []
   },
   "outputs": [],
   "source": [
    "# Usando scipy\n",
    "scipy.stats.mode(a, keepdims=True)"
   ]
  },
  {
   "cell_type": "code",
   "execution_count": null,
   "id": "e8dc3068-0218-476c-bb50-ce5497e36da1",
   "metadata": {
    "tags": []
   },
   "outputs": [],
   "source": [
    "# Usando pandas\n",
    "aS = pd.Series(a)\n",
    "aS.mode()"
   ]
  },
  {
   "cell_type": "markdown",
   "id": "f658114d-bd61-4e72-8585-8226fd7c27e1",
   "metadata": {},
   "source": [
    "## Medidas de variabilidad\n",
    "\n",
    "Estas medidas permiten determinar que tan dispersos se encuentran los datos."
   ]
  },
  {
   "cell_type": "markdown",
   "id": "f2a6e6e2-f7b3-4a88-8665-d0c3c848c4c6",
   "metadata": {},
   "source": [
    "### Varianza\n",
    "\n",
    "La varianza es una medida de dispersión que se utiliza para representar la variabilidad de un conjunto de datos respecto de la media aritmética de los mismo. Así, se calcula como la suma de los residuos elevados al cuadrado y divididos entre el total de observaciones.\n",
    "\n",
    "$$\n",
    "\\sigma^2 = \\frac{1}{n-1} \\sum_{i}^{n}(x_i - \\bar{x})^2\n",
    "$$\n",
    "\n",
    "Una varianza alta indica que los datos están más dispersos, mientras que una baja sugiere que están más agrupados. La varianza se suele utilizar en conjunto con la desviación estándar, ya que la desviación estándar es la raíz cuadrada de la varianza.\n",
    "\n",
    "**Ejemplos de aplicación**.\n",
    "\n",
    "* En producción: Una baja varianza en el peso de los paquetes puede indicar que el proceso de empaque es eficiente y consistente. \n",
    "* En finanzas: Una alta varianza en el precio de una acción puede indicar que es una inversión más volátil, con mayor riesgo pero también mayor potencial de ganancia. \n",
    "* En experimentos: Una alta varianza en los resultados de un experimento puede indicar que hay una mayor influencia de factores externos o que la medición no es muy precisa. \n"
   ]
  },
  {
   "cell_type": "code",
   "execution_count": null,
   "id": "81fe19c1-e5d6-4692-9c43-42e2c83c818a",
   "metadata": {
    "tags": []
   },
   "outputs": [],
   "source": [
    "# Usando Python\n",
    "n = len(y)\n",
    "ym = sum(y) / n\n",
    "sum((i - ym)**2 for i in y) / (n - 1)"
   ]
  },
  {
   "cell_type": "code",
   "execution_count": null,
   "id": "dc38fd6c-0daf-4fca-b6a4-07142909d99c",
   "metadata": {
    "tags": []
   },
   "outputs": [],
   "source": [
    "# Usando statistics\n",
    "statistics.variance(y)"
   ]
  },
  {
   "cell_type": "code",
   "execution_count": null,
   "id": "17f64b90-ee02-4aaa-8ecc-502f26c9d25b",
   "metadata": {
    "tags": []
   },
   "outputs": [],
   "source": [
    "# Usando numpy\n",
    "y.var(ddof=1) # ddof=0 calcula dividiendo entre n"
   ]
  },
  {
   "cell_type": "code",
   "execution_count": null,
   "id": "205933d4-7213-46c3-919b-4c1dff0a222d",
   "metadata": {
    "tags": []
   },
   "outputs": [],
   "source": [
    "# Usando pandas\n",
    "df.y.var()"
   ]
  },
  {
   "cell_type": "markdown",
   "id": "82f37657-6ed0-4152-883b-0e1a29824871",
   "metadata": {},
   "source": [
    "### Desviación estándar\n",
    "\n",
    "Es la raíz cuadrada positiva de la varianza de la muestra. Está relacionada con la varianza de la muestra y suele ser más conveniente que la varianza porque tiene la misma unidad que los datos.\n",
    "\n",
    "$$\n",
    "\\sigma = \\sqrt{\\frac{1}{n-1} \\sum_{i}^{n}(x_i - \\bar{x})^2}\n",
    "$$\n",
    "\n",
    "Una desviación estándar baja indica que la mayor parte de los datos de una muestra tienden a estar agrupados cerca de su media (también denominada el valor esperado), mientras que una desviación estándar alta indica que los datos se extienden sobre un rango de valores más amplio.\n"
   ]
  },
  {
   "cell_type": "code",
   "execution_count": null,
   "id": "c8a8c7b1-a59b-4b22-89ab-e2a1c42423b9",
   "metadata": {
    "tags": []
   },
   "outputs": [],
   "source": [
    "# Usando Python\n",
    "n = len(y)\n",
    "ym = sum(y) / n\n",
    "(sum((i - ym)**2 for i in y) / (n - 1))**(0.5)"
   ]
  },
  {
   "cell_type": "code",
   "execution_count": null,
   "id": "e8d5130f-12c0-4c03-8d34-67c9300efb64",
   "metadata": {
    "tags": []
   },
   "outputs": [],
   "source": [
    "# Usando statistics\n",
    "statistics.stdev(y)"
   ]
  },
  {
   "cell_type": "code",
   "execution_count": null,
   "id": "e161ff05-80dd-455f-b40d-cb73be3b3328",
   "metadata": {
    "tags": []
   },
   "outputs": [],
   "source": [
    "# Usando numpy\n",
    "y.std(ddof=1)"
   ]
  },
  {
   "cell_type": "code",
   "execution_count": null,
   "id": "f6c73a22-5316-48bf-b20e-3f61ef9247bb",
   "metadata": {
    "tags": []
   },
   "outputs": [],
   "source": [
    "# Usando pandas\n",
    "df.y.std()"
   ]
  },
  {
   "cell_type": "markdown",
   "id": "d997f13f-8672-42dd-81f8-9cbd05e34c14",
   "metadata": {},
   "source": [
    "### Asimetría estadística (*Skewness*)\n",
    "\n",
    "Mide la asimetría de la muestra de los datos. Existen varias definiciones. Para cada biblioteca revise la documentación.\n"
   ]
  },
  {
   "cell_type": "code",
   "execution_count": null,
   "id": "6f46e212-9031-4064-a6e2-c720a5cba6b7",
   "metadata": {
    "tags": []
   },
   "outputs": [],
   "source": [
    "# Usando scipy\n",
    "scipy.stats.skew(y, bias=False)"
   ]
  },
  {
   "cell_type": "code",
   "execution_count": null,
   "id": "af67882a-6776-4aac-ad99-4db6b57f7d2b",
   "metadata": {
    "tags": []
   },
   "outputs": [],
   "source": [
    "# Usando pandas\n",
    "df.y.skew()"
   ]
  },
  {
   "cell_type": "markdown",
   "id": "b6716c63-bfb5-46a2-bf93-c094ddab3a0b",
   "metadata": {},
   "source": [
    "### Cuantiles, cuartiles, percentiles\n",
    "\n",
    "Los cuantiles son puntos tomados a intervalos regulares de la función de distribución de una variable aleatoria. \n",
    "\n",
    "Los cuartiles, que dividen a la distribución en cuatro partes (corresponden a los cuantiles 0.25; 0.50 y 0.75).\n",
    "\n",
    "Los percentiles, que dividen a la distribución en cien partes.\n",
    "\n",
    "Suele definirse también los deciles (diez partes), quintiles (cinco partes), octiles (ocho partes) \n"
   ]
  },
  {
   "cell_type": "code",
   "execution_count": null,
   "id": "cff60e77-7b65-4f24-9cf7-a608685d81f4",
   "metadata": {
    "tags": []
   },
   "outputs": [],
   "source": [
    "np.sort(y)"
   ]
  },
  {
   "cell_type": "code",
   "execution_count": null,
   "id": "03b504d8-ab18-4d44-ae31-80d2c6a6a7ae",
   "metadata": {
    "tags": []
   },
   "outputs": [],
   "source": [
    "# Usando statistics\n",
    "statistics.quantiles(y, n=2)"
   ]
  },
  {
   "cell_type": "code",
   "execution_count": null,
   "id": "ee845931-9ea0-4477-bdb5-1c2298cb0a88",
   "metadata": {
    "tags": []
   },
   "outputs": [],
   "source": [
    "statistics.quantiles(y, n=4) # cuartiles"
   ]
  },
  {
   "cell_type": "code",
   "execution_count": null,
   "id": "25c89a59-4df1-4a1d-8c00-bfdad00be8d4",
   "metadata": {
    "tags": []
   },
   "outputs": [],
   "source": [
    "statistics.quantiles(y, n=5) # quintiles"
   ]
  },
  {
   "cell_type": "code",
   "execution_count": null,
   "id": "c09f3236-eda0-41a6-af4d-1bb6b941c158",
   "metadata": {
    "tags": []
   },
   "outputs": [],
   "source": [
    "# Usando numpy\n",
    "np.percentile(y, [25, 50, 75], method='normal_unbiased')"
   ]
  },
  {
   "cell_type": "code",
   "execution_count": null,
   "id": "8c049212-9567-4f56-b153-9ab3ba4056d6",
   "metadata": {
    "tags": []
   },
   "outputs": [],
   "source": [
    "np.quantile(y, [0.25, 0.50, 0.75], method='normal_unbiased')"
   ]
  },
  {
   "cell_type": "code",
   "execution_count": null,
   "id": "d22d4347-0032-4901-8d30-2f325466732b",
   "metadata": {
    "tags": []
   },
   "outputs": [],
   "source": [
    "# Usando pandas\n",
    "df.y.quantile([0.25, 0.50, 0.75])"
   ]
  },
  {
   "cell_type": "markdown",
   "id": "6d2f6fb0-cbc2-45b4-a55b-84f59979c65d",
   "metadata": {},
   "source": [
    "### Rangos\n",
    "\n",
    "El rango de los datos es la diferencia entre el elemento mínimo y máximo."
   ]
  },
  {
   "cell_type": "code",
   "execution_count": null,
   "id": "f716fd4a-59b7-4468-b015-0ca32aa979dd",
   "metadata": {
    "tags": []
   },
   "outputs": [],
   "source": [
    "np.ptp(y)"
   ]
  },
  {
   "cell_type": "markdown",
   "id": "32776144-f8d1-4e65-9c5c-d662650170db",
   "metadata": {},
   "source": [
    "### Resumen de datos estadísticos"
   ]
  },
  {
   "cell_type": "code",
   "execution_count": null,
   "id": "ae59bae0-ccf0-445e-b9d8-b8264d8af8ff",
   "metadata": {
    "tags": []
   },
   "outputs": [],
   "source": [
    "# Usando scipy\n",
    "scipy.stats.describe(y, ddof=1, bias=False)"
   ]
  },
  {
   "cell_type": "code",
   "execution_count": null,
   "id": "9625fc00-913d-45d1-85d4-7d759fdcd05e",
   "metadata": {
    "tags": []
   },
   "outputs": [],
   "source": [
    "df.y.describe()"
   ]
  },
  {
   "cell_type": "markdown",
   "id": "946d2480-5c00-43a8-934a-2485a9a2855f",
   "metadata": {},
   "source": [
    "## Medidas de correlación\n",
    "\n",
    "La correlación, en estadística, es una medida de la relación o asociación entre dos o más variables. Describe hasta qué punto estas variables cambian juntas, es decir, si una tiende a aumentar o disminuir a medida que la otra cambia. Entonces, la correlación permite identificar patrones y relaciones entre variables. En algunos casos, la correlación puede usarse para predecir el valor de una variable basándose en el valor de otra.\n",
    "\n",
    "**La correlación no implica causalidad, solo indica una relación estadística**.  Además, no puede detectar relaciones curvilíneas o valores atípicos que puedan sesgar los resultados. \n",
    "\n",
    "\n",
    "El **coeficiente de correlación**, es una medida numérica que indica la fuerza y dirección de la relación entre las variables.\n",
    "\n",
    "**Tipos de correlación**.\n",
    "\n",
    "* Correlación positiva: Cuando ambas variables tienden a aumentar o disminuir juntas. \n",
    "* Correlación negativa: Cuando una variable tiende a aumentar y la otra a disminuir, y viceversa. \n",
    "* Correlación nula o débil: Cuando no hay una relación lineal aparente entre las variables. \n",
    "\n",
    "**Ejemplos**.\n",
    "\n",
    "* La cantidad de lluvia y la altura de los ríos (correlación positiva).\n",
    "* El precio de un producto y la demanda del mismo (correlación negativa).\n",
    "* La estatura de una persona y el número de amigos que tiene (correlación nula o débil). "
   ]
  },
  {
   "cell_type": "code",
   "execution_count": null,
   "id": "8a9bed29-ac6a-44fe-b8ce-6517b3a31b14",
   "metadata": {
    "tags": []
   },
   "outputs": [],
   "source": [
    "# Correlación positiva\n",
    "plt.scatter(x,y)"
   ]
  },
  {
   "cell_type": "code",
   "execution_count": null,
   "id": "603b5c6b-202f-4ead-83bb-bc60b8dd9963",
   "metadata": {
    "tags": []
   },
   "outputs": [],
   "source": [
    "# Correlación negativa\n",
    "plt.scatter(np.flip(x),y)"
   ]
  },
  {
   "cell_type": "code",
   "execution_count": null,
   "id": "f0ab624d-a5ef-489b-bf26-873a503dffbc",
   "metadata": {
    "tags": []
   },
   "outputs": [],
   "source": [
    "# Correlación débil\n",
    "z = np.random.rand(len(y))\n",
    "plt.scatter(z,y)"
   ]
  },
  {
   "cell_type": "markdown",
   "id": "be2643a5-f87f-4ff4-b52a-1ea315d96d06",
   "metadata": {},
   "source": [
    "### Covarianza muestral.\n",
    "\n",
    "Cuantifica la fuerza y dirección de una relación entre dos variables. Es el dato básico para determinar si existe una dependencia entre ambas variables y además es el dato necesario para estimar otros parámetros básicos, como el coeficiente de correlación lineal o la recta de regresión. \n",
    "\n",
    "$$\n",
    "S_{xy} = \\frac{1}{n-1} \\sum_{i=1}^{n} (x_i - \\bar{x})(y_i - \\bar{y})\n",
    "$$\n",
    "\n",
    "* Si $S_{xy}>{0}$ hay dependencia directa (positiva), es decir, a grandes valores de $x$ corresponden grandes valores de $y$.\n",
    "\n",
    "* Si $S_{xy}={0}$ se interpreta como la no existencia de una relación lineal entre las dos variables.\n",
    "\n",
    "* Si $S_{xy}<{0}$ hay dependencia inversa (negativa), es decir, a grandes valores de $x$ corresponden pequeños valores de $y$."
   ]
  },
  {
   "cell_type": "code",
   "execution_count": null,
   "id": "523ad529-3132-4938-a67c-a71968c34152",
   "metadata": {
    "tags": []
   },
   "outputs": [],
   "source": [
    "np.cov(x,y)"
   ]
  },
  {
   "cell_type": "markdown",
   "id": "d8bf9275-70b0-490b-a4bd-a3453d742fc4",
   "metadata": {},
   "source": [
    "* El primer elemento del primer renglón es la varianza de $x$, el segundo elemento de ese renglón es la covarianza $S_{xy}$.\n",
    "\n",
    "* El primer elemento del segundo renglón es la covarianza $S_{xy}$, el segundo elemento de ese renglón es la varianza de $y$.\n",
    "\n",
    "Observa que $S_{xy} > 0$."
   ]
  },
  {
   "cell_type": "code",
   "execution_count": null,
   "id": "304d70ad-a3ff-46cb-978b-17fb20d81108",
   "metadata": {
    "tags": []
   },
   "outputs": [],
   "source": [
    "# Covarianza negativa\n",
    "np.cov(np.flip(x),y)"
   ]
  },
  {
   "cell_type": "code",
   "execution_count": null,
   "id": "9bcfd70d-b661-4ea0-a8a2-8c6cd07a9bea",
   "metadata": {
    "tags": []
   },
   "outputs": [],
   "source": [
    "# Covarianza cercana a cero.\n",
    "np.cov(z,y)"
   ]
  },
  {
   "cell_type": "code",
   "execution_count": null,
   "id": "40a51e39-259c-4546-80e7-af39cb597225",
   "metadata": {
    "tags": []
   },
   "outputs": [],
   "source": [
    "# Usando pandas\n",
    "df.y.cov(df.x)"
   ]
  },
  {
   "cell_type": "markdown",
   "id": "704110c5-1144-4c2b-bfde-30655a1305d4",
   "metadata": {},
   "source": [
    "### Coeficiente de correlación \n",
    "\n",
    "El coeficiente de correlación, o coeficiente de correlación producto-momento de Pearson, se denota con el símbolo $r$ (también con $\\rho_{xy}$) y es otra medida de la correlación entre los datos. A diferencia de la covarianza, la correlación de Pearson es independiente de la escala de medida de las variables, se puede pensar como una covarianza estandarizada.\n",
    "\n",
    "$$\n",
    "\\rho_{xy} = \\frac{S_{xy}}{\\sigma_x \\sigma_y}\n",
    "$$\n",
    "\n",
    "De manera menos formal, podemos definir el coeficiente de correlación de Pearson como un índice que puede utilizarse para medir el grado de relación de dos variables siempre y cuando ambas sean cuantitativas y continuas. \n",
    "\n",
    "* $r > 0$ indica una correlación positiva.\n",
    "* $r < 0$ indica una correlación negativa.\n",
    "* $r = 1$ es el valor máximo y corresponde a una relación positiva lineal.\n",
    "* $r = -1$ es el valor mínimo y corresponde a una relación negativa lineal.\n",
    "* $r \\approx 0$ indicar una correlación débil.\n",
    "\n",
    "La correlación entre dos variables no implica, por sí misma, ninguna relación de causalidad. Por ejemplo, los ingresos y gastos de una familia, la producción y ventas de una fábrica, los gastos en publicidad y beneficios de una empresa. "
   ]
  },
  {
   "cell_type": "code",
   "execution_count": null,
   "id": "ccd5010e-0183-48ff-bcf6-ef255367b08a",
   "metadata": {
    "tags": []
   },
   "outputs": [],
   "source": [
    "# Usando scipy. Correlación positiva\n",
    "scipy.stats.pearsonr(x, y)"
   ]
  },
  {
   "cell_type": "markdown",
   "id": "9c1a98e6-1023-4870-bb14-44ea38563abf",
   "metadata": {},
   "source": [
    "**P-value**.\n",
    "\n",
    "El p-value (valor-p) es una medida estadística que nos ayuda a decidir si los resultados de un experimento son estadísticamente significativos.\n",
    "\n",
    "Si p-value es pequeño (por ejemplo, $< 0.05$), rechazamos $H_0$, por lo tanto los resultados son estadísticamente significativos.\n",
    "\n",
    "Si p-value es grande (por ejemplo, $> 0.05$), no tenemos evidencia suficiente para rechazar $H_0$.\n",
    "\n",
    "¿Pero qué es $H_0$?\n",
    "\n",
    "Hipótesis nula ($H_0$): Es una afirmación que asume que no hay efecto o no hay diferencia. Por ejemplo: \"El nuevo medicamento no mejora la salud más que el placebo.\"\n",
    "\n",
    "Hipótesis alternativa ($H_1$): Es la afirmación opuesta a la hipótesis nula: \"El medicamento sí mejora la salud.\"\n"
   ]
  },
  {
   "cell_type": "code",
   "execution_count": null,
   "id": "20cdf24b-9605-4ff2-883c-1a4acb1d2096",
   "metadata": {},
   "outputs": [],
   "source": [
    "from scipy.stats import binomtest\n",
    "\n",
    "# Parámetros del experimento\n",
    "caras_obtenidas = 60\n",
    "lanzamientos = 100\n",
    "probabilidad_esperada = 0.5  # moneda justa\n",
    "\n",
    "# Prueba binomial (H0: la moneda es justa)\n",
    "test = binomtest(caras_obtenidas, lanzamientos, probabilidad_esperada)\n",
    "\n",
    "print(f\"Valor-p: {test.pvalue:5.4f}\")\n",
    "\n",
    "# Interpretación\n",
    "if test.pvalue < 0.05:\n",
    "    print(\"Rechazamos la hipótesis nula: la moneda probablemente no es justa.\")\n",
    "else:\n",
    "    print(\"No se rechaza la hipótesis nula: no hay evidencia suficiente para decir que la moneda no es justa.\")"
   ]
  },
  {
   "cell_type": "code",
   "execution_count": null,
   "id": "21aac4b3-aec2-47ae-938a-8b072b616fd8",
   "metadata": {
    "tags": []
   },
   "outputs": [],
   "source": [
    "# Usando scipy. Correlación negativa\n",
    "scipy.stats.pearsonr(np.flip(x), y)"
   ]
  },
  {
   "cell_type": "code",
   "execution_count": null,
   "id": "cf718fd7-5b16-44fb-a223-647da80cda22",
   "metadata": {
    "tags": []
   },
   "outputs": [],
   "source": [
    "# Usando scipy. Correlación débil\n",
    "scipy.stats.pearsonr(z, y)"
   ]
  },
  {
   "cell_type": "code",
   "execution_count": null,
   "id": "96a44a06-bdfc-4f7c-aad2-1bc8970e107a",
   "metadata": {
    "tags": []
   },
   "outputs": [],
   "source": [
    "# Usando numpy\n",
    "np.corrcoef(x, y)"
   ]
  },
  {
   "cell_type": "code",
   "execution_count": null,
   "id": "4d2fe777-ea32-4a39-bb27-bc13652fa278",
   "metadata": {
    "tags": []
   },
   "outputs": [],
   "source": [
    "np.corrcoef(np.flip(x), y )"
   ]
  },
  {
   "cell_type": "code",
   "execution_count": null,
   "id": "37d3f5d0-5a30-4853-ab0a-f2261395d786",
   "metadata": {
    "tags": []
   },
   "outputs": [],
   "source": [
    "np.corrcoef(z,y)"
   ]
  },
  {
   "cell_type": "code",
   "execution_count": null,
   "id": "c1182625-e2b4-450c-a4ba-82ca76a55b15",
   "metadata": {
    "tags": []
   },
   "outputs": [],
   "source": [
    "# Usando pandas\n",
    "df.y.corr(df.x)"
   ]
  },
  {
   "cell_type": "code",
   "execution_count": null,
   "id": "f43bd073-3314-4f73-9216-e3f91bd5a9dd",
   "metadata": {
    "tags": []
   },
   "outputs": [],
   "source": [
    "# Usando scipy\n",
    "lres = scipy.stats.linregress(x, y)\n",
    "lres"
   ]
  },
  {
   "cell_type": "code",
   "execution_count": null,
   "id": "a0a0dcce-1b78-46bc-945f-385e55c128c9",
   "metadata": {
    "tags": []
   },
   "outputs": [],
   "source": [
    "print(lres.slope)\n",
    "print(lres.intercept)\n",
    "print(lres.rvalue)\n",
    "print(lres.pvalue)"
   ]
  },
  {
   "cell_type": "markdown",
   "id": "b292b50c-d57b-4aa4-8332-eb5ec8c658a7",
   "metadata": {},
   "source": [
    "## Regresión lineal.\n",
    "\n",
    "La regresión lineal es un método estadístico usado para modelar la relación entre una variable dependiente $y$ y una o más variables independientes $x$. El objetivo es encontrar una línea recta que mejor se ajuste a los datos.\n",
    "\n",
    "La forma general de la regresión lineal simple es: $y = mx + b$\n",
    "\n",
    "donde $y$ variable dependiente (lo que queremos predecir), $x$ variable independiente, $m$ es la pendiente de la recta (cuánto cambia $y$ por cada unidad que cambia $x$) y $b$ es la ordenada al origen (valor de $y$ cuando $x=0$)."
   ]
  },
  {
   "cell_type": "code",
   "execution_count": null,
   "id": "83affc00-2f87-4af6-a86a-cedfabbbbf03",
   "metadata": {
    "tags": []
   },
   "outputs": [],
   "source": [
    "# Regresión lineal usando scipy.stats.linregress\n",
    "\n",
    "# Ecuación de la recta\n",
    "y_lr = lambda x: lres.slope * x + lres.intercept\n",
    "\n",
    "# Variable independiente para dibujar la línea recta.\n",
    "x_lr = np.linspace(0,L,100) \n",
    "\n",
    "plt.scatter(x,y, fc='C1', ec='k', label='Datos')  # los datos\n",
    "plt.plot(x_lr, y_lr(x_lr), label='Regresión lineal') # el ajuste con la línea recta\n",
    "plt.legend()\n",
    "plt.show()"
   ]
  },
  {
   "cell_type": "markdown",
   "id": "8a7b526f-0edb-4acd-bd32-565682fc6a58",
   "metadata": {},
   "source": [
    "Scikit-learn es una biblioteca para aprendizaje automático de software libre para el lenguaje de programación Python. Incluye algoritmos para estadística básica, pero su mayor valor está en que provee herramientas para IA. Está diseñada para interoperar con las bibliotecas numéricas y científicas NumPy y SciPy. \n",
    "\n",
    "Podemos usarla para realizar una regresión lineal."
   ]
  },
  {
   "cell_type": "code",
   "execution_count": null,
   "id": "85b6c8b1-7a67-4c67-96fb-3d346d8352fa",
   "metadata": {
    "tags": []
   },
   "outputs": [],
   "source": [
    "from sklearn.linear_model import LinearRegression\n",
    "\n",
    "linear_model = LinearRegression() # Construimos el objeto para la regresión lineal.\n",
    "\n",
    "X, Y = x.reshape(-1,1),y.reshape(-1,1) # Necesitamos los datos en forma de columna\n",
    "\n",
    "linear_model.fit(X,Y) # Realizamos el ajuste\n",
    "\n",
    "print(linear_model.coef_) # Pendiente\n",
    "print(linear_model.intercept_) # Ordenada al origen\n",
    "print(linear_model.score(X,Y)) # Cuadrado de la correlación de Pearson."
   ]
  },
  {
   "cell_type": "markdown",
   "id": "3e59c575-ab3c-4403-a864-99fba2256f90",
   "metadata": {},
   "source": [
    "Evaluamos el modelo."
   ]
  },
  {
   "cell_type": "code",
   "execution_count": null,
   "id": "ca5cb1da-5553-4624-a302-d0e8975a5f48",
   "metadata": {
    "tags": []
   },
   "outputs": [],
   "source": [
    "XI = x_lr.reshape(-1,1)\n",
    "YP = linear_model.predict(XI)  # Se hace la predicción\n",
    "\n",
    "plt.scatter(x,y, fc='C1', ec='k', label='Datos')\n",
    "plt.plot(x_lr, YP, label='Regresión lineal')\n",
    "plt.legend()\n",
    "plt.show()"
   ]
  },
  {
   "cell_type": "markdown",
   "id": "c4ae01bd-701a-407f-97da-67cc9076b4cd",
   "metadata": {},
   "source": [
    "## Visualizando con Matplotlib y seaborn"
   ]
  },
  {
   "cell_type": "code",
   "execution_count": null,
   "id": "88104a24-ebce-411c-8619-cf5ecb79021a",
   "metadata": {
    "tags": []
   },
   "outputs": [],
   "source": [
    "import seaborn as sns\n",
    "sns.set_theme()"
   ]
  },
  {
   "cell_type": "code",
   "execution_count": null,
   "id": "aba9ca17-01a6-469f-b7a5-90d47cf65a87",
   "metadata": {
    "tags": []
   },
   "outputs": [],
   "source": [
    "print(x)\n",
    "print(y)"
   ]
  },
  {
   "cell_type": "markdown",
   "id": "07d41db1-5ef6-4d4e-88ec-55784508cc7c",
   "metadata": {},
   "source": [
    "### Boxplots"
   ]
  },
  {
   "cell_type": "code",
   "execution_count": null,
   "id": "f6b70274-d19d-4bdf-a897-9684a918f30c",
   "metadata": {
    "tags": []
   },
   "outputs": [],
   "source": [
    "w = np.random.randn(1000)\n",
    "fig, ax = plt.subplots()\n",
    "ax.boxplot([x, y, w], vert=False, showmeans=True, meanline=True,\n",
    "           tick_labels=('x', 'y', 'w'), patch_artist=True,\n",
    "           medianprops={'linewidth': 3, 'color': 'yellow'},\n",
    "           meanprops={'linewidth': 2, 'color': 'orange'})\n",
    "plt.show()"
   ]
  },
  {
   "cell_type": "markdown",
   "id": "b636c481-9d90-4d83-aba0-fc6eea90cd6b",
   "metadata": {},
   "source": [
    "### Histogramas"
   ]
  },
  {
   "cell_type": "code",
   "execution_count": null,
   "id": "8762b17d-c98b-46fc-bb1c-690d76b09477",
   "metadata": {
    "tags": []
   },
   "outputs": [],
   "source": [
    "hist, bin_edges = np.histogram(w, bins=10)\n",
    "print(hist)\n",
    "print(bin_edges)"
   ]
  },
  {
   "cell_type": "code",
   "execution_count": null,
   "id": "8825de31-dd1b-4068-a914-13f7a31bcf06",
   "metadata": {
    "tags": []
   },
   "outputs": [],
   "source": [
    "fig, ax = plt.subplots()\n",
    "ax.hist(w, bin_edges)\n",
    "ax.set_xlabel('w')\n",
    "ax.set_ylabel('Frequency')\n",
    "plt.show()"
   ]
  },
  {
   "cell_type": "markdown",
   "id": "8f29cb6e-5bdf-4b49-8463-40581c77204d",
   "metadata": {},
   "source": [
    "### Gráfica de barras"
   ]
  },
  {
   "cell_type": "code",
   "execution_count": null,
   "id": "7d46bdc5-4e9f-45e9-80f9-6ca64074fef0",
   "metadata": {
    "tags": []
   },
   "outputs": [],
   "source": [
    "etiquetas = np.arange(11)\n",
    "datos = np.random.randint(1, 11, size=11)\n",
    "errores = np.fabs(np.random.randn(11))\n",
    "\n",
    "fig, ax = plt.subplots()\n",
    "ax.bar(etiquetas, datos, yerr=errores)\n",
    "ax.set_xlabel('Etiquetas')\n",
    "ax.set_ylabel('Datos')\n",
    "ax.set_xticks(etiquetas)\n",
    "plt.show()"
   ]
  },
  {
   "cell_type": "markdown",
   "id": "dd014a6a-54d5-4d0b-aff1-e7bdadf90445",
   "metadata": {},
   "source": [
    "### Mapas de calor"
   ]
  },
  {
   "cell_type": "code",
   "execution_count": null,
   "id": "5fcd4671-ca5d-46cd-9b74-062edde5cc79",
   "metadata": {
    "tags": []
   },
   "outputs": [],
   "source": [
    "sns.heatmap(data=np.cov(x,y), annot=True, cmap='summer')"
   ]
  },
  {
   "cell_type": "code",
   "execution_count": null,
   "id": "e8f71420-5263-4023-9635-aded37dadfb9",
   "metadata": {
    "tags": []
   },
   "outputs": [],
   "source": [
    "z = np.random.rand(len(y))\n",
    "sns.heatmap(data=np.cov(y,z), annot=True, cmap='hot')"
   ]
  },
  {
   "cell_type": "code",
   "execution_count": null,
   "id": "85a82aec-37f4-4e4b-b549-bf796324dcd9",
   "metadata": {
    "tags": []
   },
   "outputs": [],
   "source": [
    "sns.displot(data=w, kde=True)"
   ]
  },
  {
   "cell_type": "code",
   "execution_count": null,
   "id": "d85433f7-74f2-4b8b-a117-9f5f7650f7e7",
   "metadata": {},
   "outputs": [],
   "source": []
  }
 ],
 "metadata": {
  "kernelspec": {
   "display_name": "Python 3 (ipykernel)",
   "language": "python",
   "name": "python3"
  },
  "language_info": {
   "codemirror_mode": {
    "name": "ipython",
    "version": 3
   },
   "file_extension": ".py",
   "mimetype": "text/x-python",
   "name": "python",
   "nbconvert_exporter": "python",
   "pygments_lexer": "ipython3",
   "version": "3.11.6"
  }
 },
 "nbformat": 4,
 "nbformat_minor": 5
}
