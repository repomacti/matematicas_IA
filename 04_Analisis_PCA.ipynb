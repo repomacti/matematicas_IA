{
 "cells": [
  {
   "cell_type": "markdown",
   "id": "f86d5014-0d47-4315-8a33-594e03d0f9c5",
   "metadata": {},
   "source": [
    "# Matemáticas para IA con Python.\n",
    "\n",
    " <p xmlns:cc=\"http://creativecommons.org/ns#\" xmlns:dct=\"http://purl.org/dc/terms/\"><a property=\"dct:title\" rel=\"cc:attributionURL\" href=\"https://github.com/luiggix/intro_MeIA_2023\">Matemáticas para IA con Python</a> by <span property=\"cc:attributionName\">Luis Miguel de la Cruz Salas</span> is licensed under <a href=\"http://creativecommons.org/licenses/by-nc-sa/4.0/?ref=chooser-v1\" target=\"_blank\" rel=\"license noopener noreferrer\" style=\"display:inline-block;\">CC BY-NC-SA 4.0<img style=\"height:22px!important;margin-left:3px;vertical-align:text-bottom;\" src=\"https://mirrors.creativecommons.org/presskit/icons/cc.svg?ref=chooser-v1\"><img style=\"height:22px!important;margin-left:3px;vertical-align:text-bottom;\" src=\"https://mirrors.creativecommons.org/presskit/icons/by.svg?ref=chooser-v1\"><img style=\"height:22px!important;margin-left:3px;vertical-align:text-bottom;\" src=\"https://mirrors.creativecommons.org/presskit/icons/nc.svg?ref=chooser-v1\"><img style=\"height:22px!important;margin-left:3px;vertical-align:text-bottom;\" src=\"https://mirrors.creativecommons.org/presskit/icons/sa.svg?ref=chooser-v1\"></a></p> "
   ]
  },
  {
   "cell_type": "markdown",
   "id": "26bf8d95-d637-4661-8c67-6751f6ec751b",
   "metadata": {},
   "source": [
    "# Análisis de Componentes Principales (PCA)"
   ]
  },
  {
   "cell_type": "markdown",
   "id": "b9ffc49f-f37a-4d36-9ac7-8e5a71fdf28e",
   "metadata": {},
   "source": [
    "## Entendiendo la varianza, la covarianza y la correlación\n",
    "\n",
    "Uno de los conceptos más recurrentes con el que te encuentras en estadística y aprendizaje automático es la **covarianza**.\n",
    "\n",
    "Muchos de los métodos de preprocesamiento o análisis predictivo, dependen de este elemento, por ejemplo para reducir dimensiones en los datos, realizar regresiones, detectar valores atípicos multivariados, entre otros. Conocer la covarianza puede proporcionar mucha más información sobre cómo resolver problemas de varias variables. \n",
    "\n",
    "Para entender mejor este concepto veamos primero lo que significa la **varianza**. Sabemos que la varianza representa la variación de valores en una sola variable y se esribe como sigue:\n",
    "\n",
    "$$\n",
    "\\sigma^2 = \\frac{1}{n-1} \\sum_{i}^{n}(x_i - \\bar{x})^2\n",
    "$$\n",
    "\n",
    "donde $x_i$ representan el conjunto de datos, para $i=1, \\dots, n$ y $\\bar{x}$ es la media muestral.\n",
    "\n",
    "Veamos un ejemplo:"
   ]
  },
  {
   "cell_type": "code",
   "execution_count": null,
   "id": "21c1d496-73be-42c0-92f3-dcf3cadd78b5",
   "metadata": {
    "tags": []
   },
   "outputs": [],
   "source": [
    "import numpy as np\n",
    "import pandas as pd\n",
    "import scipy\n",
    "import matplotlib.pyplot as plt\n",
    "import seaborn as sns\n",
    "from sklearn import datasets\n",
    "\n",
    "import macti.vis as mvis\n",
    "import macti.math as mmat"
   ]
  },
  {
   "cell_type": "code",
   "execution_count": null,
   "id": "95145d9a-3936-4a43-a9fa-fa41d3ab42bf",
   "metadata": {
    "tags": []
   },
   "outputs": [],
   "source": [
    "np.random.seed(0)\n",
    "\n",
    "N = 20 # cantidad de datos\n",
    "\n",
    "# Generación de un conjunto de datos\n",
    "x = np.array([i for i in range(N)])\n",
    "y = np.random.rand(N)*0.5-0.5\n",
    "z = np.random.randn(len(y))"
   ]
  },
  {
   "cell_type": "code",
   "execution_count": null,
   "id": "ae65469b-4eed-480e-8c45-07426fe02756",
   "metadata": {},
   "outputs": [],
   "source": [
    "print(x)\n",
    "print(y)\n",
    "print(z)"
   ]
  },
  {
   "cell_type": "code",
   "execution_count": null,
   "id": "bc64735d-9de4-4179-96c7-99eea728d382",
   "metadata": {
    "tags": []
   },
   "outputs": [],
   "source": [
    "print('Varianza baja: {}'.format(y.var(ddof=1)))\n",
    "\n",
    "plt.scatter(x, y, zorder=5)\n",
    "plt.ylim(-3,3)\n",
    "plt.xticks(x)\n",
    "plt.grid()\n",
    "plt.show()"
   ]
  },
  {
   "cell_type": "code",
   "execution_count": null,
   "id": "a754ae35-aeb7-4c84-8ea7-4d76696498f6",
   "metadata": {
    "tags": []
   },
   "outputs": [],
   "source": [
    "print('Varianza alta: {}'.format(z.var(ddof=1)))\n",
    "\n",
    "plt.scatter(x, z)\n",
    "plt.ylim(-3,3)\n",
    "plt.xticks(x)\n",
    "plt.grid()\n",
    "plt.show()"
   ]
  },
  {
   "cell_type": "markdown",
   "id": "0f9cec44-e27f-417d-bd7c-d9af406be9f6",
   "metadata": {},
   "source": [
    "La **covarianza** se calcula entre dos variables diferentes y su propósito es calcular cómo estas dos variables varian en conjunto. La covarianza se escribe como sigue:\n",
    "\n",
    "$$\n",
    "S_{xy} = \\frac{1}{n-1} \\sum_{i=1}^{n} (x_i - \\bar{x})(y_i - \\bar{y})\n",
    "$$\n",
    "\n",
    "El resultado del cálculo de la covarianza, se puede poner en forma de una matriz somo sigue:\n",
    "\n",
    "$$\n",
    "\\left[\n",
    "\\begin{array}{cc}\n",
    "S_{xx} & S_{xy} \\\\\n",
    "S_{xy} & S_{yy}\n",
    "\\end{array}\\right] =\n",
    "\\left[\n",
    "\\begin{array}{cc}\n",
    "cov(x,x) & cov(x,y) \\\\\n",
    "cov(y,x) & cov(y,y)\n",
    "\\end{array}\\right] = \n",
    "\\left[\n",
    "\\begin{array}{cc}\n",
    "var(x) & cov(x,y) \\\\\n",
    "cov(y,x) & var(y)\n",
    "\\end{array}\\right] =\n",
    "\\left[\n",
    "\\begin{array}{cc}\n",
    "\\sigma^2_{x} & S_{xy} \\\\\n",
    "S_{xy} & \\sigma^2_{y}\n",
    "\\end{array}\\right] \n",
    "$$\n",
    "\n",
    "Esta matriz es simétrica. Además, los términos de la diagonal se transforman en la varianza correspondiente.\n",
    "\n",
    "Definamos varios arreglos de datos y calculemos la covarianza entre ellos:"
   ]
  },
  {
   "cell_type": "code",
   "execution_count": null,
   "id": "fb9a2629-8801-4ee8-8d6c-b1e80dd92e7e",
   "metadata": {
    "tags": []
   },
   "outputs": [],
   "source": [
    "# Generación de un conjunto de datos\n",
    "x0 = np.linspace(0,10,N) \n",
    "y0 = x + np.random.randn(N)*2\n",
    "\n",
    "x1 = np.random.randn(len(y))*10\n",
    "y1 = np.random.randn(len(y))*10\n",
    "\n",
    "x2 = np.arange(0,N)*100\n",
    "y2 = -x2 + np.random.randn(N)*500"
   ]
  },
  {
   "cell_type": "code",
   "execution_count": null,
   "id": "69a13f08-b429-4a08-94a0-02e647a1ec94",
   "metadata": {
    "tags": []
   },
   "outputs": [],
   "source": [
    "print('Arreglo x :\\n{}'.format(x0))\n",
    "print('Arreglo y :\\n{}'.format(y0))\n",
    "\n",
    "print('Arreglo x1 :\\n{}'.format(x1))\n",
    "print('Arreglo y1 :\\n{}'.format(y1))\n",
    "\n",
    "print('Arreglo x2 :\\n{}'.format(x2))\n",
    "print('Arreglo y2 :\\n{}'.format(y2))"
   ]
  },
  {
   "cell_type": "code",
   "execution_count": null,
   "id": "18da5316-4a28-419f-ba86-6095f28227ea",
   "metadata": {
    "tags": []
   },
   "outputs": [],
   "source": [
    "plt.figure(figsize=(10,5))\n",
    "\n",
    "ax = plt.subplot(221)\n",
    "plt.scatter(x,y, fc='C1', ec='C0', alpha=0.75)\n",
    "plt.xlabel('$x$')\n",
    "plt.ylabel('$y$')\n",
    "plt.ylim(-5,5)\n",
    "\n",
    "ax0 = plt.subplot(222)\n",
    "plt.scatter(x0,y0, fc='C1', ec='C0', alpha=0.75)\n",
    "plt.xlabel('$x0$')\n",
    "plt.ylabel('$y0$')\n",
    "\n",
    "ax1 = plt.subplot(223)\n",
    "plt.scatter(x1,y1, fc='C3', ec='C0', alpha=0.75)\n",
    "plt.xlabel('$x1$')\n",
    "plt.ylabel('$y1$')\n",
    "\n",
    "ax2 = plt.subplot(224)\n",
    "plt.scatter(x2,y2, fc='C3', ec='C0', alpha=0.75)\n",
    "plt.xlabel('$x2$')\n",
    "plt.ylabel('$y2$')\n",
    "\n",
    "plt.tight_layout()\n",
    "plt.show()"
   ]
  },
  {
   "cell_type": "code",
   "execution_count": null,
   "id": "e9b7fe50-475f-4273-b041-3de69606a61c",
   "metadata": {
    "tags": []
   },
   "outputs": [],
   "source": [
    "A = np.cov(x,y)\n",
    "A"
   ]
  },
  {
   "cell_type": "code",
   "execution_count": null,
   "id": "bdc61bc3-22e6-44de-9fa5-05b44698a82a",
   "metadata": {
    "tags": []
   },
   "outputs": [],
   "source": [
    "A0 = np.cov(x0,y0)\n",
    "A0"
   ]
  },
  {
   "cell_type": "code",
   "execution_count": null,
   "id": "b4e75666-92bc-4ad7-b71d-a8e0a10ce133",
   "metadata": {
    "tags": []
   },
   "outputs": [],
   "source": [
    "A1 = np.cov(x1,y1)\n",
    "A1"
   ]
  },
  {
   "cell_type": "code",
   "execution_count": null,
   "id": "12be48d4-1941-49ea-b487-107980cf7b5a",
   "metadata": {
    "tags": []
   },
   "outputs": [],
   "source": [
    "A2 = np.cov(x2,y2)\n",
    "A2"
   ]
  },
  {
   "cell_type": "markdown",
   "id": "968aeede-5dbc-4314-8190-934302f0df28",
   "metadata": {},
   "source": [
    "La covariance solo nos proporciona información a cerca de la variación y dirección de la relación entre dos variables. \n",
    "\n",
    "Por otro lado la **correlación** está limitada entre $-1$ y $1$."
   ]
  },
  {
   "cell_type": "code",
   "execution_count": null,
   "id": "dd38d70e-9e22-4bca-b97f-be1ad06b4867",
   "metadata": {
    "tags": []
   },
   "outputs": [],
   "source": [
    "print(np.corrcoef(x, y))\n",
    "print(np.corrcoef(x0, y0))\n",
    "print(np.corrcoef(x1, y1))\n",
    "print(np.corrcoef(x2, y2))"
   ]
  },
  {
   "cell_type": "markdown",
   "id": "c9a3249a-704e-4346-a1d9-b8dc52482314",
   "metadata": {},
   "source": [
    "## Eigenvalores y eigenvectores de la covarianza\n",
    "\n",
    "Los eigenvalores y eigenvectores de la matriz de covarianza representan la magnitud de la dispersión en la dirección de las componentes principales. Recordemos que:\n",
    "\n",
    "$$\n",
    "A u = \\lambda u\n",
    "$$\n",
    "\n",
    "donde $A$ es la matriz, $u$ es un eigenvector y $\\lambda$ es un eigenvalor. \n",
    "\n",
    "Podemos por ejemplo, calcular los eigenvectores de las matrices de covarianza de los ejemplos anteriores:"
   ]
  },
  {
   "cell_type": "code",
   "execution_count": null,
   "id": "b2f325d3-7549-4990-b226-3500bc06e4ff",
   "metadata": {
    "tags": []
   },
   "outputs": [],
   "source": [
    "# Lo podemos hacer con np.linagl.eig()\n",
    "np.linalg.eig(A)"
   ]
  },
  {
   "cell_type": "markdown",
   "id": "ca37b6e5-9d7c-47d0-bbdc-d6f703b01d80",
   "metadata": {},
   "source": [
    "Usaremos las funciones `eigen_land()` y `print_Aulu()` que hemos definido en nuestro módulo `matem`."
   ]
  },
  {
   "cell_type": "code",
   "execution_count": null,
   "id": "14b74ac5-f0e7-4f0f-81f9-ae05c4f968e9",
   "metadata": {
    "tags": []
   },
   "outputs": [],
   "source": [
    "w, v = mmat.eigen_land(A)\n",
    "print()\n",
    "mmat.print_Aulu(A, w, v)"
   ]
  },
  {
   "cell_type": "code",
   "execution_count": null,
   "id": "105c8a76-b1fb-4917-ad81-a15bcd4b6c95",
   "metadata": {
    "tags": []
   },
   "outputs": [],
   "source": [
    "w0, v0 = mmat.eigen_land(A0)\n",
    "print()\n",
    "mmat.print_Aulu(A0, w0, v0)"
   ]
  },
  {
   "cell_type": "code",
   "execution_count": null,
   "id": "baa33f54-3b16-4b57-bded-27c78b6e05aa",
   "metadata": {
    "tags": []
   },
   "outputs": [],
   "source": [
    "w1, v1 = mmat.eigen_land(A1)\n",
    "print()\n",
    "mmat.print_Aulu(A1, w1, v1)"
   ]
  },
  {
   "cell_type": "code",
   "execution_count": null,
   "id": "319dc28c-1d23-4bc4-ab04-fd4b60656e65",
   "metadata": {
    "tags": []
   },
   "outputs": [],
   "source": [
    "w2, v2 = mmat.eigen_land(A2)\n",
    "print()\n",
    "mmat.print_Aulu(A2, w2, v2)"
   ]
  },
  {
   "cell_type": "markdown",
   "id": "aa0e6e3d-189f-4634-aac1-381f98c50d26",
   "metadata": {},
   "source": [
    "Vamos a graficar los eigenvectores con nuestra función `macti.vis.plot_vectors()`:"
   ]
  },
  {
   "cell_type": "code",
   "execution_count": null,
   "id": "9674fafe-df77-4ecf-8033-2b142db7fae9",
   "metadata": {},
   "outputs": [],
   "source": [
    "ax_par = [dict(title = 'v'),\n",
    "          dict(title = 'v0'),\n",
    "          dict(title = 'v1'),\n",
    "          dict(title = 'v2')]\n",
    "vis = mvis.Plotter(2,2, axis_par = ax_par)\n",
    "\n",
    "vis.plot_vectors(1, [v[:,0], v[:,1]], w=[0.030, 0.030])\n",
    "vis.plot_vectors(2, [v0[:,0], v0[:,1]], w=[0.040, 0.040])\n",
    "vis.plot_vectors(3, [v1[:,0], v1[:,1]], w=[0.030, 0.030])\n",
    "vis.plot_vectors(4, [v2[:,0], v2[:,1]], w=[0.0175, 0.0175])"
   ]
  },
  {
   "cell_type": "code",
   "execution_count": null,
   "id": "d38b6850-4b67-4c01-ad3b-6a1baaff63e7",
   "metadata": {},
   "outputs": [],
   "source": [
    "vis = mvis.Plotter(2,2, fig_par = dict(figsize = (7,7)), axis_par = ax_par)\n",
    "\n",
    "ax, ax0, ax1, ax2 = vis.axes(1), vis.axes(2), vis.axes(3), vis.axes(4)\n",
    "\n",
    "vis.plot_vectors(1, [v[:,0]*w[0]*0.3, v[:,1]*w[1]*0.3], \n",
    "                 baseline=np.array([[np.mean(x),np.mean(y)], [np.mean(x),np.mean(y)]]),\n",
    "                 w=[0.020, 0.030])\n",
    "vis.scatter(1, x, y, fc='C3', ec='C0', alpha=0.75)\n",
    "ax.set_ylim(-3, 3)\n",
    "ax.set_xlim(-1, 21)\n",
    "\n",
    "vis.plot_vectors(2, [v0[:,0]*w0[0]*0.25, v0[:,1]*w0[1]*0.25],\n",
    "                 baseline=np.array([[np.mean(x0),np.mean(y0)], [np.mean(x0),np.mean(y0)]]),\n",
    "                 w=[0.040, 0.040])    \n",
    "vis.scatter(2, x0,y0, fc='C3', ec='C0', alpha=0.75)\n",
    "ax0.set_ylim(-2, 21)\n",
    "ax0.set_xlim(-2, 12)\n",
    "                     \n",
    "vis.plot_vectors(3, [v1[:,0]*w1[0]*0.25, v1[:,1]*w1[1]*0.25],\n",
    "                 baseline=np.array([[np.mean(x1),np.mean(y1)], [np.mean(x1),np.mean(y1)]]),\n",
    "                 w=[0.020, 0.020])\n",
    "vis.scatter(3, x1,y1, fc='C3', ec='C0', alpha=0.75)\n",
    "ax1.set_ylim(-30, 30)\n",
    "ax1.set_xlim(-30, 30)\n",
    "\n",
    "vis.plot_vectors(4, [v2[:,0]*w2[0]*0.0025, v2[:,1]*w2[1]*0.0025], \n",
    "                 baseline=np.array([[np.mean(x2),np.mean(y2)], [np.mean(x2),np.mean(y2)]]), \n",
    "                 w=[0.0175, 0.0175])\n",
    "vis.scatter(4, x2,y2, fc='C3', ec='C0', alpha=0.75)\n",
    "ax2.set_ylim(-2500, 1000)\n",
    "ax2.set_xlim(-500, 2500)\n",
    "\n",
    "vis.show()"
   ]
  },
  {
   "cell_type": "markdown",
   "id": "2964c884-616c-48a2-8fed-6965180eebb9",
   "metadata": {},
   "source": [
    "**Recapitulando.**\n",
    "\n",
    "* Los eigenvalores de la matriz de covarianza representan la magnitud de la dispersión en la dirección de las componentes principales.\n",
    "* Cuando la covarianza es pequeña, los eigenvalores son muy parecidos a los valores de la varianza."
   ]
  },
  {
   "cell_type": "code",
   "execution_count": null,
   "id": "b4f9076a-9f52-42ae-8792-8bda2c820043",
   "metadata": {
    "tags": []
   },
   "outputs": [],
   "source": [
    "print('Matriz de covarianza: \\n {}'.format(A))\n",
    "print('Eigenvalores: \\n {}'.format(w))"
   ]
  },
  {
   "cell_type": "code",
   "execution_count": null,
   "id": "db96c948-da41-4b81-ab01-f049236018d1",
   "metadata": {
    "tags": []
   },
   "outputs": [],
   "source": [
    "print('Matriz de covarianza: \\n {}'.format(A0))\n",
    "print('Eigenvalores: \\n {}'.format(w0))"
   ]
  },
  {
   "cell_type": "code",
   "execution_count": null,
   "id": "cdb3d6c7-b056-46ae-b052-e70e0bcd8422",
   "metadata": {
    "tags": []
   },
   "outputs": [],
   "source": [
    "print('Matriz de covarianza: \\n {}'.format(A1))\n",
    "print('Eigenvalores: \\n {}'.format(w1))"
   ]
  },
  {
   "cell_type": "code",
   "execution_count": null,
   "id": "fd971ee7-4fac-4f52-8f9d-92bb433157bf",
   "metadata": {
    "tags": []
   },
   "outputs": [],
   "source": [
    "print('Matriz de covarianza: \\n {}'.format(A2))\n",
    "print('Eigenvalores: \\n {}'.format(w2))"
   ]
  },
  {
   "cell_type": "markdown",
   "id": "22b392b9-34db-406e-a133-70b3c1262d14",
   "metadata": {},
   "source": [
    "# Pasos para realizar *PCA*\n",
    "\n",
    "El Análisis de Componentes Principales (PCA por sus siglas en inglés) es un método para reducir la dimensionalidad de conjuntos de datos de gran tamaño. La idea es **transformar un conjunto de variables amplio en otro más reducido (componentes principales) que mantenga la mayor cantidad de información** y donde estas componentes están ordenadas según la cantidad de varianza.\n",
    "\n",
    "Supón que tienes datos en 10 dimensiones (10 variables). PCA encuentra combinaciones lineales de estas variables tales que:\n",
    "\n",
    "* Capturan la mayor parte de la varianza (información).\n",
    "\n",
    "* Son ortogonales entre sí (no están correlacionadas).\n",
    "\n",
    "**Aplicaciones**.\n",
    "\n",
    "* Visualización (por ejemplo, reducir de 10D a 2D o 3D).\n",
    "\n",
    "* Eliminar colinealidad entre variables.\n",
    "\n",
    "* Acelerar modelos de machine learning.\n",
    "\n",
    "* Encontrar las variables más relevantes.\n",
    "\n",
    "Veamos como se realiza un PCA paso a paso.\n",
    "\n",
    "## Paso 1. Estandarización.\n",
    "\n",
    "La estandarización de variables, también conocida como normalización, implica transformar los valores de una variable para que tengan una media de cero y una desviación estándar de uno. Esto se logra restando la media de la variable a cada valor y dividiendo por la desviación estándar.\n",
    "\n",
    "$$\n",
    "z = \\frac{x - \\bar{x}}{\\sigma_x}\n",
    "$$\n",
    "\n",
    "donde $x$ representan los datos, $\\bar{x}$ la media y $\\sigma_x$ la desviación estándar.\n",
    "\n",
    "Esta es conocida como la estandarización Z y es útil cuando se desea comparar variables que están en diferentes escalas o unidades. Al estandarizar las variables, se eliminan las diferencias en las escalas y se asegura que todas las variables tengan la misma escala relativa.\n",
    "\n",
    "Por ejemplo, si tienes un conjunto de variables con diferentes unidades de medida, como peso en kilogramos y altura en metros, puedes estandarizar ambas variables para que sean comparables y no se vean afectadas por las diferencias en las unidades.\n",
    "\n",
    "Existen varios métodos para estandarizar los datos, véase por ejemplo [Cómo estandarizar variables](https://www.kaggle.com/code/manuelmartinrivas/c-mo-estandarizar-variables/notebook).\n",
    "\n",
    "Hagamos esta estandarización con uno de los ejemplos anteriores."
   ]
  },
  {
   "cell_type": "code",
   "execution_count": null,
   "id": "f9d39a5a-1620-49a7-ade2-bf8de6f77de0",
   "metadata": {
    "tags": []
   },
   "outputs": [],
   "source": [
    "print('datos: \\n\\n x0 = {} \\n\\n y0 = {}'.format(x0, y0))"
   ]
  },
  {
   "cell_type": "markdown",
   "id": "2adbebcd-5170-4c69-b607-4ceac0b82238",
   "metadata": {},
   "source": [
    "El método `scipy.stats.zscore()` realiza este la estandarización Z:"
   ]
  },
  {
   "cell_type": "code",
   "execution_count": null,
   "id": "264fa252-4440-4ab0-ab05-d881bedb6d69",
   "metadata": {
    "tags": []
   },
   "outputs": [],
   "source": [
    "z_x0 = scipy.stats.zscore(x0)\n",
    "z_y0 = scipy.stats.zscore(y0)\n",
    "print('datos estandarizados: \\n\\n z_x0 = {} \\n\\n z_y0 = {}'.format(z_x0, z_y0))"
   ]
  },
  {
   "cell_type": "code",
   "execution_count": null,
   "id": "d9ad426e-69ac-46ff-88f6-a93d4dc598e4",
   "metadata": {},
   "outputs": [],
   "source": [
    "print(f\"z_x0: Media = {np.mean(z_x0):5.4f}, 𝜎 = {z_x0.std():5.4f}\")\n",
    "print(f\"z_y0: Media = {np.mean(z_y0):5.4f}, 𝜎 = {z_y0.std():5.4f}\")"
   ]
  },
  {
   "cell_type": "code",
   "execution_count": null,
   "id": "634e7001-8a74-457e-b594-98748c9ae81f",
   "metadata": {},
   "outputs": [],
   "source": [
    "vis = mvis.Plotter(1, 2, fig_par = dict(figsize = (10,5)))\n",
    "ax, ax0 = vis.axes(1), vis.axes(2)\n",
    "   \n",
    "vis.scatter(1, x0,y0, fc='C3', ec='C0', alpha=0.75)\n",
    "ax.set_xlabel('$x0$')\n",
    "ax.set_ylabel('$y0$')\n",
    "ax.set_title('Datos originales')\n",
    "\n",
    "vis.scatter(2, z_x0, z_y0, fc='C3', ec='C0', alpha=0.75)\n",
    "ax0.set_xlabel('$z\\_x_0$')\n",
    "ax0.set_ylabel('$z\\_y_0$')\n",
    "ax0.set_title('Datos estandarizados')\n",
    "\n",
    "plt.tight_layout()\n",
    "vis.show()"
   ]
  },
  {
   "cell_type": "markdown",
   "id": "ca1a3296-a35d-46d7-b8f3-3142062ffc05",
   "metadata": {},
   "source": [
    "## Paso 2. Eigenvalores de la matriz de covarianza\n",
    "\n",
    "Ahora calculamos los eigenvalores y eigenvectores de la matriz de covarianza de los datos estandarizados para encontrar las componentes principales."
   ]
  },
  {
   "cell_type": "code",
   "execution_count": null,
   "id": "e40cbc55-1901-4225-8b57-edb04df67965",
   "metadata": {
    "tags": []
   },
   "outputs": [],
   "source": [
    "As = np.cov(z_x0, z_y0)\n",
    "ws, vs = mmat.eigen_land(As)\n",
    "print()\n",
    "mmat.print_Aulu(As, ws, vs)"
   ]
  },
  {
   "cell_type": "code",
   "execution_count": null,
   "id": "f1a4fd52-39e6-49ab-8841-75673700a0a2",
   "metadata": {},
   "outputs": [],
   "source": [
    "vis = mvis.Plotter(1, 2, fig_par = dict(figsize = (10,5)))\n",
    "ax, ax0 = vis.axes(1), vis.axes(2)\n",
    "\n",
    "vis.plot_vectors(1, [v0[:,0]*w0[0]*0.25, v0[:,1]*w0[1]*0.25],\n",
    "                 baseline=np.array([[np.mean(x0),np.mean(y0)], [np.mean(x0),np.mean(y0)]]),\n",
    "                 w=[0.030, 0.030])    \n",
    "vis.scatter(1, x0,y0, fc='C3', ec='C0', alpha=0.75)\n",
    "ax.set_ylim(-2, 21)\n",
    "ax.set_xlim(-2, 12)\n",
    "ax.set_xlabel('$x0$')\n",
    "ax.set_ylabel('$y0$')\n",
    "ax.set_title('Datos originales')\n",
    "\n",
    "vis.plot_vectors(2, [vs[:,0]*ws[0], vs[:,1]*ws[1]],\n",
    "                 baseline=np.array([[np.mean(z_x0),np.mean(z_y0)], [np.mean(z_x0),np.mean(z_y0)]]),\n",
    "                 w=[0.020, 0.020])    \n",
    "vis.scatter(2, z_x0, z_y0, fc='C3', ec='C0', alpha=0.75)\n",
    "ax0.set_ylim(-2, 2.5)\n",
    "ax0.set_xlim(-2, 2)\n",
    "ax0.set_xlabel('$z\\_x_0$')\n",
    "ax0.set_ylabel('$z\\_y_0$')\n",
    "ax0.set_title('Datos estandarizados')"
   ]
  },
  {
   "cell_type": "markdown",
   "id": "68f22d14-7f16-403f-af14-794a38cfc454",
   "metadata": {},
   "source": [
    "## Paso 3. Porcentaje de varianza.\n",
    "\n",
    "Calculamos el porcentaje de varianza de cada componente, es decir la información que contiene: \n",
    "$$\\text{Porcentaje de varianza} = \\frac{\\lambda_i}{\\sum_{i} \\lambda_i}$$"
   ]
  },
  {
   "cell_type": "code",
   "execution_count": null,
   "id": "da3f6b47-75fd-4953-baee-4d7ed84f27c7",
   "metadata": {
    "tags": []
   },
   "outputs": [],
   "source": [
    "# Recordemos que ws contiene los eigenvalores\n",
    "pv = [l / np.sum(ws) for l in ws]\n",
    "pv"
   ]
  },
  {
   "cell_type": "markdown",
   "id": "22b4b41c-bf7b-419a-a826-76319c35c3b9",
   "metadata": {
    "tags": []
   },
   "source": [
    "Observa que la primera componente (primer eigenvalor) contiene el 97% de toda la información, mientas que la segunda\n",
    "(segundo eigenvalor) solo contiene aproximadamente el 2.9% ."
   ]
  },
  {
   "cell_type": "markdown",
   "id": "b1392437-29b5-48b8-997a-be562a794f7a",
   "metadata": {},
   "source": [
    "## Paso 4. Vector de características (*Feature vector*)\n",
    "\n",
    "Con el cálculo anterior podemos decidir si mantenemos o no toda la información. Es posible formar una matriz cuyas columnas sean los eigenvectores que decidamos mantener. Los eigenvectores se ordenan de mayor a menor significancia, con base en su eigenvalor.\n",
    "\n",
    "Esto nos dirige hacia la reducción de dimensiones, si tenemos originalmente $n$ dimensiones y decidimos solo mantener $p$ de ellas, con $p<n$, entonces reducimos la dimensionalidad en $n-p$ dimensiones. \n",
    "\n",
    "En nuestro ejemplo, si mantenemos toda la información tendríamos:"
   ]
  },
  {
   "cell_type": "code",
   "execution_count": null,
   "id": "1ed48340-818e-49c9-a161-d92acb8e2f42",
   "metadata": {
    "tags": []
   },
   "outputs": [],
   "source": [
    "fv = np.array([vs[:,0], vs[:,1]]).T\n",
    "fv"
   ]
  },
  {
   "cell_type": "markdown",
   "id": "8283d91d-4a55-4722-a996-93c6d62bb79e",
   "metadata": {},
   "source": [
    "Pero si decidimos eliminar la segunda componente tendríamos:"
   ]
  },
  {
   "cell_type": "code",
   "execution_count": null,
   "id": "02cccef0-a7a3-4fc7-991d-8ecbcc16ca85",
   "metadata": {
    "tags": []
   },
   "outputs": [],
   "source": [
    "fv = np.array([vs[:,0]]).T\n",
    "fv"
   ]
  },
  {
   "cell_type": "markdown",
   "id": "87b0ea6b-3b74-42b7-b97c-66acf46a1c58",
   "metadata": {},
   "source": [
    "## Paso 5. Reducción de la dimensionalidad\n",
    "\n",
    "Usando el vector de características podemos hacer una proyección hacia el número de dimensiones reducidas mediante la siguiente operación:\n",
    "\n",
    "$$\n",
    "A_r = A_s \\cdot f_v\n",
    "$$\n",
    "\n",
    "donde:\n",
    "* $A_s$ es una matriz de datos, cuyas columnas son los datos originales estandarizados. Esta matriz es de tamaño $n \\times v$, con $n$ el número de muestras y $v$ el número de variables.\n",
    "\n",
    "* $f_v$ es el vector de características, cuyas columnas son los eigenvectores ordenados de acuerdo con su eigenvalor de mayor a menor. Esta es una matriz de tamaño $v \\times nc$ con $nc$ el número de componentes que deseamos mantener.\n",
    "\n",
    "* $A_r$ es la matriz de datos reducida, cuyas columnas contienen los datos reducidos. Esta es una matriz de $n \\times nc$, cuya dimensión ha sido reducida."
   ]
  },
  {
   "cell_type": "code",
   "execution_count": null,
   "id": "d4d67cb5-5c59-412b-9255-4983523cabf0",
   "metadata": {
    "tags": []
   },
   "outputs": [],
   "source": [
    "# matriz de datos estandarizados\n",
    "sdata = np.array([z_x0, z_y0]).T\n",
    "print(sdata.shape)\n",
    "sdata"
   ]
  },
  {
   "cell_type": "code",
   "execution_count": null,
   "id": "d649b271-2662-4438-b977-56f8d16def0e",
   "metadata": {
    "tags": []
   },
   "outputs": [],
   "source": [
    "# Feature vector\n",
    "print(fv.shape)\n",
    "fv"
   ]
  },
  {
   "cell_type": "code",
   "execution_count": null,
   "id": "80a9ed9b-04cd-4910-a072-b917f758fd6a",
   "metadata": {
    "tags": []
   },
   "outputs": [],
   "source": [
    "# matriz de datos reducidos\n",
    "rdata = np.dot(sdata, fv)\n",
    "print(rdata.shape)\n",
    "rdata"
   ]
  },
  {
   "cell_type": "code",
   "execution_count": null,
   "id": "35d796d4-bc7f-47e3-9262-be399167d531",
   "metadata": {},
   "outputs": [],
   "source": [
    "vis = mvis.Plotter(1, 2, fig_par = dict(figsize = (10,5)))\n",
    "ax0, ax1 = vis.axes(1), vis.axes(2)\n",
    "  \n",
    "vis.scatter(1, z_x0, z_y0, fc='C3', ec='C0', alpha=0.75)\n",
    "ax0.set_xlabel('$z\\_x_0$')\n",
    "ax0.set_ylabel('$z\\_y_0$')\n",
    "ax0.set_title('Datos estandarizados')\n",
    "\n",
    "vis.scatter(2, np.arange(len(rdata)), rdata[:,0], fc='C3', ec='C0', alpha=0.75)\n",
    "ax1.set_title('Datos reducidos')\n",
    "\n",
    "vis.show()"
   ]
  },
  {
   "cell_type": "markdown",
   "id": "8be7183c-e838-4345-a436-e8afcdb51191",
   "metadata": {},
   "source": [
    "# Aplicación a un conjunto de datos.\n",
    "\n",
    "\n",
    "## Función `mi_PCA()`\n",
    "\n",
    "Primero definimos la función `mi_PCA()` con los pasos necesarios para realizar un PCA."
   ]
  },
  {
   "cell_type": "code",
   "execution_count": null,
   "id": "b0fa739c-a8c2-4177-bab9-f45284a0be0d",
   "metadata": {
    "tags": []
   },
   "outputs": [],
   "source": [
    "def mi_PCA(data, feature, comp = 2):\n",
    "    \"\"\"\n",
    "    \n",
    "    \"\"\"\n",
    "    # Paso 1. Estandarización de los datos\n",
    "    sdata = scipy.stats.zscore(data)\n",
    "    \n",
    "    # Paso 2. Cálculo de los eigenvalores y eigenvectores de la matriz de covarianza de los nuevos datos\n",
    "    covmat = np.cov(sdata.T)\n",
    "    w, v = np.linalg.eig(covmat)\n",
    "        \n",
    "    # Paso 3. Porcentaje de varianza y ordenamiento de los vectores\n",
    "    \n",
    "    # np.argsort() regresa el índice de los elementos\n",
    "    # de menor a mayor. Usando [::-1] generamos el \n",
    "    # vector en reversa, de tal manera que tendremos\n",
    "    # los índices de los eigenvalores de mayor a menor.\n",
    "    w_index = np.argsort(w)[::-1]\n",
    "    \n",
    "    # Selección de las componentes principales\n",
    "    n_cols = w_index[:comp]\n",
    "\n",
    "    # Selección de eigenvalores principales\n",
    "    w_total = w.sum()\n",
    "    wv = np.array([round(100*w[i]/w_total,2) for i in n_cols])\n",
    "    \n",
    "    # Selección de eigenvectores principales\n",
    "    fv = v[:, n_cols]\n",
    "    \n",
    "    # Selección del nombre de la componente principal\n",
    "    feat = [feature[i] for i in n_cols]\n",
    "    \n",
    "    # Reducción de la dimensionalidad\n",
    "    P = np.dot(sdata, fv)\n",
    "\n",
    "    return covmat, wv, fv, feat, P"
   ]
  },
  {
   "cell_type": "markdown",
   "id": "8b922f6b-5ac1-4c41-b84b-7b5d49fdc9be",
   "metadata": {},
   "source": [
    "## Obtención del conjunto de datos\n",
    "\n",
    "Usaremos datos definidos en el módulo `sklearn`. Revisa [Dataset loading utilities](https://scikit-learn.org/stable/datasets.html) para más información."
   ]
  },
  {
   "cell_type": "code",
   "execution_count": null,
   "id": "8d80cf20-b464-4584-925b-6bb2a144f10c",
   "metadata": {
    "tags": []
   },
   "outputs": [],
   "source": [
    "# Lectura de los datos.\n",
    "grupo = datasets.load_diabetes()"
   ]
  },
  {
   "cell_type": "markdown",
   "id": "fa3f0f88-2997-4d7a-8030-f8041fe976b7",
   "metadata": {},
   "source": [
    "## Explorando los datos"
   ]
  },
  {
   "cell_type": "code",
   "execution_count": null,
   "id": "859cc135-4d74-464c-a3c0-39307d3dca19",
   "metadata": {},
   "outputs": [],
   "source": [
    "print(type(grupo))"
   ]
  },
  {
   "cell_type": "code",
   "execution_count": null,
   "id": "e23e8810-c962-46a2-a282-877356ab6b5f",
   "metadata": {
    "tags": []
   },
   "outputs": [],
   "source": [
    "print(grupo)"
   ]
  },
  {
   "cell_type": "code",
   "execution_count": null,
   "id": "73b726b2-0c77-4327-a54b-34327a270b55",
   "metadata": {
    "tags": []
   },
   "outputs": [],
   "source": [
    "print(grupo.DESCR)"
   ]
  },
  {
   "cell_type": "code",
   "execution_count": null,
   "id": "d19037d2-8c14-4ac4-8c1e-79e5c1827a83",
   "metadata": {},
   "outputs": [],
   "source": [
    "# Extracción de la información\n",
    "feature = grupo.feature_names\n",
    "data    = grupo.data\n",
    "target  = grupo.target"
   ]
  },
  {
   "cell_type": "code",
   "execution_count": null,
   "id": "75ff6b89-0f3a-47b2-91c8-a391cde7a8ab",
   "metadata": {
    "tags": []
   },
   "outputs": [],
   "source": [
    "print(type(feature), type(data), type(target))"
   ]
  },
  {
   "cell_type": "code",
   "execution_count": null,
   "id": "c6b31ae8-3941-4d0d-a9cd-d7c6478f63fd",
   "metadata": {
    "tags": []
   },
   "outputs": [],
   "source": [
    "print(len(feature))\n",
    "print(feature)"
   ]
  },
  {
   "cell_type": "code",
   "execution_count": null,
   "id": "e4873096-37f5-4c50-a4cd-d152d7256463",
   "metadata": {
    "tags": []
   },
   "outputs": [],
   "source": [
    "print(data.shape)\n",
    "data"
   ]
  },
  {
   "cell_type": "code",
   "execution_count": null,
   "id": "b5789b19-46ab-4ea0-820a-b2f5935236ca",
   "metadata": {
    "tags": []
   },
   "outputs": [],
   "source": [
    "print(target.shape)\n",
    "target"
   ]
  },
  {
   "cell_type": "markdown",
   "id": "e13ebac3-2878-4d65-b9f4-1d970a080d1b",
   "metadata": {},
   "source": [
    "## Graficación"
   ]
  },
  {
   "cell_type": "code",
   "execution_count": null,
   "id": "ad8b9b8b-5b0a-4ccd-b00a-e795c5216f70",
   "metadata": {
    "tags": []
   },
   "outputs": [],
   "source": [
    "[print('{}) {}'.format(i, feature[i])) for i in range(len(feature))]\n",
    "\n",
    "v1 = int(input('Selecciona una variable'))\n",
    "v2 = int(input('Selecciona otra variable'))\n",
    "\n",
    "vis = mvis.Plotter(1, 1, fig_par = dict(figsize = (10,6)))\n",
    "ax = vis.axes(1)\n",
    "\n",
    "ax.set_title(f'Diabetes {feature[v1]} vs {feature[v2]}')\n",
    "ax.set_xlabel(feature[v1])\n",
    "ax.set_ylabel(feature[v2])\n",
    "ax.grid()\n",
    "\n",
    "sns.scatterplot(\n",
    "    x = data[:,v1],\n",
    "    y = data[:,v2],\n",
    "    hue = target,\n",
    "    zorder = 5, \n",
    "    ax = ax\n",
    ")\n",
    "\n",
    "ax.legend(title='Información',\n",
    "           title_fontsize=7,\n",
    "           fontsize=8,\n",
    "           ncol=2,\n",
    "           frameon=True)\n",
    "\n",
    "vis.show()"
   ]
  },
  {
   "cell_type": "markdown",
   "id": "8600b97e-cad6-430c-9802-c1063feb421f",
   "metadata": {},
   "source": [
    "## PCA usando `mi_PCA()`\n",
    "\n",
    "Ahora realizamos la reducción de dimensiones usando nuestra función `mi_PCA()`:"
   ]
  },
  {
   "cell_type": "code",
   "execution_count": null,
   "id": "c7d85402-9493-4dc9-84ee-edee6e3e5e5d",
   "metadata": {
    "tags": []
   },
   "outputs": [],
   "source": [
    "covmat, wv, fv, feat, P = mi_PCA(data, feature, 2)"
   ]
  },
  {
   "cell_type": "markdown",
   "id": "ae44e97e-1799-4628-9761-73b55761f15d",
   "metadata": {},
   "source": [
    "Revisemos cómo está la matriz de covarianza:"
   ]
  },
  {
   "cell_type": "code",
   "execution_count": null,
   "id": "a812e8a8-9c44-4f32-a826-e5b5a0749c01",
   "metadata": {
    "tags": []
   },
   "outputs": [],
   "source": [
    "df_covmat = pd.DataFrame(covmat, \n",
    "                         columns=grupo.feature_names,\n",
    "                         index = grupo.feature_names)\n",
    "df_covmat"
   ]
  },
  {
   "cell_type": "code",
   "execution_count": null,
   "id": "032e5475-23a5-4736-bd69-4fd48828d637",
   "metadata": {},
   "outputs": [],
   "source": [
    "df_covmat_heatmap = df_covmat.style.background_gradient(cmap='Oranges')\n",
    "df_covmat_heatmap"
   ]
  },
  {
   "cell_type": "code",
   "execution_count": null,
   "id": "165a3c0f-8841-4d2f-80df-ddac614e0c7c",
   "metadata": {},
   "outputs": [],
   "source": [
    "sns.heatmap(data=df_covmat, annot=True, cmap=\"Oranges\")\n",
    "plt.show()"
   ]
  },
  {
   "cell_type": "markdown",
   "id": "a4e556d0-5978-4898-bfa8-e2a959d82c7a",
   "metadata": {},
   "source": [
    "Ahora revisamos las componentes principales: eigenvalores y *Feature vector* $f_v$:"
   ]
  },
  {
   "cell_type": "code",
   "execution_count": null,
   "id": "35faad18-68d0-4420-a390-559415efbe1c",
   "metadata": {
    "tags": []
   },
   "outputs": [],
   "source": [
    "wv"
   ]
  },
  {
   "cell_type": "code",
   "execution_count": null,
   "id": "9bbdcdc1-7589-4e4c-aaba-5a9ab5c81c8f",
   "metadata": {
    "tags": []
   },
   "outputs": [],
   "source": [
    "wv.sum()"
   ]
  },
  {
   "cell_type": "code",
   "execution_count": null,
   "id": "9f43f7cc-5622-4524-b4a5-4b9c0583ce5e",
   "metadata": {
    "tags": []
   },
   "outputs": [],
   "source": [
    "feat"
   ]
  },
  {
   "cell_type": "code",
   "execution_count": null,
   "id": "fdd6c6b3-7f34-4b9e-bf99-254f9636be13",
   "metadata": {
    "tags": []
   },
   "outputs": [],
   "source": [
    "df_pcomp = pd.DataFrame(np.array([wv]))\n",
    "df_pcomp"
   ]
  },
  {
   "cell_type": "code",
   "execution_count": null,
   "id": "04b38bdb-aa31-4303-8590-24904da56bb3",
   "metadata": {
    "tags": []
   },
   "outputs": [],
   "source": [
    "sns.barplot(data=df_pcomp)"
   ]
  },
  {
   "cell_type": "code",
   "execution_count": null,
   "id": "f3200cb9-689b-4923-b02b-c4655afe9362",
   "metadata": {
    "tags": []
   },
   "outputs": [],
   "source": [
    "fv"
   ]
  },
  {
   "cell_type": "markdown",
   "id": "ef66e930-59fb-4477-a162-e79927f357e8",
   "metadata": {},
   "source": [
    "## Graficamos los datos reducidos"
   ]
  },
  {
   "cell_type": "code",
   "execution_count": null,
   "id": "b99f0644-9671-4cba-9c3a-0629b343a4bc",
   "metadata": {
    "tags": []
   },
   "outputs": [],
   "source": [
    "vis = mvis.Plotter(1, 1, fig_par = dict(figsize = (10,6)))\n",
    "ax = vis.axes(1)\n",
    "\n",
    "ax.set_title('Conjunto de datos de sklearn')\n",
    "ax.set_xlabel(\"Componente 1\")\n",
    "ax.set_ylabel(\"Componente 2\")\n",
    "ax.grid()\n",
    "\n",
    "sns.scatterplot(\n",
    "    x = P[:,0],\n",
    "    y = P[:,1],\n",
    "    hue = target,\n",
    "    zorder = 5, \n",
    "    ax = ax,\n",
    ")\n",
    "\n",
    "plt.legend(title='Información',\n",
    "           title_fontsize=7,\n",
    "           fontsize=8,\n",
    "           ncol=2,\n",
    "           frameon=True)\n",
    "\n",
    "plt.show()"
   ]
  },
  {
   "cell_type": "code",
   "execution_count": null,
   "id": "1d531eff-ff9a-4bdb-bd46-05c71fc377b3",
   "metadata": {},
   "outputs": [],
   "source": [
    "import numpy as np\n",
    "import pandas as pd\n",
    "import matplotlib.pyplot as plt\n",
    "from sklearn.decomposition import PCA\n",
    "from sklearn.preprocessing import StandardScaler\n",
    "\n",
    "# 1. Crear datos simulados de 10 dimensiones\n",
    "#np.random.seed(42)\n",
    "#datos = np.random.rand(100, 10)  # 100 muestras, 10 variables\n",
    "df = pd.DataFrame(data, columns=[f'Var{i+1}' for i in range(10)])\n",
    "\n",
    "# 2. Normalizar los datos (es recomendable antes de PCA)\n",
    "escalador = StandardScaler()\n",
    "datos_normalizados = escalador.fit_transform(df)\n",
    "print(np.linalg.norm(scipy.stats.zscore(data) - datos_normalizados))\n",
    "\n",
    "# 3. Aplicar PCA\n",
    "pca = PCA(n_components=2)  # Queremos reducir a 2 dimensiones\n",
    "componentes = pca.fit_transform(datos_normalizados)\n",
    "print(componentes.shape)\n",
    "# 4. Visualizar los dos primeros componentes\n",
    "\n",
    "vis = mvis.Plotter(1, 1, fig_par = dict(figsize = (10,6)))\n",
    "ax = vis.axes(1)\n",
    "\n",
    "ax.set_xlabel('Componente Principal 1')\n",
    "ax.set_ylabel('Componente Principal 2')\n",
    "ax.set_title('PCA con datos de 10 dimensiones')\n",
    "ax.grid()\n",
    "\n",
    "sns.scatterplot(\n",
    "    x = -componentes[:,0],\n",
    "    y = componentes[:,1],\n",
    "    hue = target,\n",
    "    zorder = 5, \n",
    "    ax = ax\n",
    ")\n",
    "\n",
    "#vis.scatter(1, P[:,0], P[:, 1], s=150, c=\"k\", alpha = 0.75)\n",
    "\n",
    "plt.legend(title='Información',\n",
    "           title_fontsize=7,\n",
    "           fontsize=8,\n",
    "           ncol=2,\n",
    "           frameon=True)\n",
    "\n",
    "vis.show()\n",
    "\n",
    "# 5. Porcentaje de varianza explicada\n",
    "print(\"Varianza explicada por cada componente:\")\n",
    "print(pca.explained_variance_ratio_)\n",
    "print(f\"Varianza total explicada por los dos componentes: {sum(pca.explained_variance_ratio_):.2%}\")\n"
   ]
  },
  {
   "cell_type": "code",
   "execution_count": null,
   "id": "b86c98ca-f69c-46f2-b6c6-a7d8ae486dfc",
   "metadata": {},
   "outputs": [],
   "source": []
  }
 ],
 "metadata": {
  "kernelspec": {
   "display_name": "Python 3 (ipykernel)",
   "language": "python",
   "name": "python3"
  },
  "language_info": {
   "codemirror_mode": {
    "name": "ipython",
    "version": 3
   },
   "file_extension": ".py",
   "mimetype": "text/x-python",
   "name": "python",
   "nbconvert_exporter": "python",
   "pygments_lexer": "ipython3",
   "version": "3.11.6"
  }
 },
 "nbformat": 4,
 "nbformat_minor": 5
}
