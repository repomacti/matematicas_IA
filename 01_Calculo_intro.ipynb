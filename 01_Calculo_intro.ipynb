{
 "cells": [
  {
   "cell_type": "markdown",
   "id": "1c2252a2-0063-4b3a-81ef-638929e7251b",
   "metadata": {},
   "source": [
    "# Matemáticas para IA con Python: Cálculo.\n",
    "\n",
    " <p xmlns:cc=\"http://creativecommons.org/ns#\" xmlns:dct=\"http://purl.org/dc/terms/\"><a property=\"dct:title\" rel=\"cc:attributionURL\" href=\"https://github.com/luiggix/intro_MeIA_2023\">Matemáticas para IA con Python</a> by <span property=\"cc:attributionName\">Luis Miguel de la Cruz Salas</span> is licensed under <a href=\"http://creativecommons.org/licenses/by-nc-sa/4.0/?ref=chooser-v1\" target=\"_blank\" rel=\"license noopener noreferrer\" style=\"display:inline-block;\">CC BY-NC-SA 4.0<img style=\"height:22px!important;margin-left:3px;vertical-align:text-bottom;\" src=\"https://mirrors.creativecommons.org/presskit/icons/cc.svg?ref=chooser-v1\"><img style=\"height:22px!important;margin-left:3px;vertical-align:text-bottom;\" src=\"https://mirrors.creativecommons.org/presskit/icons/by.svg?ref=chooser-v1\"><img style=\"height:22px!important;margin-left:3px;vertical-align:text-bottom;\" src=\"https://mirrors.creativecommons.org/presskit/icons/nc.svg?ref=chooser-v1\"><img style=\"height:22px!important;margin-left:3px;vertical-align:text-bottom;\" src=\"https://mirrors.creativecommons.org/presskit/icons/sa.svg?ref=chooser-v1\"></a></p> "
   ]
  },
  {
   "cell_type": "code",
   "execution_count": null,
   "id": "cb89e28e-a9d7-4c05-abff-91419e7c8d53",
   "metadata": {
    "tags": []
   },
   "outputs": [],
   "source": [
    "import numpy as np\n",
    "import matplotlib.pyplot as plt\n",
    "import macti.vis as mvis\n",
    "import sympy"
   ]
  },
  {
   "cell_type": "markdown",
   "id": "96671764-77f5-40ed-9d4d-43d04e48733e",
   "metadata": {},
   "source": [
    "# Funciones"
   ]
  },
  {
   "cell_type": "markdown",
   "id": "cd81a57b-01d9-45d9-a33e-1b03528c4c1c",
   "metadata": {},
   "source": [
    "<div class=\"alert alert-block alert-success\">\n",
    "\n",
    "## Ejemplo 1.\n",
    "\n",
    "La tabla que sigue muestra cómo es que un emprendimiento comenzó a vender sus productos desde la semana 1 hasta la semana 10. \n",
    "\n",
    "| Semana | 1 | 2 | 3 | 4 | 5 | 6 | 7 | 8 | 9 | 10 |\n",
    "|---|---|---|---|---|---|---|---|---|---|---|\n",
    "| Productos vendidos | 4 | 9 | 18 | 30 | 43 | 52 | 57 | 59 | 60 | 60 |\n",
    "\n",
    "Como se puede observar, las ventas se han ido incrementado desde la semana 1 en la que vendieron solo 4 productos, hasta la semana 10 en la que lograron vender 60. \n",
    "</div>\n",
    "\n",
    "Si realizamos un gráfico con los datos de la tabla anterior tenemos lo siguiente:"
   ]
  },
  {
   "cell_type": "code",
   "execution_count": null,
   "id": "4344814a-22cf-447f-afea-22e0029c7230",
   "metadata": {
    "tags": []
   },
   "outputs": [],
   "source": [
    "# lista que contiene el número de la semana en orden ascendente\n",
    "semanas   = [1, 2, 3, 4, 5, 6, 7, 8, 9,10] \n",
    "\n",
    "# Ventas por semana\n",
    "productos = [4, 9, 18, 30, 43, 52, 57, 59, 60, 60]\n",
    "\n",
    "#Realizamos la gráfica correspondiente.\n",
    "plt.plot(semanas, productos,\"o\")\n",
    "\n",
    "# Configuración de la gráfica\n",
    "plt.xlabel(\"Semanas\") # Asignamos un nombre al eje x.\n",
    "plt.xticks(semanas)   # Definimos los ticks en el eje x\n",
    "plt.ylabel(\"Num. productos\")  # Asignamos un nombre para el eje y.\n",
    "plt.title(\"Ventas semanales\") # Asignamos un título a la gráfica.\n",
    "plt.grid()\n",
    "plt.show()"
   ]
  },
  {
   "cell_type": "markdown",
   "id": "281cb528-6dca-4311-932a-8423455459d8",
   "metadata": {},
   "source": [
    "En la gráfica anterior se observa que para cada valor de las semanas, se tiene uno y solo un valor de productos vendidos. \n",
    "\n",
    "Si definimos lo siguiente: \n",
    "\n",
    "- $A = \\{ 1, 2, 3, 4, 5, 6, 7, 8, 9, 10 \\}$ como el conjunto que contiene el número de cada semana y \n",
    "- $B = \\{ 4,  9, 18, 30, 43, 52, 57, 59, 60, 60\\}$ como el conjunto que contiene los productos vendidos en cada semana\n",
    "\n",
    "Existe una función $f$ que cada elemento de $A$ le asigna uno y solo un elemento de $B$. De manera esquemática:  \n",
    "\n",
    "$\n",
    "\\begin{array}{ccccccccccc}\n",
    "A : & 1 & 2 & 3 & 4 & 5 & 6 & 7 & 8 & 9 & 10 \\\\\n",
    "f :& \\downarrow & \\downarrow & \\downarrow & \\downarrow \n",
    "& \\downarrow & \\downarrow & \\downarrow & \\downarrow \n",
    "& \\downarrow & \\downarrow \n",
    "\\\\\n",
    "B : & 4 &  9 & 18 & 30 & 43 & 52 & 57 & 59 & 60 & 60\n",
    "\\end{array}\n",
    "$\n",
    "\n",
    "---\n",
    "**Definición**:\n",
    "Una relación donde a cada elemento de un conjunto $A$ le corresponde un único elemento de un conjunto $B$, se denomina una **función** de $A$ en $B$. \n",
    "\n",
    "---\n",
    "\n",
    "La notación que se usa es: $f:A \\rightarrow B$. Dado un elemento $x \\in A$ existe un elemento $y \\in B$ de tal manera que escribimos $f(x) = y$, es decir, $f$ transforma $x$ en $y$. Al conjunto $A$ se le conoce como **dominio** de $f$ y al conjunto $B$ se le conoce como **codominio** de $f$. \n",
    "\n"
   ]
  },
  {
   "cell_type": "markdown",
   "id": "b3aceadc-1e9e-465d-a52b-a23ae772bd50",
   "metadata": {},
   "source": [
    "<div class=\"alert alert-block alert-success\">\n",
    "\n",
    "## Ejemplo 2.\n",
    "\n",
    "El comportamiento de las ventas del ejemplo 1, se puede modelar usando una función conocida como la *función logística*:\n",
    "\n",
    "$$\n",
    "f(x) = \\frac{a}{b+e^{-(x-c)}}\n",
    "$$\n",
    "\n",
    "donde los parámetros $a, b$ y $c$ se deben ajustar. \n",
    "\n",
    "</div>\n",
    "\n",
    "Si fijamos $a = 30$ y $b=0.5$ y variamos $c$ en $[1,2,3,4,5]$ obtenemos lo siguiente:"
   ]
  },
  {
   "cell_type": "code",
   "execution_count": null,
   "id": "0a78bcfe-c016-49b2-a409-ab878b169cb7",
   "metadata": {
    "tags": []
   },
   "outputs": [],
   "source": [
    "# Definición de la función logística\n",
    "logistica = lambda a, b, c, x: a / (b + np.exp(-1*(x-c)))\n",
    "\n",
    "# Dominio de la función\n",
    "x = np.linspace(-15,15,100)\n",
    "\n",
    "# Parámetros de la función logística\n",
    "a = 30\n",
    "b = 0.5 \n",
    "\n",
    "# Tamaño de la figura\n",
    "plt.figure(figsize=[10,5])\n",
    "\n",
    "# Variamos el parámetro c en [1,2,3,4,5]\n",
    "for c in range(1,6):\n",
    "    y = logistica(a,b,c,x)\n",
    "    plt.plot(x, y, label='f(x) con c = {}'.format(c))\n",
    "\n",
    "# Datos reales de las ventas\n",
    "plt.scatter(semanas, productos, color='purple', alpha=0.5, s=50, label='Ventas reales', zorder=5)\n",
    "\n",
    "# Dominio ampliado para predicción\n",
    "xpred = np.arange(11,20,1)\n",
    "\n",
    "# Predicción usando la función logística\n",
    "#plt.scatter(xpred, logistica(a,b,3,xpred), color='black', alpha=0.5, s=50, label='Predicción', zorder=5)\n",
    "\n",
    "plt.xticks([i for i in range(20)])\n",
    "plt.title('Ventas semanales')\n",
    "plt.xlabel('Semanas')\n",
    "plt.ylabel('Productos')\n",
    "plt.legend()\n",
    "plt.grid()\n",
    "plt.show()"
   ]
  },
  {
   "cell_type": "markdown",
   "id": "34da3344-2c83-4bc6-b7b6-18fb6acc559a",
   "metadata": {},
   "source": [
    "Observa que la mejor aproximación es con $c = 3$. \n",
    "\n",
    "<div class=\"alert alert-block alert-success\">\n",
    "\n",
    "## Ejemplo 3.\n",
    "\n",
    "Utiliza los valores $a = 30.0, b = 0.5$ y $c = 3.3$ para modelar la venta de productos y predice las ventas para las semanas de la 11 a la 20.\n",
    "\n",
    "</div>"
   ]
  },
  {
   "cell_type": "code",
   "execution_count": null,
   "id": "79f8fd84-2a1f-4e1f-b2ed-b73d52b0762f",
   "metadata": {
    "tags": []
   },
   "outputs": [],
   "source": [
    "# Definimos la función logística\n",
    "logistica = lambda a, b, c, x: a / (b + np.exp(-1*(x-c)))\n",
    "\n",
    "# Dominio de la función\n",
    "x = np.linspace(-15,20,100)\n",
    "\n",
    "# Parámetros de la función logística\n",
    "a = 30\n",
    "b = 0.5 \n",
    "c = 3.3\n",
    "\n",
    "# Tamaño de la figura\n",
    "plt.figure(figsize=[10,5])\n",
    "\n",
    "# Evaluación y graficación de la función\n",
    "y = logistica(a, b, c,x)\n",
    "plt.plot(x, y, c='gray', label='f(x) con c = {}'.format(c))\n",
    "\n",
    "# Datos reales de las ventas\n",
    "plt.scatter(semanas, productos, color='purple', alpha=0.75, s=50, label='Ventas reales', zorder=5)\n",
    "\n",
    "# Dominio ampliado para la predicción\n",
    "xpred = np.arange(11,21,1)\n",
    "\n",
    "# Predicción usando la función logística\n",
    "plt.scatter(xpred, logistica(a,b,3,xpred), color='green', alpha=0.75, s=50, label='Predicción', zorder=5)\n",
    "\n",
    "plt.xticks([i for i in range(20)])\n",
    "plt.title('Ventas semanales (predicción)')\n",
    "plt.xlabel('Semanas')\n",
    "plt.ylabel('Productos')\n",
    "plt.legend()\n",
    "plt.grid()\n",
    "plt.show()"
   ]
  },
  {
   "cell_type": "markdown",
   "id": "bcb715bd-5c34-4dcf-a948-42809d4fe282",
   "metadata": {},
   "source": [
    "Las funciones permiten modelar fenómenos que pueden ayudar a predecir escenarios para ciertos valores de los parámetros que componen cada función. \n",
    "\n",
    "# Función inversa.\n",
    "\n",
    "La función inversa $f^{-1}(y) = x$ permite recuperar $x$ cuando se aplica a $y$. \n",
    "\n",
    "<div class=\"alert alert-block alert-success\">\n",
    "    \n",
    "## Ejemplo 4.\n",
    "\n",
    "$$\n",
    "\\begin{eqnarray}\n",
    "f(x) = x^3 & \\longrightarrow & f^{-1}(y) = y^{1/3} \\; \\; \\; \\forall x, y \\in \\mathbb{R}.\n",
    "\\end{eqnarray}\n",
    "$$\n",
    "\n",
    "</div>"
   ]
  },
  {
   "cell_type": "code",
   "execution_count": null,
   "id": "60e63be9-cfea-46e4-8044-c110d59e0f3d",
   "metadata": {
    "tags": []
   },
   "outputs": [],
   "source": [
    "# Función\n",
    "f = lambda x: x**3\n",
    "\n",
    "# Inversa de la función\n",
    "fi = lambda y: np.cbrt(y) # raíz cúbica\n",
    "\n",
    "# Evaluación de la función\n",
    "x = np.linspace(-2,2,20)\n",
    "y = f(x)\n",
    "\n",
    "plt.figure(figsize=(8,8))\n",
    "plt.plot(x, f(x), lw=3.0, label='$f(x) = x^3$')\n",
    "plt.plot(y, fi(y), lw=3.0, label='$f^{-1}(y) = \\sqrt[3]{y}$')\n",
    "\n",
    "# Línea vertical y puntos de cruce\n",
    "plt.vlines(0.5, ymin=-8, ymax=8, colors='gray', ls='--', lw=1.0)\n",
    "plt.scatter(0.5,f(0.5), ec='C1',zorder=5)\n",
    "plt.scatter(0.5,fi(0.5), ec='C0',zorder=5)\n",
    "\n",
    "# Línea a 45 grados\n",
    "x45 = np.linspace(-8,8,20)\n",
    "plt.plot(x45,x45, ls = '-', lw=0.75, c='gray')\n",
    "\n",
    "plt.legend(fontsize=15, frameon=True)\n",
    "plt.grid()\n",
    "plt.show()"
   ]
  },
  {
   "cell_type": "markdown",
   "id": "387d374d-89d4-4da8-acfc-42fbbad790ca",
   "metadata": {},
   "source": [
    "<div class=\"alert alert-block alert-success\">\n",
    "\n",
    "## Ejemplo 5.\n",
    "\n",
    "Una de las características principales de una función es que para cada $x$ solo existe un valor de $f(x)$. Veamos el siguiente ejemplo:\n",
    "\n",
    "$$\n",
    "\\begin{eqnarray}\n",
    "f(x) = x^2 & \\longrightarrow & f^{-1}(y) = y^{1/2} \\; \\; \\; \\forall x \\in \\mathbb{R}, y \\in \\mathbb{R}^+.\n",
    "\\end{eqnarray}\n",
    "$$\n",
    "\n",
    "</div>"
   ]
  },
  {
   "cell_type": "code",
   "execution_count": null,
   "id": "d9b29412-98e9-4f4d-ac0f-cfae9d98f06d",
   "metadata": {
    "tags": []
   },
   "outputs": [],
   "source": [
    "# Función\n",
    "f = lambda x: x**2\n",
    "\n",
    "# Inversa de la función\n",
    "fi = lambda y: np.sqrt(y) # raíz cuadrada +\n",
    "fim = lambda y: -np.sqrt(y) # raíz cuadrada -\n",
    "\n",
    "# Evaluación de la función\n",
    "x = np.linspace(-2,2,25)\n",
    "y = f(x)\n",
    "\n",
    "plt.figure(figsize=(8,8))\n",
    "plt.plot(x, f(x), lw=3.0, label='$f(x) = x^2$')\n",
    "plt.plot(y, fi(y), lw=3.0, label='$f^{-1}(y) = \\sqrt{y}$')\n",
    "plt.plot(y, fim(y), lw=3.0, label='$f^{-1}(y) = -\\sqrt{y}$')\n",
    "\n",
    "# Línea vertical y puntos de cruce\n",
    "plt.vlines(0.5, ymin=-4, ymax=4, colors='gray', ls='--', lw=1.0)\n",
    "plt.scatter(0.5,f(0.5), ec='C1',zorder=5)\n",
    "plt.scatter(0.5,fi(0.5), ec='C0',zorder=5)\n",
    "plt.scatter(0.5,fim(0.5), ec='C0',zorder=5)\n",
    "\n",
    "# Línea a 45 grados\n",
    "x45 = np.linspace(-4,4,20)\n",
    "plt.plot(x45,x45, ls = '-', lw=0.75, c='gray')\n",
    "\n",
    "plt.legend(loc='center left', frameon=True, fontsize=15)\n",
    "plt.grid()\n",
    "plt.show()"
   ]
  },
  {
   "cell_type": "markdown",
   "id": "25f9c4dc-1422-4ea4-83ff-fee48be1de00",
   "metadata": {
    "tags": []
   },
   "source": [
    "# Funciones continuas.\n",
    "\n",
    "---\n",
    "**Definición.**\n",
    "Una función $f:\\mathbb{R} \\rightarrow \\mathbb{R}$ es continua si para cada $x_0 \\in \\mathbb{R}$ satisface la propiedad siguiente:\n",
    "\n",
    "$$\n",
    "f(x) \\cong f(x_0) \\; \\; \\forall x \\; \\text{suficientemente próximo a $x_0$}\n",
    "$$\n",
    "\n",
    "---\n",
    "\n",
    "*\"La función es continua si puedes dibujarla sin levantar el lápiz del papel\"*.\n",
    "\n",
    "<div class=\"alert alert-block alert-success\">\n",
    "\n",
    "## Ejemplo 6.\n",
    "\n",
    "Cualquier función polinomial es continua.\n",
    "\n",
    "$$\n",
    "f(x) = a_0 + a_1 x + a_2 x^2 + \\dots + a_n x^n\n",
    "$$\n",
    "\n",
    "Para este ejemplo y los que siguen usaremo la biblioteca [sympy](https://www.sympy.org/).\n",
    "\n",
    "</div>"
   ]
  },
  {
   "cell_type": "code",
   "execution_count": null,
   "id": "8af1ccc3-ee92-4fd7-af03-d6521b1f9390",
   "metadata": {
    "tags": []
   },
   "outputs": [],
   "source": [
    "# Definimos un símbolo para usarlo en las expresiones siguientes\n",
    "x = sympy.symbols('x')\n",
    "\n",
    "# Definimos el polinómio de grado 3.\n",
    "P = x + x**2 + x**3\n",
    "P"
   ]
  },
  {
   "cell_type": "code",
   "execution_count": null,
   "id": "b7f44b4f-4d9c-4e2b-b650-e8984c506d6a",
   "metadata": {
    "tags": []
   },
   "outputs": [],
   "source": [
    "# Realizamos la gráfica del polinomio\n",
    "ph = sympy.plot(P, show=False)\n",
    "ph.size = (6,3)\n",
    "ph.ylabel = '$P(x)$'\n",
    "ph.show()"
   ]
  },
  {
   "cell_type": "markdown",
   "id": "2f17161c-9051-4b65-80ee-323ea925f19d",
   "metadata": {},
   "source": [
    "<div class=\"alert alert-block alert-success\">\n",
    "\n",
    "## Ejemplo 7.\n",
    "\n",
    "La función de Heaviside se define como:\n",
    "\n",
    "$$\n",
    "H(x) = \n",
    "\\begin{cases}\n",
    "1, x > 0 \\\\\n",
    "0, x \\leq 0\n",
    "\\end{cases}\n",
    "$$\n",
    "\n",
    "Esta función es discontinua en $x=0$.\n",
    "\n",
    "</div>"
   ]
  },
  {
   "cell_type": "code",
   "execution_count": null,
   "id": "077bd7e8-f2d0-40b9-b8ab-9f226e025517",
   "metadata": {
    "tags": []
   },
   "outputs": [],
   "source": [
    "x = sympy.symbols('x')\n",
    "H = sympy.Heaviside(x)\n",
    "H"
   ]
  },
  {
   "cell_type": "code",
   "execution_count": null,
   "id": "adbae244-5980-4e56-8111-72c4fe7d9411",
   "metadata": {
    "tags": []
   },
   "outputs": [],
   "source": [
    "ph = sympy.plot(H, show=False)\n",
    "ph.size = (6,3)\n",
    "ph.ylabel = '$H(x)$'\n",
    "ph.show()"
   ]
  },
  {
   "cell_type": "code",
   "execution_count": null,
   "id": "08f57a83-2632-4a79-997f-0fd75bfacd08",
   "metadata": {},
   "outputs": [],
   "source": [
    "xdis = np.linspace(-10,10,100)\n",
    "Hdis = sympy.lambdify(x, H, modules=['numpy'])\n",
    "\n",
    "# Definir un objeto 'Plotter' para crear figuras.\n",
    "v = mvis.Plotter()  \n",
    "\n",
    "# Inicializar el sistema de coordenadas.\n",
    "v.set_coordsys(xlabel = \"$x$\", ylabel=\"$H(x)$\")   \n",
    "\n",
    "# Graficar la función\n",
    "v.plot(1, xdis, Hdis(xdis), lw = 3.0) \n",
    "\n",
    "# Mostrar la rejilla del sistema de coordenadas.\n",
    "v.grid()  \n",
    "\n",
    "v.show()"
   ]
  },
  {
   "cell_type": "markdown",
   "id": "a9d6be59-5671-47dd-9ee1-1b724dd6f9b2",
   "metadata": {},
   "source": [
    "<div class=\"alert alert-block alert-success\">\n",
    "\n",
    "## Ejemplo 8.\n",
    "\n",
    "La función de Heaviside se puede aproximar con una función continua, por ejemplo con la función logística definida en el ejemplo 1\n",
    "\n",
    "$$\n",
    "f(x) = \\frac{a}{b+e^{-(x-c)}}\n",
    "$$\n",
    "\n",
    "con $a = b = 1$ y $c = 0$ obtenemos:\n",
    "\n",
    "$$\n",
    "f(x)=\\frac{1}{1+e^{-x}}\n",
    "$$\n",
    "\n",
    "</div>"
   ]
  },
  {
   "cell_type": "code",
   "execution_count": null,
   "id": "5d7993c5-199e-4796-b4df-37ada7065808",
   "metadata": {
    "tags": []
   },
   "outputs": [],
   "source": [
    "k = 10\n",
    "logistica = 1 / (1 + sympy.exp(-k*x))\n",
    "display(logistica)\n",
    "\n",
    "ph = sympy.plot(H, logistica, show=False)\n",
    "ph.size = (6,3)\n",
    "ph.ylabel = '$H(x)$'\n",
    "ph.show()"
   ]
  },
  {
   "cell_type": "code",
   "execution_count": null,
   "id": "b5c9d9c4-0748-4b74-a69f-a5d76c37842f",
   "metadata": {},
   "outputs": [],
   "source": [
    "Ldis = sympy.lambdify(x, logistica, modules=['numpy'])\n",
    "\n",
    "# Definir un objeto 'Plotter' para crear figuras.\n",
    "v = mvis.Plotter()  \n",
    "\n",
    "# Inicializar el sistema de coordenadas.\n",
    "v.set_coordsys(xlabel = \"$x$\", ylabel=\"$H(x)$, Logística\")   \n",
    "\n",
    "# Graficar la función\n",
    "v.plot(1, xdis, Hdis(xdis), lw = 3.0) \n",
    "v.plot(1, xdis, Ldis(xdis), lw = 3.0) \n",
    "\n",
    "# Mostrar la rejilla del sistema de coordenadas.\n",
    "v.grid()  \n",
    "\n",
    "v.show()"
   ]
  },
  {
   "cell_type": "markdown",
   "id": "6a7afda5-6a48-4736-905d-e6636e7cd7a6",
   "metadata": {},
   "source": [
    "Observa que la función logísitica aproxima mejor a la función de Heaviside conforme $k$ se hace más grande."
   ]
  },
  {
   "cell_type": "markdown",
   "id": "9b4a918a-21d5-44c1-a79a-3b3571f6ca09",
   "metadata": {
    "tags": []
   },
   "source": [
    "# Límites\n",
    "\n",
    "---\n",
    "**Definición**. \n",
    "Si $f$ es una función definida en un intervalo $(a,b)$, excepto, quizás, en un punto $x_0 \\in (a,b)$. El límite de $f$ en $x_0$ existe y es igual a $L$ si\n",
    "\n",
    "$$\n",
    "\\lim_{x \\to x_0^+} f(x) = \\lim_{x \\to x_0^-} f(x) = L\n",
    "$$\n",
    "\n",
    "---\n",
    "\n",
    "El límite de una función $f(x)$ cuando $x$ tiende a $x_0$ se escribe como:\n",
    "\n",
    "$$\n",
    "\\lim_{x \\to x_0} f(x) = L\n",
    "$$"
   ]
  },
  {
   "cell_type": "markdown",
   "id": "fd6b9aaf-9070-45b3-aa01-835ac72ca9d7",
   "metadata": {},
   "source": [
    "<div class=\"alert alert-block alert-success\">\n",
    "\n",
    "## Ejemplo 9.\n",
    "Calcula el límite de la función logística cuando $x \\to 0$.\n",
    "\n",
    "$$\n",
    "\\lim_{x \\to 0}  \\frac{1}{1+e^{-x}} = ¿?\n",
    "$$\n",
    "\n",
    "Si sustituimos $x = 0$ en la función logística obtenemos:\n",
    "\n",
    "$$\n",
    "\\frac{1}{1+e^{-0}} = \\frac{1}{1+1} = \\frac{1}{2}\n",
    "$$\n",
    "\n",
    "</div>"
   ]
  },
  {
   "cell_type": "code",
   "execution_count": null,
   "id": "a0690899-df45-4826-9fe1-04e5f39d3f22",
   "metadata": {
    "tags": []
   },
   "outputs": [],
   "source": [
    "logistica = 1 / (1 + sympy.exp(-x))\n",
    "display(logistica)\n",
    "sympy.limit(logistica, x, 0)  # Cálculamos el límite cuando x tiende a 0"
   ]
  },
  {
   "cell_type": "code",
   "execution_count": null,
   "id": "6e64fab5-4436-4e48-914c-364811238bc8",
   "metadata": {
    "tags": []
   },
   "outputs": [],
   "source": [
    "# Convertimos la expresión en una función\n",
    "fl = sympy.lambdify(x, logistica)\n",
    "\n",
    "# Dominio de la función\n",
    "xcoord = np.linspace(-10, 10, 50)\n",
    "\n",
    "# Evaluación de la función\n",
    "ycoord = fl(xcoord)\n",
    "\n",
    "# Definir un objeto 'Plotter' para crear figuras.\n",
    "v = mvis.Plotter()  \n",
    "\n",
    "# Inicializar el sistema de coordenadas.\n",
    "v.set_coordsys(xlabel = \"$x$\", ylabel=\"$f(x)$\")   \n",
    "\n",
    "# Graficar la función\n",
    "v.plot(1, xcoord, ycoord, lw = 3.0) \n",
    "v.scatter(1, 0.0, fl(0.0), fc = \"C1\", ec = \"k\", s = 50, zorder=5)\n",
    "\n",
    "# Mostrar la rejilla del sistema de coordenadas.\n",
    "v.grid()  \n",
    "\n",
    "v.show()"
   ]
  },
  {
   "cell_type": "code",
   "execution_count": null,
   "id": "2a0157bc-333c-47ea-8bd8-a9caf26cbf25",
   "metadata": {
    "tags": []
   },
   "outputs": [],
   "source": [
    "%run \"./zlimit_interactive.ipynb\""
   ]
  },
  {
   "cell_type": "markdown",
   "id": "5aaf9c26-caa5-4ccb-a4ed-bc2422296e9d",
   "metadata": {},
   "source": [
    "<div class=\"alert alert-block alert-success\">\n",
    "\n",
    "## Ejemplo 10.\n",
    "\n",
    "Algunos otros ejemplos de límite.\n",
    "\n",
    "</div>"
   ]
  },
  {
   "cell_type": "code",
   "execution_count": null,
   "id": "9faa5b45-c765-4569-a69d-ef17fe1e0fb5",
   "metadata": {
    "tags": []
   },
   "outputs": [],
   "source": [
    "f = sympy.sin(x)/x\n",
    "display(f)\n",
    "sympy.limit(f, x, 0)  # Aplicamos un límite"
   ]
  },
  {
   "cell_type": "code",
   "execution_count": null,
   "id": "27522022-2d80-43f7-9c07-ebd1946be743",
   "metadata": {
    "tags": []
   },
   "outputs": [],
   "source": [
    "f = 1/x\n",
    "display(f)\n",
    "sympy.limit(f, x, sympy.oo) "
   ]
  },
  {
   "cell_type": "code",
   "execution_count": null,
   "id": "326fd564-5c68-4846-ab60-97764dca6af0",
   "metadata": {
    "tags": []
   },
   "outputs": [],
   "source": [
    "f  = (x + 1)*(x + 2)*(x + 3)/x**3\n",
    "limite = sympy.Limit(f, x, sympy.oo)\n",
    "display(limite)\n",
    "limite.doit()"
   ]
  },
  {
   "cell_type": "code",
   "execution_count": null,
   "id": "e28b5e0d-7ab0-4612-aece-44c2b10ad4e8",
   "metadata": {
    "tags": []
   },
   "outputs": [],
   "source": [
    "f = sympy.tan(x)\n",
    "limite = sympy.Limit(f, x, sympy.pi / 2, dir='+')\n",
    "display(limite)\n",
    "limite.doit()"
   ]
  },
  {
   "cell_type": "markdown",
   "id": "b1615619-ef81-451c-bd91-d1ac622d4dd1",
   "metadata": {
    "tags": []
   },
   "source": [
    "# Derivadas"
   ]
  },
  {
   "cell_type": "markdown",
   "id": "721fc11b-1998-4ba8-9898-f18cc8b61745",
   "metadata": {},
   "source": [
    "En casi todos los libros de cálculo encontrarás la siguiente notación para la derivada de la función $f(x)$:\n",
    "\n",
    "$$ \n",
    "\\frac{d f}{dx} = f^\\prime(x)=\\lim_{h \\to 0} \\frac{f(x + h) - f(x)}{h} \\tag{5}\n",
    "$$\n",
    "\n",
    "La derivada existe siempre y cuando exista este límite. ¿Puedes imaginar cuando este límite no existe? \n",
    "\n",
    "Observe que en la definición anterior se está calculando la pendiente de la función $f(x)$ en $x$."
   ]
  },
  {
   "cell_type": "code",
   "execution_count": null,
   "id": "6b2df988-8af2-4f57-b485-0fb208f7b79e",
   "metadata": {
    "tags": []
   },
   "outputs": [],
   "source": [
    "%run \"./zDerivadaNumerica.ipynb\""
   ]
  },
  {
   "cell_type": "markdown",
   "id": "e5e96d2b-d16e-4796-939a-46c96d46ad7d",
   "metadata": {},
   "source": [
    "Cálculo de derivadas usando sympy."
   ]
  },
  {
   "cell_type": "code",
   "execution_count": null,
   "id": "d8d0d295-1e2b-44be-b1b0-6d1e6e303cd9",
   "metadata": {
    "tags": []
   },
   "outputs": [],
   "source": [
    "f = 1/(x**2+x+1)\n",
    "display(f)\n",
    "sympy.diff(1/(x**2+x+1),x)    # Derivada con respecto a x"
   ]
  },
  {
   "cell_type": "code",
   "execution_count": null,
   "id": "c9f9e9a2-693d-447f-a3fe-ba8e5eb820ca",
   "metadata": {
    "tags": []
   },
   "outputs": [],
   "source": [
    "y = sympy.symbols('y')\n",
    "f = 1/(x**2+y+1)\n",
    "derivada = sympy.Derivative(f,y) # Derivada con respecto a y\n",
    "display(derivada)\n",
    "derivada.doit()"
   ]
  },
  {
   "cell_type": "code",
   "execution_count": null,
   "id": "86e82e8f-68dc-486c-b0c6-29f96e3293af",
   "metadata": {
    "tags": []
   },
   "outputs": [],
   "source": [
    "f = x**2\n",
    "derivada = sympy.Derivative(f,x,2) # Segunda derivada con respecto a x\n",
    "display(derivada)\n",
    "derivada.doit()"
   ]
  },
  {
   "cell_type": "code",
   "execution_count": null,
   "id": "c56ef3dd-dd42-4005-81f5-66891d28312e",
   "metadata": {
    "tags": []
   },
   "outputs": [],
   "source": [
    "f = 1/(x**2+y+1)\n",
    "derivada = sympy.Derivative(f,y,3) # Tercera derivada con respecto a y\n",
    "display(derivada)\n",
    "derivada.doit()"
   ]
  },
  {
   "cell_type": "code",
   "execution_count": null,
   "id": "1e97ea2b-9ddf-4465-8648-fe6ac76d7000",
   "metadata": {
    "tags": []
   },
   "outputs": [],
   "source": [
    "f = x * y * sympy.log(x * y)\n",
    "derivada = sympy.Derivative(f,x,y) # Derivada parcial con respecto a x, luego con respecto a y\n",
    "display(derivada)\n",
    "derivada.doit()"
   ]
  },
  {
   "cell_type": "markdown",
   "id": "28768419-48e1-4b1a-b2cc-b678d9136768",
   "metadata": {},
   "source": [
    "# Cálculo del gradiente. \n",
    "\n",
    "Definición del [Gradiente](https://es.wikipedia.org/wiki/Gradiente):\n",
    "<blockquote>\n",
    "En análisis matemático, particularmente en cálculo vectorial, el gradiente o vector gradiente de un campo escalar ${\\displaystyle f:\\mathbb {R} \\longrightarrow \\mathbb {R} ^{n}}$ es un campo vectorial, denotado $\\nabla f$. El vector gradiente de $f$ evaluado en un punto genérico $x$ del dominio de $f$ indica la dirección en la cual el campo $f$ varía más rápidamente y su módulo representa el ritmo de variación de $f$ en la dirección de dicho vector gradiente.\n",
    "\n",
    "La generalización del concepto de gradiente para funciones vectoriales de varias variables es el concepto de matriz jacobiana.\n",
    "</blockquote>\n",
    "\n",
    "Si $f$ es una función de varias variables $x, y, z, \\dots$, entonces su gradiente se denota por:\n",
    "\n",
    "$$\n",
    "\\nabla f = \\left[\n",
    "\\begin{array}{c}\n",
    "\\frac{\\partial f}{\\partial x} \\\\\n",
    "\\frac{\\partial f}{\\partial y} \\\\\n",
    "\\frac{\\partial f}{\\partial z} \\\\\n",
    "\\vdots\n",
    "\\end{array}\n",
    "\\right]\n",
    "$$"
   ]
  },
  {
   "cell_type": "markdown",
   "id": "5e355db9-1232-4ffd-9a5f-fe067f692411",
   "metadata": {},
   "source": [
    "<div class=\"alert alert-block alert-success\">\n",
    "\n",
    "## Ejemplo 11.\n",
    "Calcular el gradiente de la función: $f(x,y) = 5x^2 + 5y^2$ en $(x, y) \\in (-3,3) \\times(-3,3)$.\n",
    "\n",
    "</div>"
   ]
  },
  {
   "cell_type": "code",
   "execution_count": null,
   "id": "f18efc67-5409-4f83-8088-e4d488901c3f",
   "metadata": {
    "tags": []
   },
   "outputs": [],
   "source": [
    "x, y = sympy.symbols('x y')\n",
    "f = 5 * x**2 + 5 * y**2"
   ]
  },
  {
   "cell_type": "code",
   "execution_count": null,
   "id": "fb90f153-41af-4d2f-ae4a-f42e9cb31a8e",
   "metadata": {
    "tags": []
   },
   "outputs": [],
   "source": [
    "sympy.plotting.plot3d(f, (x, -3, 3), (y, -3, 3))"
   ]
  },
  {
   "cell_type": "code",
   "execution_count": null,
   "id": "c89eeeac-0c7e-4b63-ab7a-0cc5181f486e",
   "metadata": {
    "tags": []
   },
   "outputs": [],
   "source": [
    "xg, yg = np.meshgrid(np.linspace(-3,3,15), np.linspace(-3,3,15))\n",
    "\n",
    "f0 = sympy.lambdify([x, y], f)\n",
    "\n",
    "z = np.array([f0(x1, y1) for x1,y1 in zip(xg,yg)])"
   ]
  },
  {
   "cell_type": "code",
   "execution_count": null,
   "id": "4b695207-277e-4481-93d4-188877eb5e9b",
   "metadata": {
    "tags": []
   },
   "outputs": [],
   "source": [
    "import ipywidgets as widgets\n",
    "\n",
    "def grafica(xg, yg, z, elev, azim, roll):\n",
    "    ax = plt.axes(projection='3d')\n",
    "    ax.plot_surface(xg,yg,z, alpha=0.95, cmap='viridis')\n",
    "    ax.set_xlabel('x')\n",
    "    ax.set_ylabel('y')\n",
    "    ax.view_init(elev, azim, roll)\n",
    "    \n",
    "widgets.interactive(grafica,\n",
    "                    xg = widgets.fixed(xg), yg = widgets.fixed(yg), z = widgets.fixed(z), \n",
    "                    elev = widgets.FloatSlider(min=0, max=180, value = 5, step=5),\n",
    "                    azim = widgets.FloatSlider(min=0, max=180, value = -30, step=5),\n",
    "                    roll = widgets.FloatSlider(min=0, max=180, value = -30, step=5))"
   ]
  },
  {
   "cell_type": "code",
   "execution_count": null,
   "id": "824ef952-6072-43db-9536-3ab001a9ea7a",
   "metadata": {
    "tags": []
   },
   "outputs": [],
   "source": [
    "# Cálculo del gradiente\n",
    "Df = sympy.Matrix([f]).jacobian(sympy.Matrix([x, y]))\n",
    "Df"
   ]
  },
  {
   "cell_type": "code",
   "execution_count": null,
   "id": "fcc3ce60-24df-4bd7-8d37-85703cc9e7ad",
   "metadata": {
    "tags": []
   },
   "outputs": [],
   "source": [
    "# Gráfica del gradiente\n",
    "f1 = sympy.lambdify([x, y], Df[0])\n",
    "f2 = sympy.lambdify([x, y], Df[1])\n",
    "\n",
    "U = np.array([f1(x1, y1) for x1,y1 in zip(xg,yg)])\n",
    "V = np.array([f2(x1, y1) for x1,y1 in zip(xg,yg)])\n",
    "\n",
    "fig = plt.figure(figsize=(6,4))\n",
    "plt.contour(xg, yg, z, levels=20, linewidths = 1.0, cmap='viridis',alpha=0.5)\n",
    "plt.quiver(xg, yg, U, V,zorder=5)\n",
    "plt.gca().set_aspect('equal')\n",
    "plt.show()"
   ]
  },
  {
   "cell_type": "markdown",
   "id": "8b5b7f44-ce8b-4995-8569-b433e0b2e578",
   "metadata": {
    "tags": []
   },
   "source": [
    "# Series de Taylor"
   ]
  },
  {
   "cell_type": "markdown",
   "id": "bd4cfbef-8835-4e90-8a04-64528e423250",
   "metadata": {},
   "source": [
    "## Teorema de Taylor\n",
    "\n",
    "Este teorema nos dice básicamente qué tan grande es la diferencia entre la función $f(x)$ y su aproximación con una serie de Taylor $T_n(x)$ en un punto específico. El teorema se escribe como sigue:\n",
    "***\n",
    "Si tenemos una función $f(x)$ que tiene al menos $(n+1)$ derivadas continuas en un intervalo que contiene a $a$ y $x$, entonces:\n",
    "\n",
    "$\\displaystyle\n",
    "f(x) = f(a) + f^\\prime(a)(x-a) + f^{\\prime\\prime}(a)\\frac{(x-a)^2}{2!} + \\dots + f^{(n)}(a)\\frac{(x-a)^n}{n!} + R_n(x)\n",
    " = T_n(x) + R_n(x)\n",
    "$\n",
    "\n",
    "donde $T_n(x)$ es el polinomio de Taylor de grado $n$ de $f(x)$ y $R_n(x)$ se conoce como el error o el residuo.\n",
    "***\n",
    "\n",
    "## Forma del residuo $R_n(x)$:\n",
    "\n",
    "Existen varias formas para expresar el residuo:\n",
    "\n",
    "- Forma de Lagrange:\n",
    "$\\displaystyle\n",
    "\\boxed{R_n(x) = \\frac{f^{(n+1)}(\\xi)}{(n+1)!}(x-a)^{n+1}}\n",
    "$\n",
    "- Forma de Cauchy:\n",
    "$\\displaystyle\n",
    "\\boxed{R_n(x) = \\frac{f^{(n+1)}(\\xi)}{n!}(x-\\xi)^{n}(x-a)}\n",
    "$\n",
    "- Forma Integral:\n",
    "$\\displaystyle\n",
    "\\boxed{R_n(x) = \\int_{a}^{x} \\frac{f^{(n+1)}(t)}{n!} (x-t)^n dt}\n",
    "$\n",
    "\n",
    "donde $\\xi$ es un número real entre $x$ y $a$.\n",
    "\n",
    "Estas tres formas NO permiten calcular de manera sencilla el residuo por lo que en general se usa una cota, como se muestra a continuación:\n",
    "\n",
    "Si $|f^{(n+1)}(x)| \\leq M$ en el intervalo $(a-x, a+x)$ entonces el residuo es\n",
    "\n",
    "$\\displaystyle\n",
    "\\boxed{R_n(x) \\leq \\frac{M(x-a)^{n+1}}{(n+1)!}}\n",
    "$\n",
    "\n",
    "Usando esta desligualdad, se pueden hacer distintos tipos de aproximaciones."
   ]
  },
  {
   "cell_type": "code",
   "execution_count": null,
   "id": "f16cf95c-2880-4cf8-961f-e3a51cdea1d7",
   "metadata": {
    "tags": []
   },
   "outputs": [],
   "source": [
    "sympy.series(sympy.cos(x))   # Punto central en cero"
   ]
  },
  {
   "cell_type": "code",
   "execution_count": null,
   "id": "e7f1073f-1020-452a-af12-26b57b68fcaa",
   "metadata": {
    "tags": []
   },
   "outputs": [],
   "source": [
    "sympy.series(sympy.cos(x),n=10) # Calcula hasta orden 10 de la variable x"
   ]
  },
  {
   "cell_type": "code",
   "execution_count": null,
   "id": "ec4e17b8-63e8-46ac-b124-a48de2539206",
   "metadata": {
    "tags": []
   },
   "outputs": [],
   "source": [
    "sympy.series(sympy.cos(x),n=10).removeO() # "
   ]
  },
  {
   "cell_type": "code",
   "execution_count": null,
   "id": "59234a65-bb76-4862-864e-cd4a91f1366e",
   "metadata": {
    "tags": []
   },
   "outputs": [],
   "source": [
    "T5 = sympy.series(sympy.cos(x), n=5, x0=sympy.pi/2) # alrededor de pi/2"
   ]
  },
  {
   "cell_type": "code",
   "execution_count": null,
   "id": "3fffd041-28ca-44a7-b3ca-80206d4d18af",
   "metadata": {
    "tags": []
   },
   "outputs": [],
   "source": [
    "T5"
   ]
  },
  {
   "cell_type": "code",
   "execution_count": null,
   "id": "deb31ace-b88c-4bce-942b-57b5d09991b4",
   "metadata": {
    "tags": []
   },
   "outputs": [],
   "source": [
    "P5 = T5.removeO()"
   ]
  },
  {
   "cell_type": "code",
   "execution_count": null,
   "id": "98ed873f-5d39-4cb1-8ec5-3b9f154e54e0",
   "metadata": {
    "tags": []
   },
   "outputs": [],
   "source": [
    "ph = sympy.plot((sympy.cos(x), (x, 0, sympy.pi)), (P5, (x, 0, sympy.pi)), show=False)\n",
    "ph.size = (6,3)\n",
    "ph.ylabel = '$P_5(x)$'\n",
    "ph.show()"
   ]
  },
  {
   "cell_type": "code",
   "execution_count": null,
   "id": "c4cedbd5-103b-4a0f-8808-502e7577f929",
   "metadata": {},
   "outputs": [],
   "source": [
    "%run \"./zinteractivoSeriesTaylor.ipynb\""
   ]
  },
  {
   "cell_type": "markdown",
   "id": "dc7d9459-eab1-4057-bc23-df85454ba89e",
   "metadata": {
    "tags": []
   },
   "source": [
    "# Integración"
   ]
  },
  {
   "cell_type": "code",
   "execution_count": null,
   "id": "76efe628-ed2b-4f72-91b3-be3840371552",
   "metadata": {
    "tags": []
   },
   "outputs": [],
   "source": [
    "f = 6*x**5\n",
    "display(f)\n",
    "sympy.integrate(6*x**5, x)"
   ]
  },
  {
   "cell_type": "code",
   "execution_count": null,
   "id": "169844bb-a758-4767-adb8-907b85db6ed9",
   "metadata": {
    "tags": []
   },
   "outputs": [],
   "source": [
    "f = sympy.sin(x)\n",
    "integral = sympy.Integral(f) # Integrales indefinidas\n",
    "display(integral)\n",
    "integral.doit()"
   ]
  },
  {
   "cell_type": "code",
   "execution_count": null,
   "id": "61ea01ee-7e8f-4588-85c7-3389578f5521",
   "metadata": {
    "tags": []
   },
   "outputs": [],
   "source": [
    "f = sympy.cos(x)\n",
    "integral = sympy.Integral(f, (x, -sympy.pi/2, sympy.pi/2)) # Integrales definidas\n",
    "display(integral)\n",
    "integral.doit()"
   ]
  },
  {
   "cell_type": "code",
   "execution_count": null,
   "id": "aaa6055f-a39b-421c-8471-be13a81f9974",
   "metadata": {
    "tags": []
   },
   "outputs": [],
   "source": [
    "f = sympy.exp(-x)\n",
    "integral = sympy.Integral(f, (x, 0, sympy.oo)) # Integrales impropias\n",
    "display(integral)\n",
    "integral.doit()"
   ]
  },
  {
   "cell_type": "code",
   "execution_count": null,
   "id": "210f85dd-45a5-4ee2-9846-644a68692449",
   "metadata": {
    "tags": []
   },
   "outputs": [],
   "source": [
    "f = sympy.exp(-x**2)\n",
    "integral = sympy.Integral(f, (x, -sympy.oo, sympy.oo)) # Integrales impropias\n",
    "display(integral)\n",
    "integral.doit()"
   ]
  },
  {
   "cell_type": "markdown",
   "id": "d755d745-92da-4a32-ad09-b89063a0c78b",
   "metadata": {
    "tags": []
   },
   "source": [
    "# Teorema fundamental\n",
    "\n",
    "<blockquote>\n",
    "\n",
    "* El teorema fundamental del cálculo consiste (intuitivamente) en la afirmación de que la derivación e integración de una función son operaciones inversas.\n",
    "\n",
    "* Esto significa que toda función acotada e integrable (siendo continua o discontinua en un número finito de puntos) verifica que la derivada de su integral es igual a ella misma.\n",
    "\n",
    "Wikipedia: [**Teorema fundamental del cálculo**](https://es.wikipedia.org/wiki/Teorema_fundamental_del_c%C3%A1lculo).\n",
    "</blockquote>\n",
    "\n",
    "**Primer teorema fundamental del cálculo**.\n",
    "\n",
    "Sea $f$ una función integrable en el intervalo $[a, b]$, definimos $F$ en $[a, b]$ como\n",
    "\n",
    "$$\n",
    "F(x)=\\int_{a}^{x}f(t)dt\n",
    "$$\n",
    "\n",
    "si $f$ es continua en $c\\in (a,b)$ entonces $F$ es diferenciable en $c$ y\n",
    "\n",
    "$$\n",
    "F^{\\prime}(c) = f(c)\n",
    "$$    \n"
   ]
  },
  {
   "cell_type": "code",
   "execution_count": null,
   "id": "55e96c1a-6041-4cb4-96d6-4b0ae57a8fca",
   "metadata": {
    "tags": []
   },
   "outputs": [],
   "source": [
    "# Definición de una función\n",
    "f = x * x * sympy.log(x**2) + sympy.cos(x)\n",
    "\n",
    "print(\"Función original f(x):\")\n",
    "display(f)"
   ]
  },
  {
   "cell_type": "code",
   "execution_count": null,
   "id": "521264cb-8628-49c2-8c08-34427cb0b802",
   "metadata": {},
   "outputs": [],
   "source": [
    "# Cálculo de la derivada de la función\n",
    "derivada = sympy.Derivative(f,x)\n",
    "display(derivada)\n",
    "\n",
    "fp = derivada.doit()\n",
    "\n",
    "print(\"\\nDerivada de la función f(x):\")\n",
    "display(fp)"
   ]
  },
  {
   "cell_type": "code",
   "execution_count": null,
   "id": "9f85505e-5c66-4aa5-9ed2-e495f5687fdf",
   "metadata": {
    "tags": []
   },
   "outputs": [],
   "source": [
    "# Cálculo de la integral de la derivada de la función\n",
    "integral = sympy.Integral(fp, x) \n",
    "display(integral)\n",
    "\n",
    "print(\"\\nIntegral de la derivada de la función f(x):\")\n",
    "integral.doit()"
   ]
  },
  {
   "cell_type": "markdown",
   "id": "36e9d0ab-2a46-4677-9ede-9bc6fd7f4ab1",
   "metadata": {},
   "source": [
    "**Segundo teorema fundamental del cálculo**.\n",
    "\n",
    "Sea $f$ una función integrable en el intervalo $[a,b]$ y $f = g^\\prime$ para alguna función $g$ entonces\n",
    "\n",
    "$$\n",
    "\\int _{a}^{b}f(x)dx=g(b)-g(a)\n",
    "$$"
   ]
  },
  {
   "cell_type": "code",
   "execution_count": null,
   "id": "d127599a-191d-4428-9fe9-09488f39a57d",
   "metadata": {},
   "outputs": [],
   "source": []
  }
 ],
 "metadata": {
  "kernelspec": {
   "display_name": "Python 3 (ipykernel)",
   "language": "python",
   "name": "python3"
  },
  "language_info": {
   "codemirror_mode": {
    "name": "ipython",
    "version": 3
   },
   "file_extension": ".py",
   "mimetype": "text/x-python",
   "name": "python",
   "nbconvert_exporter": "python",
   "pygments_lexer": "ipython3",
   "version": "3.11.6"
  }
 },
 "nbformat": 4,
 "nbformat_minor": 5
}
