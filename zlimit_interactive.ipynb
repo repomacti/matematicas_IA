{
 "cells": [
  {
   "cell_type": "code",
   "execution_count": 1,
   "id": "ba6e31d4-f72c-46d0-8643-7d7eded500d1",
   "metadata": {
    "tags": []
   },
   "outputs": [],
   "source": [
    "import numpy as np\n",
    "import matplotlib.pyplot as plt\n",
    "import ipywidgets as widgets\n",
    "import macti.vis\n",
    "import sympy\n",
    "\n",
    "def limite_grafico(x0p, x0m, funcion):\n",
    "    \n",
    "    x = sympy.symbols('x')\n",
    "    if funcion == 'Heaviside':\n",
    "        f = sympy.Heaviside(x)\n",
    "    elif funcion == 'Logística':\n",
    "        f = 1 / (1 + sympy.exp(-x))\n",
    "    \n",
    "    limiteP = sympy.Limit(f, x, x0p, dir='+')  \n",
    "    limiteM = sympy.Limit(f, x, x0m, dir='-')  \n",
    "    print(limiteP, limiteP.doit())\n",
    "    print(limiteM, limiteM.doit())\n",
    "\n",
    "    fg = sympy.lambdify(x, f)\n",
    "    xcoord = np.linspace(-10, 10, 100)                  \n",
    "    plt.plot(xcoord, fg(xcoord))\n",
    "    plt.scatter(x0p, fg(x0p), fc = 'C1', ec='C0', alpha=0.75, s = 75, zorder=5)\n",
    "    plt.scatter(x0m, fg(x0m), fc = 'C2', ec='C0', alpha=0.75, s = 75, zorder=5)\n",
    "\n",
    "    plt.show()\n",
    "\n",
    "w = widgets.interactive(limite_grafico,\n",
    "                    x0p = widgets.FloatSlider(min=0.01, max=7.01, value=7.01, step=1.0, description='$x_0^+$'),\n",
    "                    x0m = widgets.FloatSlider(min=-7.01, max=-0.01, value=-7.01, step=1.0, description='$x_0^-$'),\n",
    "                    funcion = widgets.Dropdown(options = ['Heaviside', 'Logística'], description='Función')\n",
    "                   )"
   ]
  },
  {
   "cell_type": "code",
   "execution_count": 2,
   "id": "ce9d1d60-e3dd-4b50-8e97-c7fc1a95288c",
   "metadata": {
    "tags": []
   },
   "outputs": [
    {
     "data": {
      "application/vnd.jupyter.widget-view+json": {
       "model_id": "f49f6ec5853a4e4094e7525bc9716dd2",
       "version_major": 2,
       "version_minor": 0
      },
      "text/plain": [
       "interactive(children=(FloatSlider(value=7.01, description='$x_0^+$', max=7.01, min=0.01, step=1.0), FloatSlide…"
      ]
     },
     "metadata": {},
     "output_type": "display_data"
    }
   ],
   "source": [
    "display(w)"
   ]
  },
  {
   "cell_type": "code",
   "execution_count": null,
   "id": "fc77e69d-f8bc-41d0-9533-8ffce634a1a8",
   "metadata": {},
   "outputs": [],
   "source": []
  }
 ],
 "metadata": {
  "kernelspec": {
   "display_name": "Python 3 (ipykernel)",
   "language": "python",
   "name": "python3"
  },
  "language_info": {
   "codemirror_mode": {
    "name": "ipython",
    "version": 3
   },
   "file_extension": ".py",
   "mimetype": "text/x-python",
   "name": "python",
   "nbconvert_exporter": "python",
   "pygments_lexer": "ipython3",
   "version": "3.11.6"
  }
 },
 "nbformat": 4,
 "nbformat_minor": 5
}
