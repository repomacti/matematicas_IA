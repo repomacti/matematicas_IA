{
 "cells": [
  {
   "cell_type": "markdown",
   "id": "be542df0-c8b2-4c5c-bee6-6ca6e0223431",
   "metadata": {},
   "source": [
    "# Matemáticas para IA con Python.\n",
    "\n",
    "# Objetivos.\n",
    "Introducir el Módulo de Inducción del Macroentrenamiento en Inteligencia Artificial 2025.\n",
    "\n",
    " <p xmlns:cc=\"http://creativecommons.org/ns#\" xmlns:dct=\"http://purl.org/dc/terms/\"><a property=\"dct:title\" rel=\"cc:attributionURL\" href=\"https://github.com/luiggix/intro_MeIA_2023\">Matemáticas para IA con Python</a> by <span property=\"cc:attributionName\">Luis Miguel de la Cruz Salas</span> is licensed under <a href=\"http://creativecommons.org/licenses/by-nc-sa/4.0/?ref=chooser-v1\" target=\"_blank\" rel=\"license noopener noreferrer\" style=\"display:inline-block;\">CC BY-NC-SA 4.0<img style=\"height:22px!important;margin-left:3px;vertical-align:text-bottom;\" src=\"https://mirrors.creativecommons.org/presskit/icons/cc.svg?ref=chooser-v1\"><img style=\"height:22px!important;margin-left:3px;vertical-align:text-bottom;\" src=\"https://mirrors.creativecommons.org/presskit/icons/by.svg?ref=chooser-v1\"><img style=\"height:22px!important;margin-left:3px;vertical-align:text-bottom;\" src=\"https://mirrors.creativecommons.org/presskit/icons/nc.svg?ref=chooser-v1\"><img style=\"height:22px!important;margin-left:3px;vertical-align:text-bottom;\" src=\"https://mirrors.creativecommons.org/presskit/icons/sa.svg?ref=chooser-v1\"></a></p> "
   ]
  },
  {
   "cell_type": "markdown",
   "id": "ce697781-420f-4ad7-be16-0b5f86d69103",
   "metadata": {
    "tags": []
   },
   "source": [
    "# Importancia del análisis de datos.\n",
    "\n",
    "## El *Big Data*.\n",
    "\n",
    "Hoy en día el acceso a la información es más rápiso y directo que en décadas pasadas.\n",
    "\n",
    "<table class=\"default\">\n",
    "  <tr>\n",
    "    <td rowspan = \"8\">\n",
    "    <img src=\"https://cdn.statcdn.com/Infographic/images/normal/26031.jpeg\" width=400px></td>\n",
    "    <td>YB = 1000<sup>8</sup></td>\n",
    "  </tr>\n",
    "  <tr>\n",
    "    <td style=\"background-color:#FF7F50;\">ZB = 1000<sup>7</sup></td>\n",
    "  </tr>    \n",
    "  <tr>\n",
    "    <td>EB = 1000<sup>6</sup></td>\n",
    "  </tr>\n",
    "  <tr>\n",
    "    <td>PB = 1000<sup>5</sup></td>\n",
    "  </tr>\n",
    "  <tr>\n",
    "    <td>TB = 1000<sup>4</sup></td>\n",
    "  </tr>\n",
    "  <tr>\n",
    "    <td>GB = 1000<sup>3</sup></td>\n",
    "  </tr>\n",
    "  <tr>\n",
    "    <td>MB = 1000<sup>2</sup></td>\n",
    "  </tr>\n",
    "  <tr>\n",
    "    <td>kB = 1000</td>\n",
    "  </tr>\n",
    "</table>\n",
    "\n",
    "## ¿Por qué es importante el análisis de *Big Data*?\n",
    "\n",
    "* En los **negocios**: el análisis de grandes conjuntos de datos ayuda a las organizaciones a aprovechar sus datos y utilizarlos para identificar nuevas oportunidades. Eso, a su vez, conduce a movimientos de negocios más inteligentes, operaciones más eficientes, mayores ganancias y clientes más felices.\n",
    "\n",
    "* En la **ciencia**: el análisis de datos es una herramienta esencial porque permite descubrir patrones y relaciones en los datos, tomar decisiones basadas en hechos objetivos, validar hipótesis científicas, comunicar los resultados de manera clara y facilitar la replicación de los experimentos.\n",
    "\n",
    "En general, el análisis de datos permite **tomar decisiones basadas en hechos y datos**, en lugar de basarse únicamente en intuiciones o suposiciones."
   ]
  },
  {
   "cell_type": "markdown",
   "id": "62890d8c-7620-4f4b-9da1-70492def6a8b",
   "metadata": {},
   "source": [
    "## Conocimientos necesarios.\n",
    "\n",
    "¿Que conocimientos necesito para **procesar un conjunto de datos de gran tamaño** y sacar el mayor provecho posible, y para intentar **conocer el futuro** únicamente con datos sobre el pasado?\n",
    "\n",
    "### Estadística.\n",
    "\n",
    "<p>Definición de <a href=\"https://es.wikipedia.org/wiki/Estad%C3%ADstica\">estadística</a> de Wikipedia:</p>\n",
    "<blockquote cite=\"https://es.wikipedia.org/wiki/Estad%C3%ADstica\">\n",
    "La estadística (la forma femenina del término alemán <i>Statistik</i>, derivado a su vez del italiano <i>statista</i>, ‘hombre de Estado’) es la disciplina que estudia la variabilidad, recolección, organización, análisis, interpretación y presentación de los datos, así como el proceso aleatorio que los genera siguiendo las leyes de la probabilidad.\n",
    "</blockquote>\n",
    "\n",
    "La estadística se puede dividir en dos ramas principales:\n",
    "* **Estadística descriptiva**. Nos permite describir un conjuto de datos a través de diferentes medidas: promedio, moda, mediana, desviación estándar, entre otras.\n",
    "\n",
    "* **Estadítica inferencial**. Podemos obtener conclusiones (establecer inferencias) útiles a partir de una gran cantidad de datos, usando un pequeño conjunto de esos datos, es decir de una muestra. Las inferencias nos permiten formular predicciones, identificar causas y efectos, y responder a las preguntas y todos aquellos elementos que requieran relacionar los datos con nuestro conocimiento o experiencia previa.\n",
    "\n",
    "\n",
    "### Aprendizaje de automático (*Machine Learnig*).\n",
    "\n",
    "Predicción a través de la creación de algoritmos que *aprenden* de los datos.\n",
    "\n",
    "<p>Definición de <a href=\"https://es.wikipedia.org/wiki/Aprendizaje_autom%C3%A1tico\">aprendizaje de automático</a> de Wikipedia:</p>\n",
    "<blockquote cite=\"https://es.wikipedia.org/wiki/Aprendizaje_autom%C3%A1tico\">\n",
    "El <b>aprendizaje automático</b> o <b>aprendizaje automatizado</b> o <b>aprendizaje de máquinas</b> o <b>aprendizaje computacional</b> (del inglés, <i>machine learning</i>) es el subcampo de las ciencias de la computación y una rama de la inteligencia artificial, cuyo objetivo es desarrollar técnicas que permitan que las computadoras aprendan. Se dice que un agente aprende cuando su <b>desempeño mejora con la experiencia</b> y mediante el <b>uso de datos</b>; es decir, cuando la habilidad no estaba presente en su genotipo o rasgos de nacimiento. <br><br>\n",
    "\"En el aprendizaje de máquinas un computador observa datos, construye un modelo basado en esos datos y utiliza ese modelo a la vez como una hipótesis acerca del mundo y una pieza de software que puede resolver problemas\". Russell and Norvig (2021). <i>Artificial Intelligence: A Modern Approach</i> (en inglés). Pearson. p. 651. ISBN 9780134610993.\n",
    "</blockquote>\n",
    "\n",
    "### Matemáticas básicas.\n",
    "\n",
    "Tanto la Estadística como el Aprendizaje de Máquina requieren de un conjunto de matemáticas básicas, sobre las cuales se desarrollan conceptos más avanzados. Particularmente:\n",
    "* Cálculo. \n",
    "* Álgebra lineal. \n",
    "* Análisis numérico."
   ]
  },
  {
   "cell_type": "markdown",
   "id": "fe6255c5-8186-4c95-bf1e-186b71a5c1c0",
   "metadata": {},
   "source": [
    "### Python y su entorno para IA.\n",
    "\n",
    "Existen muchas herramientas computacionales para el análisis de información y creación de modelos de IA. Particularmente, el lenguaje de programación Python proporciona muchas herramientas de aprendizaje automático. Desde las más básicas para cálculo numérico ([numpy](https://numpy.org/)), cálculo simbólico ([sympy](https://www.sympy.org/en/index.html)), análisis de datos ([pandas](https://pandas.pydata.org/)) y graficación ([matplotlib](https://matplotlib.org/)) y otras más especializadas para redes neuronales ([scikit-learn](https://scikit-learn.org/stable/), [tensorflow](https://www.tensorflow.org/), [pytorch](https://pytorch.org/)).\n",
    "\n",
    "En Python tenemos todos los ingredientes para realizar aplicaciones de IA. "
   ]
  }
 ],
 "metadata": {
  "kernelspec": {
   "display_name": "Python 3 (ipykernel)",
   "language": "python",
   "name": "python3"
  },
  "language_info": {
   "codemirror_mode": {
    "name": "ipython",
    "version": 3
   },
   "file_extension": ".py",
   "mimetype": "text/x-python",
   "name": "python",
   "nbconvert_exporter": "python",
   "pygments_lexer": "ipython3",
   "version": "3.11.6"
  }
 },
 "nbformat": 4,
 "nbformat_minor": 5
}
