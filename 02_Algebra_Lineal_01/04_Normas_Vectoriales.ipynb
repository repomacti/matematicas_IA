{
 "cells": [
  {
   "cell_type": "markdown",
   "id": "93ae67ec-2998-465f-a13e-ed9997afdcc6",
   "metadata": {},
   "source": [
    "# Normas vectoriales.\n",
    "\n",
    "**Objetivo.** Revisar e ilustrar los conceptos de normas vectoriales usando la biblioteca `numpy`.\n",
    "\n",
    " <p xmlns:cc=\"http://creativecommons.org/ns#\" xmlns:dct=\"http://purl.org/dc/terms/\"><a property=\"dct:title\" rel=\"cc:attributionURL\" href=\"https://github.com/repomacti/macti/tree/main/notebooks/Algebra_Lineal_01\">MACTI-Algebra_Lineal_01</a> by <a rel=\"cc:attributionURL dct:creator\" property=\"cc:attributionName\" href=\"https://www.macti.unam.mx\">Luis M. de la Cruz</a> is licensed under <a href=\"http://creativecommons.org/licenses/by-sa/4.0/?ref=chooser-v1\" target=\"_blank\" rel=\"license noopener noreferrer\" style=\"display:inline-block;\">Attribution-ShareAlike 4.0 International<img style=\"height:22px!important;margin-left:3px;vertical-align:text-bottom;\" src=\"https://mirrors.creativecommons.org/presskit/icons/cc.svg?ref=chooser-v1\"><img style=\"height:22px!important;margin-left:3px;vertical-align:text-bottom;\" src=\"https://mirrors.creativecommons.org/presskit/icons/by.svg?ref=chooser-v1\"><img style=\"height:22px!important;margin-left:3px;vertical-align:text-bottom;\" src=\"https://mirrors.creativecommons.org/presskit/icons/sa.svg?ref=chooser-v1\"></a></p> \n",
    "\n",
    "**Trabajo realizado con el apoyo del Programa UNAM-DGAPA-PAPIME, proyectos PE101019 y PE101922.**"
   ]
  },
  {
   "cell_type": "code",
   "execution_count": null,
   "id": "ee1440ca-ac8e-40ae-b621-9f96335840e1",
   "metadata": {
    "tags": []
   },
   "outputs": [],
   "source": [
    "# Importamos las bibliotecas requeridas\n",
    "import numpy as np\n",
    "import ipywidgets as widgets\n",
    "import macti.vis as mvis"
   ]
  },
  {
   "cell_type": "markdown",
   "id": "ba7c4135-dacd-4989-831c-ea445b6b5160",
   "metadata": {},
   "source": [
    "# Definición.\n",
    "\n",
    "Una función $||\\cdot ||$  de vectores se denomina norma vectorial si para cualesquiera dos vectores $\\vec{x}$ y $\\vec{y}$ de $\\mathbb{R}^n$ se satisfacen los siguiente axiomas:\n",
    "\n",
    "1. $||\\vec{x} || \\ge 0$\n",
    "2. $||\\vec{x} || = 0 \\iff \\vec{x} = 0$\n",
    "3. $||a\\vec{x} || = |a| \\; || \\vec{x} ||$\n",
    "4. $||\\vec{x} + \\vec{y}|| \\le ||\\vec{x} || + ||\\vec{y}||$ (desigualdad triangular)\n",
    "\n",
    "\n",
    "## Tipos de normas.\n",
    "\n",
    "$$\n",
    "\\begin{array}{lcl}\n",
    "\\text{Norma 1} & \\rightarrow & ||\\vec{x}||_1 = \\sum_{i=1}^n |x_i|  \\\\\n",
    "\\text{Norma 2 (Euclideana)} & \\rightarrow & ||\\vec{x}||_2 = \\left( \\sum_{i=1}^n |x_i|^2 \\right)^{1/2} = \\langle \\vec{x}, \\vec{x} \\rangle^{1/2} = (\\vec{x}^T \\cdot \\vec{x})^{1/2}\n",
    "\\text{Norma 1} & \\rightarrow & ||\\vec{x}||_1 = \\sum_{i=1}^n |x_i|  \\\\\n",
    "\\text{Norma Infinito} & \\rightarrow & ||\\vec{x}||_\\infty = \\max_{i \\le 1 \\le n} |x_i|\n",
    "\\end{array}\n",
    "$$"
   ]
  },
  {
   "cell_type": "markdown",
   "id": "c785c487-2bfa-4641-8842-57cd44cecd39",
   "metadata": {},
   "source": [
    "<div class=\"alert alert-success\">\n",
    "\n",
    "## Ejemplo 1.\n",
    "\n",
    "Para los vectores $\\vec{x} = (2, 3, -4, 5)$ y $\\vec{y} = (3.0, -1.45, 8.5, 2.1)$ en $\\mathbb{R}^4$ probar que se cumplen las propiedades de la norma para los tres tipos de norma antes definidos.\n",
    "\n",
    "</div>"
   ]
  },
  {
   "cell_type": "markdown",
   "id": "62862e2f-7a87-4208-898a-f4c1835830b4",
   "metadata": {},
   "source": [
    "Primero definimos los vectores"
   ]
  },
  {
   "cell_type": "code",
   "execution_count": null,
   "id": "04bfb50a-7b50-41d4-a233-2766d9ecb140",
   "metadata": {
    "tags": []
   },
   "outputs": [],
   "source": [
    "x = np.array([2, 3, -4, 5]) \n",
    "y = np.array([3.0, -1.45, 8.5, 2.1])\n",
    "\n",
    "# Imprimimos los vectores\n",
    "print('x = {}'.format(x))\n",
    "print('y = {}'.format(y))"
   ]
  },
  {
   "cell_type": "markdown",
   "id": "e9c92130-4e2e-4d32-a3ed-f23d6555ca6e",
   "metadata": {},
   "source": [
    "## Propiedad 1. $||\\vec{x} || \\ge 0$"
   ]
  },
  {
   "cell_type": "markdown",
   "id": "1836940d-cfbd-48f8-b14f-4b3c6e65d12c",
   "metadata": {
    "tags": []
   },
   "source": [
    "Podemos calcular los diferentes tipos de norma para estos vectores usando la función `np.linalg.norm()`:"
   ]
  },
  {
   "cell_type": "code",
   "execution_count": null,
   "id": "e212b520-d99f-4995-ad8f-818cc7a7d6c2",
   "metadata": {
    "tags": []
   },
   "outputs": [],
   "source": [
    "x_n1 = np.linalg.norm(x, 1)\n",
    "y_n1 = np.linalg.norm(y, 1)\n",
    "print('\\nNorma 1 \\n ∥x∥₁ = {} \\n ∥y∥₁ = {}'.format(x_n1, y_n1))\n",
    "\n",
    "x_n2 = np.linalg.norm(x, 2)\n",
    "y_n2 = np.linalg.norm(y, 2)\n",
    "print('\\nNorma 2 \\n ∥x∥₂ = {} \\n ∥y∥₂ = {}'.format(x_n2, y_n2))\n",
    "\n",
    "x_nI = np.linalg.norm(x, np.inf)\n",
    "y_nI = np.linalg.norm(y, np.inf)\n",
    "print('\\nNorma infinito \\n ∥x∥∞ = {} \\n ∥y∥∞ = {}'.format(x_nI, y_nI))"
   ]
  },
  {
   "cell_type": "markdown",
   "id": "c936d9e0-9efb-4985-87f2-4d03e73f5210",
   "metadata": {},
   "source": [
    "Del resultado observamos que en todos los casos la norma es mayor que $0$."
   ]
  },
  {
   "cell_type": "markdown",
   "id": "97991281-b8fb-48d3-a9c0-22ca2abcba59",
   "metadata": {},
   "source": [
    "## Propiedad 2. $||\\vec{x} || = 0 \\iff \\vec{x} = 0$\n",
    "\n",
    "En la celda anterior, observamo que en ningún caso la norma es igual a $0$, pues tanto $\\vec{x}$ como $\\vec{y}$ son diferentes de cero. \n",
    "\n",
    "La norma solo será igual a $0$ si el vector es idénticamente $0$:"
   ]
  },
  {
   "cell_type": "code",
   "execution_count": null,
   "id": "43423601-a382-4aa5-9f0b-ed8074b6f254",
   "metadata": {
    "tags": []
   },
   "outputs": [],
   "source": [
    "z = np.zeros(4)\n",
    "print('z = {}'.format(z))\n",
    "\n",
    "z_n1 = np.linalg.norm(z, 1)\n",
    "print('\\nNorma 1 \\n ∥z∥₁ = {}'.format(z_n1))\n",
    "\n",
    "z_n2 = np.linalg.norm(z, 2)\n",
    "print('\\nNorma 2 \\n ∥z∥₂ = {}'.format(z_n2))\n",
    "\n",
    "z_nI = np.linalg.norm(z, np.inf)\n",
    "print('\\nNorma infinito \\n ∥z∥∞ = {}'.format(z_nI))"
   ]
  },
  {
   "cell_type": "markdown",
   "id": "2fe01365-9f70-4bfc-9767-afc8b830f20f",
   "metadata": {},
   "source": [
    "## Propiedad 3. $||a\\vec{x} || = |a| \\; || \\vec{x} ||$\n",
    "\n",
    "Definimos un escalar $a = -3.5$ entonces:"
   ]
  },
  {
   "cell_type": "code",
   "execution_count": null,
   "id": "4c32e411-4e76-49c3-b129-3fd03937b77c",
   "metadata": {
    "tags": []
   },
   "outputs": [],
   "source": [
    "a = -3.5\n",
    "print('a = {}, \\t x = {}'.format(a, x))\n",
    "\n",
    "# Calculamos las normas\n",
    "ax_n1 = np.linalg.norm(a * x, 1) \n",
    "ax_n2 = np.linalg.norm(a * x, 2) \n",
    "ax_nI = np.linalg.norm(a * x, np.inf) \n",
    "a_x_n1 = np.abs(a) * np.linalg.norm(x, 1)\n",
    "a_x_n2 = np.abs(a) * np.linalg.norm(x, 2)\n",
    "a_x_nI = np.abs(a) * np.linalg.norm(x, np.inf)\n",
    "\n",
    "# Verificamos que se cumple la propiedad para las tres normas.\n",
    "print('\\n ∥a x∥₁ = {} \\n |a| ∥x∥₁ = {}'.format(a_x_n1, a_x_n1))\n",
    "print('\\n ∥a x∥₂ = {} \\n |a| ∥x∥₂ = {}'.format(a_x_n2, a_x_n2))\n",
    "print('\\n ∥a x∥∞ = {} \\n |a| ∥x∥∞ = {}'.format(a_x_nI, a_x_nI))"
   ]
  },
  {
   "cell_type": "markdown",
   "id": "3a205d84-4d3e-4a4e-a8aa-5a9df090dc65",
   "metadata": {},
   "source": [
    "## Propiedad 4. $||\\vec{x} + \\vec{y}|| \\le ||\\vec{x} || + ||\\vec{y}||$ (desigualdad triangular)"
   ]
  },
  {
   "cell_type": "code",
   "execution_count": null,
   "id": "04d007d3-e12e-4fae-9a74-3512e680ccc1",
   "metadata": {
    "tags": []
   },
   "outputs": [],
   "source": [
    "# Calculamos la norma 1 de la suma.\n",
    "x_p_y_n1 = np.linalg.norm(x+y, 1)\n",
    "\n",
    "# Calculamos las normas separadas\n",
    "x_n1 = np.linalg.norm(x, 1)\n",
    "y_n1 = np.linalg.norm(y, 1)\n",
    "\n",
    "# Verificamos la propiedad\n",
    "print('\\nNorma 1:')\n",
    "print(' ∥x + y∥₁ = {}'.format(x_p_y_n1))\n",
    "print(' ∥x∥₁ + ∥y∥₁ = {}'.format(x_n1 + y_n1))\n",
    "print(' ¿ ∥x + y∥₁ ≤ ∥x∥₁ + ∥y∥₁ ? ⮕ {}'.format(x_p_y_n1 <= x_n1 + y_n1))"
   ]
  },
  {
   "cell_type": "code",
   "execution_count": null,
   "id": "bcf1a528-75da-41e4-91cc-857e4c9d708b",
   "metadata": {},
   "outputs": [],
   "source": [
    "# Calculamos la norma 2 de la suma.\n",
    "x_p_y_n2 = np.linalg.norm(x+y, 2)\n",
    "\n",
    "# Calculamos las normas separadas\n",
    "x_n2 = np.linalg.norm(x, 2)\n",
    "y_n2 = np.linalg.norm(y, 2)\n",
    "\n",
    "# Verificamos la propiedad\n",
    "print('\\nNorma 2:')\n",
    "print(' ∥x + y∥₂ = {}'.format(x_p_y_n2))\n",
    "print(' ∥x∥₂ + ∥y∥₂ = {}'.format(x_n2 + y_n2))\n",
    "print(' ¿ ∥x + y∥₂ ≤ ∥x∥₂ + ∥y∥₂ ? ⮕ {}'.format(x_p_y_n2 <= x_n2 + y_n2))"
   ]
  },
  {
   "cell_type": "code",
   "execution_count": null,
   "id": "cb5af012-93bf-49ff-b678-8d808c69e0b8",
   "metadata": {},
   "outputs": [],
   "source": [
    "# Calculamos la norma ∞ de la suma.\n",
    "x_p_y_nI = np.linalg.norm(x+y, np.inf)\n",
    "\n",
    "# Calculamos las normas separadas\n",
    "x_nI = np.linalg.norm(x, np.inf)\n",
    "y_nI = np.linalg.norm(y, np.inf)\n",
    "\n",
    "# Verificamos la propiedad\n",
    "print('\\nNorma Infinito:')\n",
    "print(' ∥x + y∥∞ = {}'.format(x_p_y_nI))\n",
    "print(' ∥x∥∞ + ∥y∥∞ = {}'.format(x_nI + y_nI))\n",
    "print(' ¿ ∥x + y∥∞ ≤ ∥x∥∞ + ∥y∥∞ ? ⮕ {}'.format(x_p_y_nI <= x_nI + y_nI))"
   ]
  },
  {
   "cell_type": "markdown",
   "id": "212f842f-f884-4b14-9060-af7d5c654f5c",
   "metadata": {},
   "source": [
    "## Desigualdad de Holder.\n",
    "Para cualesquiera dos vectores $\\vec{x}$, $\\vec{y}$ se cumple:\n",
    "$$\n",
    "|\\vec{x}^T \\cdot \\vec{y}| \\le ||\\vec{x}||_p ||\\vec{y}||_q, \\,\\,\\, \\mbox{donde}\n",
    "\\,\\,\\, p > 1, q > 1 \\,\\,\\, \\mbox{y} \\;\\; \\frac{1}{p} + \\frac{1}{q} = 1\n",
    "$$\n",
    "(Cuando $p = q = 2$ se obtiene la desigualdad de Schwarz)"
   ]
  },
  {
   "cell_type": "code",
   "execution_count": null,
   "id": "20083959-758d-43ed-893c-0fd3339ea883",
   "metadata": {
    "tags": []
   },
   "outputs": [],
   "source": [
    "print('\\nDesigualdad de Holder')\n",
    "x_dot_y = np.abs(np.dot(x, y))\n",
    "\n",
    "print(' |<x, y>| = {}'.format(x_dot_y))\n",
    "print(' ∥x∥p * ∥y∥q = {}'.format(x_n2 * y_n2))\n",
    "print(' ¿ |<x, y>| ≤ ∥x∥p * ∥y∥q ? ⮕ {}'.format(x_dot_y <= x_n2 * y_n2))"
   ]
  },
  {
   "cell_type": "markdown",
   "id": "1bae32b5-ad9c-45f9-8923-0172badef43e",
   "metadata": {},
   "source": [
    "## Equivalencia de normas.\n",
    "En un espacio $\\mathbb{R}^n$ de dimensión finita, cualquiera dos normas arbitrarias son equivalentes:\n",
    "\n",
    "$$\n",
    "\\begin{eqnarray*}\n",
    "||\\vec{x}||_2 \\le & ||\\vec{x}||_1 & \\le \\sqrt{n} ||x||_2 \\\\\n",
    "||\\vec{x}||_\\infty \\le & ||\\vec{x}||_2 & \\le \\sqrt{n} ||x||_\\infty \\\\\n",
    "||\\vec{x}||_\\infty \\le & ||\\vec{x}||_1 & \\le n ||x||_\\infty\n",
    "\\end{eqnarray*}\n",
    "$$"
   ]
  },
  {
   "cell_type": "code",
   "execution_count": null,
   "id": "180e6bc8-4b80-483d-9bef-31a85f89db19",
   "metadata": {
    "tags": []
   },
   "outputs": [],
   "source": [
    "n = 4\n",
    "\n",
    "print('\\nEquivalencia entre norma 1 y norma 2 en R^4 (n=4):\\n')\n",
    "print('∥x∥₂ = {}, ∥x∥₁ = {}, √4 * ∥x∥₂ = {} \\n'.format(x_n2, x_n1, np.sqrt(n) * x_n2))\n",
    "print('¿ ∥x∥₂ ≤ ∥x∥₁ ≤ √4 * ∥x∥₂ ? ⮕ {}'.format(x_n2 <= x_n1 <= np.sqrt(n) * x_n2))"
   ]
  },
  {
   "cell_type": "code",
   "execution_count": null,
   "id": "e7a91d8c-9eb8-42ce-b73a-b77f7e90b1d0",
   "metadata": {
    "tags": []
   },
   "outputs": [],
   "source": [
    "print('\\nEquivalencia entre norma infinito y norma 2 en R^4 (n=4):\\n')\n",
    "print('∥x∥∞ = {}, ∥x∥₂ = {}, √n * ∥x∥∞ = {}\\n'.format(x_nI, x_n2, np.sqrt(n) * x_nI))\n",
    "print('¿ ∥x∥∞ ≤ ∥x∥₂ ≤ √n * ∥x∥∞ ? ⮕ {}'.format(x_nI <= x_n2 <= np.sqrt(n) * x_nI))"
   ]
  },
  {
   "cell_type": "code",
   "execution_count": null,
   "id": "6d45df26-8fa7-4518-b1bf-2894c954a6ff",
   "metadata": {},
   "outputs": [],
   "source": [
    "print('\\nEquivalencia entre norma infinito y norma 1 en R^4 (n=4):\\n')\n",
    "print('∥x∥∞ = {}, ∥x∥₁ = {}, n * ∥x∥∞ = {}\\n'.format(x_nI, x_n1, n * x_nI))\n",
    "print('¿ ∥x∥∞ ≤ ∥x∥₁ ≤ n * ∥x∥∞ ? ⮕ {}'.format(x_nI <= x_n1 <= n * x_nI))"
   ]
  },
  {
   "cell_type": "code",
   "execution_count": null,
   "id": "28ad9c62-91ef-4844-ad89-519d20db456e",
   "metadata": {},
   "outputs": [],
   "source": []
  }
 ],
 "metadata": {
  "kernelspec": {
   "display_name": "Python 3 (ipykernel)",
   "language": "python",
   "name": "python3"
  },
  "language_info": {
   "codemirror_mode": {
    "name": "ipython",
    "version": 3
   },
   "file_extension": ".py",
   "mimetype": "text/x-python",
   "name": "python",
   "nbconvert_exporter": "python",
   "pygments_lexer": "ipython3",
   "version": "3.11.6"
  }
 },
 "nbformat": 4,
 "nbformat_minor": 5
}
