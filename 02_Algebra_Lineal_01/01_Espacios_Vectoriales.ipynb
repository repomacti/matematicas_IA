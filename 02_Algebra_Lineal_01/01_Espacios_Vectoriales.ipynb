{
 "cells": [
  {
   "cell_type": "markdown",
   "id": "6d0ebf25-9632-49f4-9b42-3622d9d9e3a9",
   "metadata": {
    "nbgrader": {
     "grade": false,
     "grade_id": "cell-81cce29cad9ec24f",
     "locked": true,
     "schema_version": 3,
     "solution": false,
     "task": false
    }
   },
   "source": [
    "# Espacio vectorial $\\mathbb{R}^2$.\n",
    "\n",
    "**Objetivo.**\n",
    "Revisar e ilustrar las propiedades del espacio vectorial $\\mathbb{R}^2$ usando la biblioteca `numpy`. Adicionalmente se introduce el uso de la biblioteca `macti.visual` para hacer gráficas de vectores en $\\mathbb{R}^2$.\n",
    "\n",
    "<p xmlns:cc=\"http://creativecommons.org/ns#\" xmlns:dct=\"http://purl.org/dc/terms/\"><a property=\"dct:title\" rel=\"cc:attributionURL\" href=\"https://github.com/repomacti/macti/tree/main/notebooks/Algebra_Lineal_01\">MACTI-Algebra_Lineal_01</a> by <a rel=\"cc:attributionURL dct:creator\" property=\"cc:attributionName\" href=\"https://www.macti.unam.mx\">Luis M. de la Cruz</a> is licensed under <a href=\"http://creativecommons.org/licenses/by-sa/4.0/?ref=chooser-v1\" target=\"_blank\" rel=\"license noopener noreferrer\" style=\"display:inline-block;\">Attribution-ShareAlike 4.0 International<img style=\"height:22px!important;margin-left:3px;vertical-align:text-bottom;\" src=\"https://mirrors.creativecommons.org/presskit/icons/cc.svg?ref=chooser-v1\"><img style=\"height:22px!important;margin-left:3px;vertical-align:text-bottom;\" src=\"https://mirrors.creativecommons.org/presskit/icons/by.svg?ref=chooser-v1\"><img style=\"height:22px!important;margin-left:3px;vertical-align:text-bottom;\" src=\"https://mirrors.creativecommons.org/presskit/icons/sa.svg?ref=chooser-v1\"></a></p> \n",
    "\n",
    "**Trabajo realizado con el apoyo del Programa UNAM-DGAPA-PAPIME, proyectos PE101019 y PE101922.**"
   ]
  },
  {
   "cell_type": "markdown",
   "id": "d8e585f4-adba-4557-a444-a286e50d4ed8",
   "metadata": {
    "nbgrader": {
     "grade": false,
     "grade_id": "cell-a5cd7896c2cf00f8",
     "locked": true,
     "schema_version": 3,
     "solution": false,
     "task": false
    }
   },
   "source": [
    "## Vectores en $\\mathbb{R}^2$.\n",
    "\n",
    "Usando la biblioteca `numpy` podemos definir vectores en varias dimensiones. Para ejemplificar definiremos vectores en $\\mathbb{R}^2$ y haremos algunas operaciones en este espacio vectorial."
   ]
  },
  {
   "cell_type": "code",
   "execution_count": null,
   "id": "17783f94-50ae-421d-be28-dd8d9e92a57f",
   "metadata": {
    "nbgrader": {
     "grade": false,
     "grade_id": "cell-5ea42a9d15f62c38",
     "locked": true,
     "schema_version": 3,
     "solution": false,
     "task": false
    },
    "tags": []
   },
   "outputs": [],
   "source": [
    "# Importar las bibliotecas requeridas\n",
    "import numpy as np\n",
    "import macti.vis as mvis"
   ]
  },
  {
   "cell_type": "markdown",
   "id": "ef264f18-0b1f-4533-b049-da108fd2e690",
   "metadata": {},
   "source": [
    "Definimos dos vectores en $\\mathbb{R}^2$ usando arreglos de una dimensión de `numpy` como sigue:"
   ]
  },
  {
   "cell_type": "code",
   "execution_count": null,
   "id": "6e3a266d-7bad-43f9-a9ff-6a18ba9759a2",
   "metadata": {
    "nbgrader": {
     "grade": false,
     "grade_id": "cell-1cd4a7bdf9a73950",
     "locked": true,
     "schema_version": 3,
     "solution": false,
     "task": false
    },
    "tags": []
   },
   "outputs": [],
   "source": [
    "x = np.array([0.5, 1.0])\n",
    "y = np.array([1.5, 0.5])\n",
    "\n",
    "print('x = ', x)\n",
    "print('y = ', y)"
   ]
  },
  {
   "cell_type": "markdown",
   "id": "a516ee44-5369-4e88-b3d0-ec18eab53f38",
   "metadata": {
    "nbgrader": {
     "grade": false,
     "grade_id": "cell-0518a190919fc71e",
     "locked": true,
     "schema_version": 3,
     "solution": false,
     "task": false
    }
   },
   "source": [
    "La biblioteca `macti.vis` permite graficar los vectores en $\\mathbb{R}^2$:"
   ]
  },
  {
   "cell_type": "code",
   "execution_count": null,
   "id": "bf4e02a0-915f-4291-b934-04713e998639",
   "metadata": {
    "nbgrader": {
     "grade": false,
     "grade_id": "cell-33eada5d64bbd015",
     "locked": true,
     "schema_version": 3,
     "solution": false,
     "task": false
    },
    "tags": []
   },
   "outputs": [],
   "source": [
    "# Definir un objeto 'Plotter' para crear figuras.\n",
    "v = mvis.Plotter()  \n",
    "\n",
    "# Inicializar el sistema de coordenadas.\n",
    "v.set_coordsys()   \n",
    "\n",
    "# Graficar los vectores 'x' y 'y'.\n",
    "v.plot_vectors(1, [x, y], ['x', 'y']) \n",
    "\n",
    "# Mostrar la rejilla del sistema de coordenadas.\n",
    "v.grid()  \n",
    "\n",
    "v.show()"
   ]
  },
  {
   "cell_type": "markdown",
   "id": "ce32d2f2-fd74-489f-8f0a-cf4489c3cf4e",
   "metadata": {
    "nbgrader": {
     "grade": false,
     "grade_id": "cell-ccacc956312f2599",
     "locked": true,
     "schema_version": 3,
     "solution": false,
     "task": false
    }
   },
   "source": [
    "## Propiedades del espacio vectorial $\\mathbb{R}^n$.\n",
    "\n",
    "Dados $\\vec{x}, \\vec{y}, \\vec{z} \\in \\mathbb{R}^n$ y $\\alpha \\in \\mathbb{R}$ entonces:\n",
    "\n",
    "1. $\\vec{x} + \\vec{y} \\in \\mathbb{R}^n$.\n",
    "2. $\\vec{x} + \\vec{y} = \\vec{y} + \\vec{x}$.\n",
    "3. $\\vec{x} + (\\vec{y} + \\vec{z})= (\\vec{x} + \\vec{y}) + \\vec{z}$.\n",
    "4. Existe el vector neutro $\\vec{0} \\in \\mathbb{R}^n$ tal que $\\vec{x} + \\vec{0} = \\vec{x}$.\n",
    "5. Para cada $\\vec{x}\\in \\mathbb{R}^n$ existe el opuesto $-\\vec{x}$ tal que $\\vec{x} + (-\\vec{x}) = \\vec{0}$.\n",
    "6. $\\alpha \\vec{x} \\in \\mathbb{R}^n$.\n",
    "7. $\\alpha (\\vec{x} + \\vec{y}) = \\alpha \\vec{x} + \\alpha \\vec{y}$.\n",
    "8. $(\\alpha + \\beta) \\vec{x} = \\alpha \\vec{x} + \\beta \\vec{x}$.\n",
    "9. $\\alpha (\\beta \\vec{x}) = (\\alpha \\beta) \\vec{x}$.\n",
    "10. Existe el elemento neutro $\\mathbf{1} \\in \\mathbb{R}$ tal que $\\mathbf{1} \\vec{x} = \\vec{x}$.\n",
    "\n",
    "### Propiedad 1: la suma es una operación interna.\n",
    "\n",
    "$\\vec{x} + \\vec{y} \\in \\mathbb{R}^n$."
   ]
  },
  {
   "cell_type": "code",
   "execution_count": null,
   "id": "59a822e9-969f-46cf-8117-1a8b15cca875",
   "metadata": {},
   "outputs": [],
   "source": [
    "# Imprimir vectores\n",
    "print('x =', x)\n",
    "print('y =', y)\n",
    "\n",
    "# Sumar vectores\n",
    "print('\\nx + y =', x + y)"
   ]
  },
  {
   "cell_type": "markdown",
   "id": "80e03530-dcc0-453e-bc78-47704357ed2c",
   "metadata": {},
   "source": [
    "Ahora graficamos los vectores y su suma"
   ]
  },
  {
   "cell_type": "code",
   "execution_count": null,
   "id": "156d1c04-3507-424c-903f-fc30079573f4",
   "metadata": {
    "nbgrader": {
     "grade": false,
     "grade_id": "cell-19325c904ce36c7c",
     "locked": true,
     "schema_version": 3,
     "solution": false,
     "task": false
    },
    "tags": []
   },
   "outputs": [],
   "source": [
    "v = mvis.Plotter()\n",
    "v.set_coordsys()\n",
    "\n",
    "# Graficar los vectores y el resultado de la suma.\n",
    "v.plot_vectors_sum(1, [x, y], ['x', 'y'], ofx=-0.25)\n",
    "\n",
    "v.grid()\n",
    "\n",
    "v.show()"
   ]
  },
  {
   "cell_type": "markdown",
   "id": "35c1b407-168d-43dd-9fc0-2ea29a2e5d53",
   "metadata": {
    "nbgrader": {
     "grade": false,
     "grade_id": "cell-2085141ee3f3f7cf",
     "locked": true,
     "schema_version": 3,
     "solution": false,
     "task": false
    }
   },
   "source": [
    "<div class=\"alert alert-info\">\n",
    "\n",
    "**Nota**.\n",
    "Observa que la función `plot_vectors_sum()`  muestra los vectores originales y la suma de ellos. El nuevo vector $\\vec{x} + \\vec{y}$ está en $\\mathbb{R}^2$.\n",
    "</div>"
   ]
  },
  {
   "cell_type": "markdown",
   "id": "0e83eab0-67dd-40b8-bde7-9f6db0a7a42f",
   "metadata": {
    "nbgrader": {
     "grade": false,
     "grade_id": "cell-a02aa6dec9b124d3",
     "locked": true,
     "schema_version": 3,
     "solution": false,
     "task": false
    }
   },
   "source": [
    "### Propiedad 2: la suma es conmutativa. \n",
    "\n",
    "$\\vec{x} + \\vec{y} = \\vec{y} + \\vec{x}$."
   ]
  },
  {
   "cell_type": "code",
   "execution_count": null,
   "id": "85510924-48b2-403b-8d19-748096da0710",
   "metadata": {
    "nbgrader": {
     "grade": false,
     "grade_id": "cell-a3ef0d55c9193b4a",
     "locked": true,
     "schema_version": 3,
     "solution": false,
     "task": false
    },
    "tags": []
   },
   "outputs": [],
   "source": [
    "# Imprimir vectores\n",
    "print('x =', x)\n",
    "print('y =', y)\n",
    "\n",
    "# Sumar vectores (conmutativa)\n",
    "x_y = x + y\n",
    "y_x = y + x\n",
    "\n",
    "# Imprimir sumas\n",
    "print('\\nx + y =', x_y)\n",
    "print('y + x =', y_x)\n",
    "\n",
    "# Checar si 'x+y' es igual a 'y+x' (dentro de una tolerancia)\n",
    "conmutativa = np.allclose(x_y, y_x)\n",
    "\n",
    "print('\\n¿ x + y == y + x ? ⮕', conmutativa)"
   ]
  },
  {
   "cell_type": "markdown",
   "id": "f77da6f9-2821-4ddb-be4d-73d8d109df2a",
   "metadata": {
    "nbgrader": {
     "grade": false,
     "grade_id": "cell-e634916073c2afef",
     "locked": true,
     "schema_version": 3,
     "solution": false,
     "task": false
    }
   },
   "source": [
    "<div class=\"alert alert-info\">\n",
    "\n",
    "**Notas**.\n",
    "\n",
    "* Observa que la operación suma `+` se realiza componente a componente. \n",
    "    \n",
    "* La función `np.allclose()` compara cada componente de los arreglos y determina que tan \"parecidas\" son hasta una tolerancia absoluta de $10^{-8}$. Esta forma de comparación es la más conveniente cuando se comparan números reales (punto flotante, <i>floating point</i>). Si todas las componentes son \"iguales\" entonces el resultado es `True`; si alguna componente no es igual, el resultado es `False`.\n",
    "</div>\n"
   ]
  },
  {
   "cell_type": "markdown",
   "id": "6e3dd779-8703-483c-a2d0-2356132da6c8",
   "metadata": {
    "nbgrader": {
     "grade": false,
     "grade_id": "cell-5864e0af7c96add6",
     "locked": true,
     "schema_version": 3,
     "solution": false,
     "task": false
    }
   },
   "source": [
    "### Propiedad 3: la suma es asociativa.\n",
    "\n",
    "$\\vec{x} + (\\vec{y} + \\vec{z})= (\\vec{x} + \\vec{y}) + \\vec{z}$."
   ]
  },
  {
   "cell_type": "code",
   "execution_count": null,
   "id": "b1d1fb91-5851-4b73-a865-070f47725730",
   "metadata": {
    "nbgrader": {
     "grade": false,
     "grade_id": "cell-e357468ffbd5cb48",
     "locked": true,
     "schema_version": 3,
     "solution": false,
     "task": false
    },
    "tags": []
   },
   "outputs": [],
   "source": [
    "# Definir el vector 'z'\n",
    "z = x + y\n",
    "\n",
    "# Imprimir vectores\n",
    "print('x =', x)\n",
    "print('y =', y)\n",
    "print('z =', z)\n",
    "\n",
    "# Sumar vectores (asociativa)\n",
    "x_yz = x + (y + z)\n",
    "xy_z = (x + y) + z\n",
    "\n",
    "# Imprimir sumas\n",
    "print('\\nx + (y + z) =', x_yz)\n",
    "print('(x + y) + z =', xy_z)\n",
    "\n",
    "# Checar si 'x + (y + z)' es igual a '(x + y) + z' (dentro de una tolerancia)\n",
    "suma_asociativa = np.allclose(x_yz, xy_z)\n",
    "\n",
    "print('\\n¿x + (y + z) == (x + y) + z? ⮕', suma_asociativa)"
   ]
  },
  {
   "cell_type": "markdown",
   "id": "e02e8e84-4204-4d03-9a78-d4b5f7e20467",
   "metadata": {
    "nbgrader": {
     "grade": false,
     "grade_id": "cell-cc9497163201a408",
     "locked": true,
     "schema_version": 3,
     "solution": false,
     "task": false
    }
   },
   "source": [
    "### Propiedad 4: elemento neutro de la suma.\n",
    "\n",
    "Existe el vector neutro $\\vec{0} \\in \\mathbb{R}^n$ tal que $\\vec{x} + \\vec{0} = \\vec{x}$."
   ]
  },
  {
   "cell_type": "code",
   "execution_count": null,
   "id": "6444b657-468e-4a15-88c7-8aace14a9631",
   "metadata": {
    "nbgrader": {
     "grade": false,
     "grade_id": "cell-c1c30b6d996728cb",
     "locked": true,
     "schema_version": 3,
     "solution": false,
     "task": false
    },
    "tags": []
   },
   "outputs": [],
   "source": [
    "# Definir el vector neutro.\n",
    "cero = np.zeros(2)\n",
    "\n",
    "# Imprimir vectores\n",
    "print('   x =', x)\n",
    "print('cero =', cero)\n",
    "\n",
    "# Imprimir suma\n",
    "print('\\nx + cero =', x + cero)\n",
    "\n",
    "# Checar si 'x + cero' es igual a 'x'\n",
    "elemento_neutro = np.allclose(x, x + cero)\n",
    "\n",
    "print('\\n¿x + cero == x? ⮕', elemento_neutro)"
   ]
  },
  {
   "cell_type": "markdown",
   "id": "d48e72df-f18b-43ac-9146-b8b10a01fcdf",
   "metadata": {
    "nbgrader": {
     "grade": false,
     "grade_id": "cell-fda709bf838ed150",
     "locked": true,
     "schema_version": 3,
     "solution": false,
     "task": false
    }
   },
   "source": [
    "### Propiedad 5: elemento inverso en la suma.\n",
    "\n",
    "Para cada $\\vec{x}\\in \\mathbb{R}^n$ existe el inverso $-\\vec{x}$ tal que $\\vec{x} + (-\\vec{x}) = \\vec{0}$."
   ]
  },
  {
   "cell_type": "code",
   "execution_count": null,
   "id": "a6d68b89-ee33-40bd-a02c-d25f99f437cd",
   "metadata": {
    "nbgrader": {
     "grade": false,
     "grade_id": "cell-efc2944734b1a4a2",
     "locked": true,
     "schema_version": 3,
     "solution": false,
     "task": false
    },
    "tags": []
   },
   "outputs": [],
   "source": [
    "# Imprimir vectores\n",
    "print(' x = ', x)\n",
    "print('-x = ', -x)\n",
    "\n",
    "# Sumar inverso\n",
    "xix = x + (-x)\n",
    "\n",
    "# Imprimir suma\n",
    "print('\\nx + (-x) =', xix)\n",
    "\n",
    "# Checar si 'x + (-x)' es igual a 0:\n",
    "suma_inverso = np.allclose(xix, cero)\n",
    "\n",
    "print('\\n¿x + (-x) == cero? ⮕', suma_inverso)"
   ]
  },
  {
   "cell_type": "markdown",
   "id": "d926a294-1213-4f7f-84f1-bc4a5a5772e9",
   "metadata": {
    "nbgrader": {
     "grade": false,
     "grade_id": "cell-52d5319dc1c208b2",
     "locked": true,
     "schema_version": 3,
     "solution": false,
     "task": false
    }
   },
   "source": [
    "### Propiedad 6: la multiplicación de un vector por un escalar produce un vector.\n",
    "\n",
    "$\\alpha \\vec{x} \\in \\mathbb{R}^n$."
   ]
  },
  {
   "cell_type": "code",
   "execution_count": null,
   "id": "9595f556-6a12-4bc6-8ee2-faa8c6efed30",
   "metadata": {
    "nbgrader": {
     "grade": false,
     "grade_id": "cell-d60544b65a5ddc7e",
     "locked": true,
     "schema_version": 3,
     "solution": false,
     "task": false
    },
    "tags": []
   },
   "outputs": [],
   "source": [
    "# Definir un escalar\n",
    "α = 1.5\n",
    "\n",
    "# Realizar la multiplicación de x por el escalar\n",
    "αx = α * x\n",
    "\n",
    "# Mostrar el resultado\n",
    "print('α =', α)\n",
    "print('x =', x)\n",
    "print('α * x =', αx)"
   ]
  },
  {
   "cell_type": "code",
   "execution_count": null,
   "id": "9172a169-036a-4e3a-90eb-8781e666ddd7",
   "metadata": {},
   "outputs": [],
   "source": [
    "# Graficar el vector original y el resultado.\n",
    "v = mvis.Plotter()\n",
    "v.set_coordsys()\n",
    "v.plot_vectors(1, [x, αx], ['x', 'αx'], ['black', 'cornflowerblue'], w=[0.040, 0.02])\n",
    "v.grid()\n",
    "v.show()"
   ]
  },
  {
   "cell_type": "markdown",
   "id": "8a67c5e5-0087-4bab-9bbb-fed8bfeca5d2",
   "metadata": {
    "nbgrader": {
     "grade": false,
     "grade_id": "cell-6a50cbc9c5c66fe1",
     "locked": true,
     "schema_version": 3,
     "solution": false,
     "task": false
    }
   },
   "source": [
    "Observa que el vector original $\\vec{x} = (0.5, 1.0)$, representado por la flecha negra, es más pequeño que el vector resultante $\\alpha \\vec{x} = (0.75, 1.5)$, representado por la flecha azul. $\\alpha$ multiplica a cada componente del vector $\\vec{x}$. <br><br>\n",
    "Cuando multiplicamos un vector por un escalar, puede ocurrir que su longitud se agrande, se reduzca y/o que cambie de sentido.<br><br>\n",
    "Intenta modificar el valor de $\\alpha$ a $0.5$ y luego a $-0.5$, observa que sucede con la gráfica."
   ]
  },
  {
   "cell_type": "markdown",
   "id": "14bf4330-88c2-4af8-8778-4beac0064b59",
   "metadata": {
    "nbgrader": {
     "grade": false,
     "grade_id": "cell-02f3de168254ea92",
     "locked": true,
     "schema_version": 3,
     "solution": false,
     "task": false
    }
   },
   "source": [
    "### Propiedad 7: distributividad I.\n",
    "\n",
    "$\\alpha (\\vec{x} + \\vec{y}) = \\alpha \\vec{x} + \\alpha \\vec{y}$"
   ]
  },
  {
   "cell_type": "code",
   "execution_count": null,
   "id": "942dae2f-08af-459a-a33d-c69b32564036",
   "metadata": {
    "nbgrader": {
     "grade": false,
     "grade_id": "cell-5d0a85529ee547ba",
     "locked": true,
     "schema_version": 3,
     "solution": false,
     "task": false
    },
    "tags": []
   },
   "outputs": [],
   "source": [
    "# Imprimir el escalar α y los vectores\n",
    "print(\"α =\", α)\n",
    "print(\"x =\", x)\n",
    "print(\"y =\", y)\n",
    "\n",
    "# Realizar operación distributiva I\n",
    "α_xy = α * (x + y)\n",
    "αx_αy = α * x + α * y\n",
    "\n",
    "# Imprimir operación distributiva I\n",
    "print(\"\\nα * (x + y) =\", α_xy)\n",
    "print(\"α * x + α * y =\", αx_αy)\n",
    "\n",
    "# Checar si α * (x + y) es igual a α * x + α * y \n",
    "distributivaI = np.allclose(α_xy, αx_αy)\n",
    "\n",
    "print('\\n¿ α * (x + y) == α * x + α * y ? ⮕', distributivaI)"
   ]
  },
  {
   "cell_type": "markdown",
   "id": "bed1a50b-13ec-41e0-afc0-9d5ec4de7423",
   "metadata": {
    "nbgrader": {
     "grade": false,
     "grade_id": "cell-fa89d33bfb1a8949",
     "locked": true,
     "schema_version": 3,
     "solution": false,
     "task": false
    }
   },
   "source": [
    "### Propiedad 8: distributividad II.\n",
    "\n",
    "$(\\alpha + \\beta) \\vec{x} = \\alpha \\vec{x} + \\beta \\vec{x}$"
   ]
  },
  {
   "cell_type": "code",
   "execution_count": null,
   "id": "341cab24-9fd5-4402-8db0-5744fb3429cb",
   "metadata": {
    "nbgrader": {
     "grade": false,
     "grade_id": "cell-f8647b8f551ae574",
     "locked": true,
     "schema_version": 3,
     "solution": false,
     "task": false
    },
    "tags": []
   },
   "outputs": [],
   "source": [
    "# Definir escalares\n",
    "α = 2.0\n",
    "β = 1.5\n",
    "\n",
    "# Imprimir escalares y vector\n",
    "print('α =', α)\n",
    "print('β =', β)\n",
    "print('α + β =', α + β)\n",
    "print('x =', x)\n",
    "\n",
    "# Realizar operación distributiva II\n",
    "αβ_x = (α + β) * x\n",
    "αx_βx = α * x + β * x\n",
    "\n",
    "# Imprimir operación distributiva II\n",
    "print('\\n(α + β) * x =', αβ_x)\n",
    "print('α * x + β * x =', αx_βx)\n",
    "\n",
    "# Checar si (α + β) * x es igual a α * x + β * x\n",
    "distributivaII = np.allclose(αβ_x, αx_βx)\n",
    "\n",
    "print('\\n¿ (α + β) * x == α * x + β * x ? ⮕', distributivaII)"
   ]
  },
  {
   "cell_type": "markdown",
   "id": "4a34a8b7-9e98-462a-9385-2ba6d93c98f2",
   "metadata": {
    "nbgrader": {
     "grade": false,
     "grade_id": "cell-f5f8473420eef716",
     "locked": true,
     "schema_version": 3,
     "solution": false,
     "task": false
    }
   },
   "source": [
    "### Propiedad 9. asociatividad.\n",
    "\n",
    "$\\alpha (\\beta \\vec{x}) = (\\alpha \\beta) \\vec{x}$.\n"
   ]
  },
  {
   "cell_type": "code",
   "execution_count": null,
   "id": "d2fc07f6-295b-4ec8-8f05-1ead3b419ced",
   "metadata": {
    "nbgrader": {
     "grade": false,
     "grade_id": "cell-1513f1606ffb4100",
     "locked": true,
     "schema_version": 3,
     "solution": false,
     "task": false
    },
    "tags": []
   },
   "outputs": [],
   "source": [
    "# Definir escalares\n",
    "α = 2.0\n",
    "β = 1.5\n",
    "\n",
    "# Imprimir escalares y vector\n",
    "print('α =', α)\n",
    "print('β =', β)\n",
    "print('x =', x)\n",
    "\n",
    "# Realizar operación asociativa\n",
    "α_βx = α * ( β * x)\n",
    "αβ_x = (α * β) * x\n",
    "\n",
    "# Imprimir multiplicación asociativa\n",
    "print('\\nα * (β * x) =', α_βx)\n",
    "print('(α * β) * x =', αβ_x)\n",
    "\n",
    "# Checar si α * ( β * x) es igual a (α * β) * x\n",
    "mult_asociativa = np.allclose(α_βx, αβ_x)\n",
    "\n",
    "print('\\n¿ α * (β * x) == (α * β) * x ? ⮕', mult_asociativa)"
   ]
  },
  {
   "cell_type": "markdown",
   "id": "9f5554d3-b2e7-4d56-86b3-e1700af85293",
   "metadata": {
    "nbgrader": {
     "grade": false,
     "grade_id": "cell-2cb619ca613568ef",
     "locked": true,
     "schema_version": 3,
     "solution": false,
     "task": false
    }
   },
   "source": [
    "### Propiedad 10.\n",
    "\n",
    "Existe el elemento neutro $\\mathbf{1} \\in \\mathbb{R}$ tal que $\\mathbf{1} \\vec{x} = \\vec{x}$.\n"
   ]
  },
  {
   "cell_type": "code",
   "execution_count": null,
   "id": "d5e5cc97-e559-40f5-9387-544d0756452a",
   "metadata": {
    "nbgrader": {
     "grade": false,
     "grade_id": "cell-a19ec0e2e167507e",
     "locked": true,
     "schema_version": 3,
     "solution": false,
     "task": false
    },
    "tags": []
   },
   "outputs": [],
   "source": [
    "# Definir el elemento neutro\n",
    "α = 1.0\n",
    "\n",
    "# Imprimir escalar y vector\n",
    "print('α =', α)\n",
    "print('x =', x)\n",
    "\n",
    "# Multiplicar por el elemento neutro\n",
    "αx = α * x\n",
    "\n",
    "print('\\nα * x =', αx)\n",
    "\n",
    "# Probar la propiedad del elemento neutro\n",
    "neutro = np.allclose(α * x, x)\n",
    "\n",
    "print('\\n¿ α * x == x ? ⮕', neutro)"
   ]
  },
  {
   "cell_type": "markdown",
   "id": "778cc373-ff30-4063-8693-96ecc97150fe",
   "metadata": {
    "nbgrader": {
     "grade": false,
     "grade_id": "cell-d594944d50f36cd8",
     "locked": true,
     "schema_version": 3,
     "solution": false,
     "task": false
    }
   },
   "source": [
    "<div class=\"alert alert-success\">\n",
    "\n",
    "## Actividad.\n",
    "\n",
    "Definimos dos vectores $\\vec{x} = (x_1, x_2)$ y $\\vec{y} = (y_1, y_2)$ ambos en $\\mathbb{R}^2$ y $\\alpha \\in \\mathbb{R}$. <br>\n",
    "\n",
    "Al ejecutar la siguiente celda, se presenta un simulador interactivo en el cual se implementa la operación conocida como SAXPY que se define como: $\\alpha \\vec{x} + \\vec{y}$. <br>\n",
    "\n",
    "Modifica el valor de $\\alpha$ y de las componentes de los vectores $\\vec{x}$ y $\\vec{y}$ y observa lo que sucede cuando:\n",
    "\n",
    "* $\\alpha = 1.0$, $\\alpha > 1.0$, $\\alpha < 1.0$, $\\alpha = 0.0$, $\\alpha < 0.0$. \n",
    "* $\\vec{y} = (0,0)$.\n",
    "\n",
    "**Nota**: para ejecutar el simulador haz clic en el botón de <i>play</i>  ▶ \n",
    "\n",
    "</div>"
   ]
  },
  {
   "cell_type": "code",
   "execution_count": null,
   "id": "365bab00-d540-416b-b738-d9eeb8e822f8",
   "metadata": {
    "nbgrader": {
     "grade": false,
     "grade_id": "cell-18354b82c5444879",
     "locked": true,
     "schema_version": 3,
     "solution": false,
     "task": false
    },
    "tags": []
   },
   "outputs": [],
   "source": [
    "%run ./vecspace.py"
   ]
  },
  {
   "cell_type": "code",
   "execution_count": null,
   "id": "96e0bb1c-ba2f-4cb2-ba16-7a962b7523c1",
   "metadata": {},
   "outputs": [],
   "source": []
  },
  {
   "cell_type": "code",
   "execution_count": null,
   "id": "0a7c2795-1682-4b07-b4ac-5c64acfcd9d2",
   "metadata": {},
   "outputs": [],
   "source": []
  }
 ],
 "metadata": {
  "kernelspec": {
   "display_name": "Python 3 (ipykernel)",
   "language": "python",
   "name": "python3"
  },
  "language_info": {
   "codemirror_mode": {
    "name": "ipython",
    "version": 3
   },
   "file_extension": ".py",
   "mimetype": "text/x-python",
   "name": "python",
   "nbconvert_exporter": "python",
   "pygments_lexer": "ipython3",
   "version": "3.11.6"
  }
 },
 "nbformat": 4,
 "nbformat_minor": 5
}
