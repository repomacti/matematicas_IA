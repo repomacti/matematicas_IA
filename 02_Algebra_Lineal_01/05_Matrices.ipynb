{
 "cells": [
  {
   "cell_type": "markdown",
   "id": "93ae67ec-2998-465f-a13e-ed9997afdcc6",
   "metadata": {},
   "source": [
    "# Matrices.\n",
    "\n",
    "**Objetivo.** Revisar e ilustrar el concepto de matriz y algunos tipos usando las bibliotecas `sympy` y `numpy`.\n",
    "\n",
    " <p xmlns:cc=\"http://creativecommons.org/ns#\" xmlns:dct=\"http://purl.org/dc/terms/\"><a property=\"dct:title\" rel=\"cc:attributionURL\" href=\"https://github.com/repomacti/macti/tree/main/notebooks/Algebra_Lineal_01\">MACTI-Algebra_Lineal_01</a> by <a rel=\"cc:attributionURL dct:creator\" property=\"cc:attributionName\" href=\"https://www.macti.unam.mx\">Luis M. de la Cruz</a> is licensed under <a href=\"http://creativecommons.org/licenses/by-sa/4.0/?ref=chooser-v1\" target=\"_blank\" rel=\"license noopener noreferrer\" style=\"display:inline-block;\">Attribution-ShareAlike 4.0 International<img style=\"height:22px!important;margin-left:3px;vertical-align:text-bottom;\" src=\"https://mirrors.creativecommons.org/presskit/icons/cc.svg?ref=chooser-v1\"><img style=\"height:22px!important;margin-left:3px;vertical-align:text-bottom;\" src=\"https://mirrors.creativecommons.org/presskit/icons/by.svg?ref=chooser-v1\"><img style=\"height:22px!important;margin-left:3px;vertical-align:text-bottom;\" src=\"https://mirrors.creativecommons.org/presskit/icons/sa.svg?ref=chooser-v1\"></a></p> \n",
    "\n",
    "**Trabajo realizado con el apoyo del Programa UNAM-DGAPA-PAPIME, proyectos PE101019 y PE101922.**"
   ]
  },
  {
   "cell_type": "code",
   "execution_count": null,
   "id": "ee1440ca-ac8e-40ae-b621-9f96335840e1",
   "metadata": {
    "tags": []
   },
   "outputs": [],
   "source": [
    "# Importamos las bibliotecas requeridas\n",
    "import numpy as np\n",
    "import sympy\n",
    "import ipywidgets as widgets\n",
    "import macti.vis as mvis\n",
    "import macti.math as mmat"
   ]
  },
  {
   "cell_type": "markdown",
   "id": "fe0fc92f-75a4-4adf-a9e9-b7ccdbf487b5",
   "metadata": {
    "tags": []
   },
   "source": [
    "\n",
    "Sea $A = a_{ij}$ una matriz de $n \\times n$, donde $n$ indica la dimensión de la matriz ($n$ renglones por $n$ columnas). Los números $a_{ij}$ son los elementos de la matriz, donde $i,j = 1,\\dots,n$. $A$ y sus elementos se escriben como sigue:\n",
    "\n",
    "$$\n",
    "A = \n",
    "\\left(\n",
    "\\begin{array}{cccc}\n",
    "a_{11} & a_{12} & \\dots & a_{1n}\\\\\n",
    "a_{21} & a_{22} & \\dots & a_{2n}\\\\\n",
    "\\vdots & \\vdots& \\ddots & \\vdots \\\\\n",
    "a_{n1} & a_{n2} & \\dots & a_{nn}\\\\\n",
    "\\end{array}\n",
    "\\right)\n",
    "$$\n",
    "\n",
    "La matriz $A^T = {a_{ji}}$ es la matriz transpuesta.\n",
    "$$\n",
    "A^T = \n",
    "\\left(\n",
    "\\begin{array}{cccc}\n",
    "a_{11} & a_{21} & \\dots & a_{n1}\\\\\n",
    "a_{12} & a_{22} & \\dots & a_{n2}\\\\\n",
    "\\vdots & \\vdots& \\ddots & \\vdots \\\\\n",
    "a_{1n} & a_{2n} & \\dots & a_{nn}\\\\\n",
    "\\end{array}\n",
    "\\right)\n",
    "$$\n",
    "\n",
    "Definamos una matriz usando `numpy`:"
   ]
  },
  {
   "cell_type": "code",
   "execution_count": null,
   "id": "0ab7ab1d-4527-4840-b76c-9ef3c07e22f9",
   "metadata": {
    "tags": []
   },
   "outputs": [],
   "source": [
    "A = np.array([[2, 3, 5],\n",
    "              [1, -4, 8],\n",
    "              [8, 6, 3]])\n",
    "print(A)"
   ]
  },
  {
   "cell_type": "markdown",
   "id": "10f6410c-52a2-464f-b286-e239e49066e6",
   "metadata": {},
   "source": [
    "## Matriz transpuesta\n",
    "La matriz $A^T = {a_{ji}}$ es la matriz transpuesta."
   ]
  },
  {
   "cell_type": "code",
   "execution_count": null,
   "id": "461f7d1e-d2af-4ee8-bc17-a8276ee16f91",
   "metadata": {
    "tags": []
   },
   "outputs": [],
   "source": [
    "# Calcular la matriz transpuesta\n",
    "AT = A.T\n",
    "\n",
    "print(AT)"
   ]
  },
  {
   "cell_type": "markdown",
   "id": "9f9852bf-ee35-46f6-99ce-cbcbd8011e74",
   "metadata": {},
   "source": [
    "## Matriz identidad\n",
    "La matriz identidad $I$ es aquella donde todas sus entradas son cero excepto en la diagonal donde sus entradas son 1."
   ]
  },
  {
   "cell_type": "code",
   "execution_count": null,
   "id": "4817fe73-548a-410a-a0ed-f642223adccb",
   "metadata": {
    "tags": []
   },
   "outputs": [],
   "source": [
    "# Definimos una matriz identidad\n",
    "I = np.eye(3)\n",
    "\n",
    "print(I)"
   ]
  },
  {
   "cell_type": "markdown",
   "id": "dd101822-4efd-4723-9a2a-92a6b2fc96d6",
   "metadata": {},
   "source": [
    "## Matriz inversa\n",
    "La matriz inversa de $A$ se denota por $A^{-1}$ y es tal que $A^{-1}A = I$."
   ]
  },
  {
   "cell_type": "code",
   "execution_count": null,
   "id": "915eec37-8b57-4220-9371-9885a574648d",
   "metadata": {
    "tags": []
   },
   "outputs": [],
   "source": [
    "# Calculamos la matriz inversa\n",
    "Ainv = np.linalg.inv(A)\n",
    "\n",
    "print(Ainv)"
   ]
  },
  {
   "cell_type": "code",
   "execution_count": null,
   "id": "2de7818b-cdb0-49d2-bae8-92daa50c1044",
   "metadata": {
    "tags": []
   },
   "outputs": [],
   "source": [
    "# Comprobar que Ainv es la inversa de A\n",
    "AA = np.dot(A, Ainv)\n",
    "\n",
    "print(AA)"
   ]
  },
  {
   "cell_type": "markdown",
   "id": "481c2b56-d75c-4da2-ba62-b3ae0d90fb68",
   "metadata": {},
   "source": [
    "## Matriz diagonal\n",
    "Una matriz $A = {a_{ij}}$ se llama diagonal si $a_{ij}=0, \\forall i \\ne j$ y se denota por $A = \\mbox{diag}$ ${a_{ii}}$."
   ]
  },
  {
   "cell_type": "code",
   "execution_count": null,
   "id": "0ad79cdd-fdc1-443b-b52c-541383203735",
   "metadata": {
    "tags": []
   },
   "outputs": [],
   "source": [
    "print(A)"
   ]
  },
  {
   "cell_type": "code",
   "execution_count": null,
   "id": "075cd2f4-9a3b-4e8c-99ff-5a285c0322ae",
   "metadata": {
    "tags": []
   },
   "outputs": [],
   "source": [
    "AD = np.diagonal(A)\n",
    "print(AD)"
   ]
  },
  {
   "cell_type": "code",
   "execution_count": null,
   "id": "394d0f51-f390-44e9-855a-a1899af36a35",
   "metadata": {
    "tags": []
   },
   "outputs": [],
   "source": [
    "# Diagonales inferiores\n",
    "AD = np.diagonal(A,1)\n",
    "print(AD)"
   ]
  },
  {
   "cell_type": "code",
   "execution_count": null,
   "id": "e0c0adcd-9073-430d-b151-780f070fc098",
   "metadata": {
    "tags": []
   },
   "outputs": [],
   "source": [
    "# Diagonales superiores\n",
    "AD = np.diagonal(A,-1)\n",
    "print(AD)"
   ]
  },
  {
   "cell_type": "markdown",
   "id": "742525c5-84f2-4525-890c-4390c86ce40b",
   "metadata": {},
   "source": [
    "## Matriz triangular superior e inferior\n",
    "Una matriz $A = {a_{ij}}$ se llama triangular superior si $a_{ij} = 0, \\forall i > j$ y triangular inferior si $a_{ij} = 0, \\forall i < j$."
   ]
  },
  {
   "cell_type": "code",
   "execution_count": null,
   "id": "f6bc9ee3-1fd9-4cc7-8dc0-c3cac7489654",
   "metadata": {
    "tags": []
   },
   "outputs": [],
   "source": [
    "# Matriz triangular superior\n",
    "ATS = np.triu(A)\n",
    "print(ATS)"
   ]
  },
  {
   "cell_type": "code",
   "execution_count": null,
   "id": "a15b9fb4-b99b-4201-afd9-9d0f2d848cfd",
   "metadata": {
    "tags": []
   },
   "outputs": [],
   "source": [
    "# Matriz triangular inferior\n",
    "ATI = np.tril(A)\n",
    "print(ATI)"
   ]
  },
  {
   "cell_type": "markdown",
   "id": "76e31a7a-e075-4023-8878-9aaa12248ef4",
   "metadata": {},
   "source": [
    "## Matrices simétricas\n",
    "Una matriz $A$ es simétrica si $A^T = A$ y antisimétrica si $A^T = -A$."
   ]
  },
  {
   "cell_type": "code",
   "execution_count": null,
   "id": "d0e86579-e9c1-4eb1-b739-88f97460efea",
   "metadata": {
    "tags": []
   },
   "outputs": [],
   "source": [
    "B = np.array([[2, 3, 5],\n",
    "              [3, -4, 8],\n",
    "              [5, 8, 3]])"
   ]
  },
  {
   "cell_type": "code",
   "execution_count": null,
   "id": "b4e97c7d-1c6a-4f0d-b314-ead3e6c4beba",
   "metadata": {
    "tags": []
   },
   "outputs": [],
   "source": [
    "print('Matriz A = \\n{} \\n\\nMatriz B = \\n{}'.format(A,B))"
   ]
  },
  {
   "cell_type": "code",
   "execution_count": null,
   "id": "372a67ba-b939-4bd6-bb99-ecaf3fb01c2c",
   "metadata": {
    "tags": []
   },
   "outputs": [],
   "source": [
    "# Definimos una función para checar si una matriz es simétrica\n",
    "isSymmetric = lambda mat: np.array_equal(mat, mat.T)"
   ]
  },
  {
   "cell_type": "code",
   "execution_count": null,
   "id": "dd7bdb9c-6d73-4dbc-87b0-57b936f7557a",
   "metadata": {
    "tags": []
   },
   "outputs": [],
   "source": [
    "isSymmetric(B)"
   ]
  },
  {
   "cell_type": "code",
   "execution_count": null,
   "id": "c449e3b8-ddd4-4626-8f70-b310e7bbb3a9",
   "metadata": {
    "tags": []
   },
   "outputs": [],
   "source": [
    "isSymmetric(A)"
   ]
  },
  {
   "cell_type": "markdown",
   "id": "0f1d8a80-73c1-4cf0-b67e-ca042d7bd219",
   "metadata": {},
   "source": [
    "<div class=\"alert alert-info\">\n",
    "\n",
    "**Nota**. En el ejemplo anterior estamos usando la declaración `lambda` para definir una función en una sola línea. Esta función recibe una matriz `mat` y utiliza la función `np.array_equal()` de `numpy` para verificar si dos matrices son iguales, en este caso `mat` y su transpuesta `mat.T`.\n",
    "</div>"
   ]
  },
  {
   "cell_type": "markdown",
   "id": "af686c94-27c0-4bc6-8aa0-f45f20042497",
   "metadata": {},
   "source": [
    "## Matriz ortogonal\n",
    "Una matriz $A$ es ortogonal si $A^T A = I$, o equivalentemente $A^T = A^{-1}$.\n",
    "\n",
    "La [matriz rotación](https://es.wikipedia.org/wiki/Matriz_de_rotaci%C3%B3n) en 2D es una matriz ortogonal y se define como sigue:\n",
    "\n",
    "$$\n",
    "R(\\theta )=\n",
    "\\begin{bmatrix}\n",
    "\\cos \\theta &-\\sin \\theta \\\\\n",
    "\\sin \\theta & \\cos \\theta \\\\\n",
    "\\end{bmatrix}\n",
    "$$\n",
    "\n",
    "Para definir esta matriz usamos `sympy`:"
   ]
  },
  {
   "cell_type": "code",
   "execution_count": null,
   "id": "45a50d3e-0086-477d-8917-76f5b548c3c0",
   "metadata": {
    "tags": []
   },
   "outputs": [],
   "source": [
    "𝜃 = sympy.symbols('𝜃')\n",
    "\n",
    "# Matriz rotación\n",
    "R = sympy.Matrix([[sympy.cos(𝜃), -sympy.sin(𝜃)],\n",
    "                  [sympy.sin(𝜃), sympy.cos(𝜃)]])\n",
    "R"
   ]
  },
  {
   "cell_type": "markdown",
   "id": "2d7a4c70-dd8e-4cf6-a5b6-72c57fe6fab6",
   "metadata": {},
   "source": [
    "Verifiquemos que cumple con las propiedades de una matriz ortogonal."
   ]
  },
  {
   "cell_type": "code",
   "execution_count": null,
   "id": "f4ce67f3-8838-4a31-b6fe-e29cb36dd0c7",
   "metadata": {
    "tags": []
   },
   "outputs": [],
   "source": [
    "R.T"
   ]
  },
  {
   "cell_type": "code",
   "execution_count": null,
   "id": "25449120-b989-4c31-9817-17b39e5e9f67",
   "metadata": {
    "tags": []
   },
   "outputs": [],
   "source": [
    "R * R.T"
   ]
  },
  {
   "cell_type": "code",
   "execution_count": null,
   "id": "00541c35-2d8d-4e4d-943b-a29b01be02e1",
   "metadata": {
    "tags": []
   },
   "outputs": [],
   "source": [
    "sympy.simplify(R * R.T)"
   ]
  },
  {
   "cell_type": "markdown",
   "id": "e04d2df1-aeb2-479a-aae4-043ba2e32b6a",
   "metadata": {
    "tags": []
   },
   "source": [
    "Esta matriz rota un vector por un cierto número de grados, veamos:"
   ]
  },
  {
   "cell_type": "code",
   "execution_count": null,
   "id": "c24da1c8-e270-4724-b4d7-f47d50380337",
   "metadata": {
    "tags": []
   },
   "outputs": [],
   "source": [
    "angulo = 90 # ángulo de rotación\n",
    "\n",
    "# Vector a rotar\n",
    "t1 = sympy.Matrix([3, 0.5])\n",
    "\n",
    "# Rotación usando la matriz R\n",
    "t2 = R.subs('𝜃', angulo * np.pi / 180).evalf(14) * t1\n",
    "\n",
    "# Transformación a arreglos de numpy\n",
    "nt1 = np.array(t1, dtype=float).reshape(2,)\n",
    "nt2 = np.array(t2, dtype=float).reshape(2,)\n",
    "\n",
    "# Imprimimos los vectores:\n",
    "print('Vector original: ', t1)\n",
    "print('Vector a 90 grados: ', t2)"
   ]
  },
  {
   "cell_type": "code",
   "execution_count": null,
   "id": "e2b11f05-86ea-44bd-98e6-9e0641bb199e",
   "metadata": {},
   "outputs": [],
   "source": [
    "# Visualizamos los vectores.\n",
    "v = mvis.Plotter()  # Definición de un objeto para crear figuras.\n",
    "v.set_coordsys(1)   # Definición del sistema de coordenadas.\n",
    "v.plot_vectors(1, [nt1, nt2], ['t1', 't2'], ofx=-0.1) # Graficación de los vectores 'x' y 'y'.\n",
    "v.grid()  # Muestra la rejilla del sistema de coordenadas."
   ]
  },
  {
   "cell_type": "markdown",
   "id": "c379fa24-558c-47b9-a816-fa0b8bc9ecf4",
   "metadata": {},
   "source": [
    "Cada par de renglones o de columnas de una matriz ortogonal, son ortogonales entre sí. Además la longitud de cada columna o renglón es igual a 1."
   ]
  },
  {
   "cell_type": "code",
   "execution_count": null,
   "id": "6b0fd81f-9f0a-4053-9f64-133b3c6f77db",
   "metadata": {
    "tags": []
   },
   "outputs": [],
   "source": [
    "# Definimos una matriz ortogonal\n",
    "C = np.array([[1/3, 2/3, -2/3],\n",
    "              [-2/3, 2/3, 1/3],\n",
    "              [2/3, 1/3, 2/3]])"
   ]
  },
  {
   "cell_type": "code",
   "execution_count": null,
   "id": "e9a39cbe-2524-439a-a38e-e7b3b6392a04",
   "metadata": {
    "tags": []
   },
   "outputs": [],
   "source": [
    "# Verificamos que es ortogonal\n",
    "np.dot(C, C.T)"
   ]
  },
  {
   "cell_type": "code",
   "execution_count": null,
   "id": "60ea0ca2-9e94-4df3-b3d6-508189fb7da7",
   "metadata": {
    "tags": []
   },
   "outputs": [],
   "source": [
    "# Verificamos ortogonalidad entre renglones\n",
    "np.dot(C[0], C[1])"
   ]
  },
  {
   "cell_type": "code",
   "execution_count": null,
   "id": "2a649c1f-3c92-49cb-bf11-a59b7a19d160",
   "metadata": {
    "tags": []
   },
   "outputs": [],
   "source": [
    "# Verificamos ortogonalidad entre columnas\n",
    "np.dot(C[:,0], C[:,1])"
   ]
  },
  {
   "cell_type": "code",
   "execution_count": null,
   "id": "2e866091-d04e-4319-a5a3-1308470575d0",
   "metadata": {
    "tags": []
   },
   "outputs": [],
   "source": [
    "# Verificamos la norma de los renglones\n",
    "np.linalg.norm(C[2])"
   ]
  },
  {
   "cell_type": "code",
   "execution_count": null,
   "id": "79b2f5cf-650d-454e-94f4-868a952369fa",
   "metadata": {
    "tags": []
   },
   "outputs": [],
   "source": [
    "# Verificamos la norma de las columnas\n",
    "np.linalg.norm(C[2])"
   ]
  },
  {
   "cell_type": "markdown",
   "id": "6559c478-5d69-4a37-a352-4677fd09bbe0",
   "metadata": {},
   "source": [
    "## Matriz transpuesta conjugada\n",
    "La matriz $A^*$ representa a la matriz $A$ transpuesta y conjugada. La matriz $A^* = {\\bar{a}_{ji}}$ se llama también la adjunta de $A$."
   ]
  },
  {
   "cell_type": "code",
   "execution_count": null,
   "id": "da10d35d-8616-48e6-9695-474960eadd99",
   "metadata": {
    "tags": []
   },
   "outputs": [],
   "source": [
    "# Creación de una matriz con valores complejos\n",
    "real = np.arange(1,10).reshape(3,3)\n",
    "imag = np.arange(1,10).reshape(3,3)\n",
    "C =  real + imag *1.0j\n",
    "print(C)"
   ]
  },
  {
   "cell_type": "code",
   "execution_count": null,
   "id": "af4f43c8-078e-427c-b89d-758def622083",
   "metadata": {
    "tags": []
   },
   "outputs": [],
   "source": [
    "# Transpuesta conjugada\n",
    "C.conj().T"
   ]
  },
  {
   "cell_type": "markdown",
   "id": "3370de0d-0063-40e8-b714-daf7a6e2ade8",
   "metadata": {},
   "source": [
    "## Matriz definida positiva\n",
    "\n",
    "Una matriz $A$ se denomina **positiva definida** si $\\langle A\\vec{x}, \\vec{x}\\rangle = \\vec{x}^T A\\vec{x} > 0$ para cualquier vector no nulo $\\vec{x}$ de $\\mathbb{R}^n$. \n",
    "\n",
    "La matriz se llama **positiva semidefinida** si $\\vec{x}^T A\\vec{x} \\ge 0$ para cualquier vector $\\vec{x}$ de $\\mathbb{R}^n$. \n",
    "\n",
    "Recordemos que:\n",
    "$$\n",
    "\\vec{x}^T A\\vec{x} = \\sum_{i=1}^n \\sum_{j=1}^n a_{ij} x_i x_j\n",
    "$$\n",
    "\n",
    "<div class=\"alert alert-success\">\n",
    "\n",
    "## Ejemplo 1.\n",
    "\n",
    "Las siguientes dos rectas se cruzan en algún punto.\n",
    "\n",
    "$$\n",
    "\\begin{array}{ccc}\n",
    "3x + 2y & = &2 \\\\\n",
    "2x + 6y & = &-8\n",
    "\\end{array}\n",
    "$$\n",
    "\n",
    "En términos de un sistema lineal, las dos ecuaciones anteriores se escriben como sigue:\n",
    "\n",
    "$$\n",
    "\\left[\n",
    "\\begin{array}{cc}\n",
    "3 & 2 \\\\\n",
    "2 & 6\n",
    "\\end{array} \\right]\n",
    "\\left[\n",
    "\\begin{array}{c}\n",
    "x \\\\\n",
    "y\n",
    "\\end{array} \\right] =\n",
    "\\left[\n",
    "\\begin{array}{c}\n",
    "2 \\\\ \n",
    "-8\n",
    "\\end{array} \\right]\n",
    "\\tag{1}\n",
    "$$\n",
    "\n",
    "Podemos calcular $\\vec{x}^T A\\vec{x}$ para este ejemplo como sigue:    \n",
    "</div>"
   ]
  },
  {
   "cell_type": "code",
   "execution_count": null,
   "id": "a95cf181-c7d2-403c-bbde-5d0f6cb9dce0",
   "metadata": {
    "tags": []
   },
   "outputs": [],
   "source": [
    "# Usaremos sympy.\n",
    "# Primero definimos los símbolos\n",
    "x, y = sympy.symbols('x y')\n",
    "\n",
    "# Construimos el vector de incógnitas\n",
    "X = sympy.Matrix([x, y])\n",
    "print(X)\n",
    "\n",
    "# Construimos la matriz\n",
    "A = sympy.Matrix([[3.0, 2.0], [2.0, 6.0]])\n",
    "print(A)"
   ]
  },
  {
   "cell_type": "code",
   "execution_count": null,
   "id": "4d31eab6-2e7e-4007-a484-dd25c9efbadc",
   "metadata": {
    "tags": []
   },
   "outputs": [],
   "source": [
    "# Calculamos xT * A * x\n",
    "pos_def = X.T @ A @ X\n",
    "pos_def"
   ]
  },
  {
   "cell_type": "code",
   "execution_count": null,
   "id": "04bfb50a-7b50-41d4-a233-2766d9ecb140",
   "metadata": {
    "tags": []
   },
   "outputs": [],
   "source": [
    "# Simplificamos\n",
    "f = sympy.simplify(pos_def)\n",
    "f"
   ]
  },
  {
   "cell_type": "code",
   "execution_count": null,
   "id": "0283b4b1-e60b-45a1-9e32-92951bb27ce0",
   "metadata": {
    "tags": []
   },
   "outputs": [],
   "source": [
    "# Graficamos\n",
    "sympy.plotting.plot3d(f[0], (x, -3, 6), (y, -8, 6))"
   ]
  },
  {
   "cell_type": "markdown",
   "id": "1836940d-cfbd-48f8-b14f-4b3c6e65d12c",
   "metadata": {
    "tags": []
   },
   "source": [
    "Observa que se obtiene una función cuadrática cuya gráfica es un paraboloide orientado hacia arriba. Esta es una característica de las matrices definidas positivas. \n"
   ]
  },
  {
   "cell_type": "markdown",
   "id": "b75c8294-a857-43a1-90ee-042aeae695d8",
   "metadata": {},
   "source": [
    "<div class=\"alert alert-success\">\n",
    "\n",
    "## Ejemplo 2. \n",
    "\n",
    "Veamos ahora el siguiente ejemplo:\n",
    "\n",
    "$$\n",
    "\\begin{array}{ccc}\n",
    "y & = & 0.10 x + 200 \\\\\n",
    "y & = & 0.30 x + 20\n",
    "\\end{array}\n",
    "$$\n",
    "\n",
    "Sistema lineal.\n",
    "\n",
    "$$\n",
    "\\left[\n",
    "\\begin{array}{cc}\n",
    "0.10 & -1 \\\\\n",
    "0.30 & -1\n",
    "\\end{array} \\right]\n",
    "\\left[\n",
    "\\begin{array}{c}\n",
    "x \\\\\n",
    "y\n",
    "\\end{array} \\right] =\n",
    "\\left[\n",
    "\\begin{array}{c}\n",
    "-200 \\\\ \n",
    "-20\n",
    "\\end{array} \\right] \\tag{2}\n",
    "$$\n",
    "\n",
    "Checar si esta matriz es definido positivo.\n",
    "\n",
    "</div>"
   ]
  },
  {
   "cell_type": "code",
   "execution_count": null,
   "id": "31557af3-57d6-4389-9e14-24f8881dcef7",
   "metadata": {},
   "outputs": [],
   "source": [
    "Y = sympy.Matrix([x, y])\n",
    "B = sympy.Matrix([[0.10, -1], [0.30, -1]])\n",
    "\n",
    "pos_indef_B = X.T @ B @ X\n",
    "\n",
    "sympy.plotting.plot3d(pos_indef_B[0], (x, -6000, 6000), (y, -3000, 3000))"
   ]
  }
 ],
 "metadata": {
  "kernelspec": {
   "display_name": "Python 3 (ipykernel)",
   "language": "python",
   "name": "python3"
  },
  "language_info": {
   "codemirror_mode": {
    "name": "ipython",
    "version": 3
   },
   "file_extension": ".py",
   "mimetype": "text/x-python",
   "name": "python",
   "nbconvert_exporter": "python",
   "pygments_lexer": "ipython3",
   "version": "3.11.6"
  }
 },
 "nbformat": 4,
 "nbformat_minor": 5
}
