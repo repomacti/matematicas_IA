{
 "cells": [
  {
   "cell_type": "markdown",
   "id": "19e5a3a2-7c5e-4637-99f6-8d5ceb86df15",
   "metadata": {},
   "source": [
    "# Matrices: inversa y factorizaciones.\n",
    "\n",
    "**Objetivo.** Revisar e ilustrar los conceptos de la matriz inversa y algunas factorizaciones usando las bibliotecas `sympy` y `numpy`.\n",
    "\n",
    " <p xmlns:cc=\"http://creativecommons.org/ns#\" xmlns:dct=\"http://purl.org/dc/terms/\"><a property=\"dct:title\" rel=\"cc:attributionURL\" href=\"https://github.com/repomacti/macti/tree/main/notebooks/Algebra_Lineal_01\">MACTI-Algebra_Lineal_01</a> by <a rel=\"cc:attributionURL dct:creator\" property=\"cc:attributionName\" href=\"https://www.macti.unam.mx\">Luis M. de la Cruz</a> is licensed under <a href=\"http://creativecommons.org/licenses/by-sa/4.0/?ref=chooser-v1\" target=\"_blank\" rel=\"license noopener noreferrer\" style=\"display:inline-block;\">Attribution-ShareAlike 4.0 International<img style=\"height:22px!important;margin-left:3px;vertical-align:text-bottom;\" src=\"https://mirrors.creativecommons.org/presskit/icons/cc.svg?ref=chooser-v1\"><img style=\"height:22px!important;margin-left:3px;vertical-align:text-bottom;\" src=\"https://mirrors.creativecommons.org/presskit/icons/by.svg?ref=chooser-v1\"><img style=\"height:22px!important;margin-left:3px;vertical-align:text-bottom;\" src=\"https://mirrors.creativecommons.org/presskit/icons/sa.svg?ref=chooser-v1\"></a></p> \n",
    "\n",
    "**Trabajo realizado con el apoyo del Programa UNAM-DGAPA-PAPIME, proyectos PE101019 y PE101922.**"
   ]
  },
  {
   "cell_type": "markdown",
   "id": "c0724ff0-7fa4-4735-8298-7deef1b18d2e",
   "metadata": {
    "tags": []
   },
   "source": [
    "## Inversa\n",
    "\n",
    "La inversa de una matriz es otra matriz que, al multiplicarse por la matriz original, resulta en la matriz identidad. \n",
    "\n",
    "Para que una matriz tenga inversa, su determinante debe ser distinto de cero.\n",
    "\n",
    "---\n",
    "\n",
    "**Definición**.\n",
    "\n",
    "La matriz inversa, denotada como $A^{-1}$, de una matriz cuadrada $A$, es tal que $A A^{-1}$ = $A^{-1} * A$ = $I$, donde $I$ es la matriz identidad. \n",
    "\n",
    "---\n",
    "\n",
    "**Condición de existencia**.\n",
    "\n",
    "Una matriz cuadrada tiene inversa si y solo si su determinante es distinto de cero. \n",
    "\n",
    "**Cálculo**.\n",
    "\n",
    "Para calcular la inversa de una matriz, se puede utilizar el método de Gauss-Jordan, el método de la matriz adjunta, o herramientas de software como `sympy` o `numpy` . \n",
    "\n",
    "**Propiedades**.\n",
    "\n",
    "La matriz inversa es única, y el determinante de la inversa es el inverso del determinante de la matriz original. \n",
    "\n",
    "**Aplicaciones**.\n",
    "\n",
    "La matriz inversa se utiliza en la resolución de sistemas de ecuaciones lineales, en transformaciones lineales, y en otros campos de la matemática y la física. \n",
    "\n",
    "\n",
    "<div class=\"alert alert-success\">\n",
    "\n",
    "## Ejemplo 1.\n",
    "\n",
    "Resolver el siguiente sistema lineal calculando la inversa de la matriz.\n",
    "\n",
    "$\n",
    "\\left[\n",
    "\\begin{array}{ccc}\n",
    "1 & 2 & 3 \\\\\n",
    "3 & 6 & 2 \\\\\n",
    "2 & 0 & 1\n",
    "\\end{array}\n",
    "\\right] \n",
    "\\left[ \n",
    "\\begin{array}{c}\n",
    "x \\\\ y \\\\ z \n",
    "\\end{array}\n",
    "\\right]\n",
    "= \n",
    "\\left[ \n",
    "\\begin{array}{c}\n",
    "1 \\\\ 2 \\\\ 3 \n",
    "\\end{array}\n",
    "\\right]\n",
    "$\n",
    "\n",
    "</div>"
   ]
  },
  {
   "cell_type": "code",
   "execution_count": null,
   "id": "72293eea-77fe-4635-af4b-d16473a536ed",
   "metadata": {},
   "outputs": [],
   "source": [
    "import numpy as np\n",
    "import sympy\n",
    "import matplotlib.pyplot as plt"
   ]
  },
  {
   "cell_type": "code",
   "execution_count": null,
   "id": "747bc49f-32c8-4ba0-ad81-a3a5cec7bafb",
   "metadata": {
    "tags": []
   },
   "outputs": [],
   "source": [
    "M = sympy.Matrix([[1, 2, 3], [3, 6, 2], [2, 5, 1]])\n",
    "M"
   ]
  },
  {
   "cell_type": "code",
   "execution_count": null,
   "id": "b3464621-1ae7-4d75-9e18-83079f902b8d",
   "metadata": {
    "tags": []
   },
   "outputs": [],
   "source": [
    "MI = M.inv()\n",
    "MI"
   ]
  },
  {
   "cell_type": "code",
   "execution_count": null,
   "id": "e733b17a-cb4d-4ae4-a333-9b5f0b9f52f8",
   "metadata": {
    "tags": []
   },
   "outputs": [],
   "source": [
    "M * MI"
   ]
  },
  {
   "cell_type": "code",
   "execution_count": null,
   "id": "4fc9e158-f626-4003-9fe1-9c376516f6fd",
   "metadata": {
    "tags": []
   },
   "outputs": [],
   "source": [
    "b = sympy.Matrix([1, 2, 3])\n",
    "b"
   ]
  },
  {
   "cell_type": "code",
   "execution_count": null,
   "id": "fef3b584-9f90-4f84-9b12-88c8b6bf6465",
   "metadata": {
    "tags": []
   },
   "outputs": [],
   "source": [
    "sol = MI * b \n",
    "sol"
   ]
  },
  {
   "cell_type": "code",
   "execution_count": null,
   "id": "0aed43a1-5cb2-4fb4-b019-faa178859620",
   "metadata": {
    "tags": []
   },
   "outputs": [],
   "source": [
    "M * sol"
   ]
  },
  {
   "cell_type": "markdown",
   "id": "2a0bd871-03b4-47ec-a6a3-794f586acce2",
   "metadata": {},
   "source": [
    "## Factorización LU\n",
    "\n",
    "La factorización LU es un proceso para factorizar una matriz cuadrada en el producto de una matriz triangular inferior (L) y una matriz triangular superior (U). \n",
    "En comparación con la eliminación gaussiana, la factorización LU puede ser más eficiente para resolver sistemas de ecuaciones lineales, especialmente cuando se necesitan resolver varios sistemas con el mismo coeficiente. \n",
    "\n",
    "**Estabilidad**. \n",
    "\n",
    "En algunos casos, la factorización LU puede ser más estable que otros métodos de resolución de sistemas lineales. \n",
    "\n",
    "**Generalidad**.\n",
    "\n",
    "Se puede aplicar a una amplia variedad de matrices cuadradas. \n",
    "\n",
    "**Consideraciones**.\n",
    "\n",
    "No todas las matrices cuadradas pueden ser factorizadas en LU. Algunas matrices requieren permutación de filas antes de poder ser factorización. \n",
    "\n",
    "**Complejidad computacional**.\n",
    "El cálculo de la factorización LU tiene una complejidad computacional de $\\mathcal{O}(N^3)$, donde $N$ es el tamaño de la matriz. \n"
   ]
  },
  {
   "cell_type": "markdown",
   "id": "80e1ae4c-65da-48b5-ae04-660c83e02566",
   "metadata": {},
   "source": [
    "<div class=\"alert alert-success\">\n",
    "\n",
    "## Ejemplo 2.\n",
    "\n",
    "Realizar la factorización LU del sistema del ejemplo 1.\n",
    "\n",
    "</div>"
   ]
  },
  {
   "cell_type": "code",
   "execution_count": null,
   "id": "c60af9e7-96cf-4ceb-bbb1-93526c041abb",
   "metadata": {
    "tags": []
   },
   "outputs": [],
   "source": [
    "# Usando sympy\n",
    "L, U, perm = M.LUdecomposition()"
   ]
  },
  {
   "cell_type": "code",
   "execution_count": null,
   "id": "78111f7f-f9a4-45cc-9868-c315210cbcbb",
   "metadata": {},
   "outputs": [],
   "source": [
    "L"
   ]
  },
  {
   "cell_type": "code",
   "execution_count": null,
   "id": "68f06d86-8f9e-429c-a56a-00960bfd776c",
   "metadata": {
    "tags": []
   },
   "outputs": [],
   "source": [
    "U"
   ]
  },
  {
   "cell_type": "code",
   "execution_count": null,
   "id": "90691ac1-6b51-42dc-85e4-2ca4658baf41",
   "metadata": {
    "tags": []
   },
   "outputs": [],
   "source": [
    "perm"
   ]
  },
  {
   "cell_type": "code",
   "execution_count": null,
   "id": "cd0d3ba9-19c0-4814-af3f-fe913adbd5fb",
   "metadata": {
    "tags": []
   },
   "outputs": [],
   "source": [
    "L * U"
   ]
  },
  {
   "cell_type": "code",
   "execution_count": null,
   "id": "d1e66996-36c0-4232-ae73-81cc5d22a10a",
   "metadata": {
    "tags": []
   },
   "outputs": [],
   "source": [
    "M"
   ]
  },
  {
   "cell_type": "code",
   "execution_count": null,
   "id": "7dda241e-69c3-4ab6-8df9-368bb5ac044f",
   "metadata": {
    "tags": []
   },
   "outputs": [],
   "source": [
    "b"
   ]
  },
  {
   "cell_type": "code",
   "execution_count": null,
   "id": "98783801-206e-4a26-a4e4-c516c12a6a41",
   "metadata": {
    "tags": []
   },
   "outputs": [],
   "source": [
    "sol_LU = M.LUsolve(b)\n",
    "sol_LU"
   ]
  },
  {
   "cell_type": "code",
   "execution_count": null,
   "id": "7d433699-2892-432f-b629-65ce6bb7e4bf",
   "metadata": {
    "tags": []
   },
   "outputs": [],
   "source": [
    "M * sol_LU"
   ]
  },
  {
   "cell_type": "code",
   "execution_count": null,
   "id": "e5e4b28b-1ce7-4dcd-ab16-c5de421394e4",
   "metadata": {
    "tags": []
   },
   "outputs": [],
   "source": [
    "# Usando scipy y arreglos de numpy\n",
    "from scipy.linalg import lu\n",
    "\n",
    "M_np = np.array(M).astype(np.float64)\n",
    "M_np"
   ]
  },
  {
   "cell_type": "code",
   "execution_count": null,
   "id": "29df1bda-ebfb-4919-a1d7-958c3108945e",
   "metadata": {},
   "outputs": [],
   "source": [
    "p, l, u = lu(M_np)"
   ]
  },
  {
   "cell_type": "code",
   "execution_count": null,
   "id": "93ead19e-dfa3-4556-befe-866a16f20e68",
   "metadata": {
    "tags": []
   },
   "outputs": [],
   "source": [
    "p"
   ]
  },
  {
   "cell_type": "code",
   "execution_count": null,
   "id": "7da3f8fc-2113-491a-9aa4-8c19e854fa1a",
   "metadata": {
    "tags": []
   },
   "outputs": [],
   "source": [
    "l"
   ]
  },
  {
   "cell_type": "code",
   "execution_count": null,
   "id": "7a8f2eb8-2efb-4b85-a5fd-025f1091ff78",
   "metadata": {
    "tags": []
   },
   "outputs": [],
   "source": [
    "u"
   ]
  },
  {
   "cell_type": "code",
   "execution_count": null,
   "id": "5722d01e-d992-4c1d-a09f-01a3cf2e7c95",
   "metadata": {
    "tags": []
   },
   "outputs": [],
   "source": [
    "l @ u"
   ]
  },
  {
   "cell_type": "code",
   "execution_count": null,
   "id": "9f376b0d-8037-4569-a8f1-430650ea65b9",
   "metadata": {},
   "outputs": [],
   "source": [
    "from scipy.linalg import lu_factor, lu_solve\n",
    "\n",
    "lu, piv = lu_factor(M_np)\n",
    "b_np = np.array(b).astype(np.float64)\n",
    "sol_lu = lu_solve((lu, piv), b_np)\n",
    "print(sol_lu)"
   ]
  },
  {
   "cell_type": "code",
   "execution_count": null,
   "id": "82f58184-0f5e-4318-be0b-af0d6f28d5e5",
   "metadata": {},
   "outputs": [],
   "source": [
    "sol_LU"
   ]
  },
  {
   "cell_type": "markdown",
   "id": "2018738d-28e1-449a-b819-af281f5757e3",
   "metadata": {},
   "source": [
    "Calcular el residuo: $A x - b = 0$"
   ]
  },
  {
   "cell_type": "code",
   "execution_count": null,
   "id": "1a06d2a8-71b2-47cc-b3df-08a329eafcc0",
   "metadata": {},
   "outputs": [],
   "source": [
    "np.allclose(M_np @ sol_lu - b_np, np.zeros((3,)))"
   ]
  },
  {
   "cell_type": "markdown",
   "id": "9d61dc5e-558c-4771-87bb-9392645a69ca",
   "metadata": {},
   "source": [
    "## Factorización QR\n",
    "\n",
    "Es una técnica que descompone una matriz en el producto de dos matrices $Q$) y $R$. \n",
    "\n",
    "La matriz $Q$ es una matriz ortogonal, lo que significa que sus columnas son mutuamente ortogonales y de norma 1. También, $Q$ tiene una inversa igual a su traspuesta ($Q^{-1} = Q^T$). \n",
    "\n",
    "La matriz $R$ es una matriz triangular superior, lo que significa que todos los elementos por debajo de la diagonal principal son cero. Además, las entradas diagonales de $R$ son positivas. \n",
    "\n",
    "Además de resolver sistemas lineales, la factorización QR permite también resolver problemas de mínimos cuadrados y calcular eigenvalores/eigenvectores.\n",
    "\n",
    "En aprendizaje automático se utiliza en técnicas como el análisis de componentes principales (PCA) para reducir la dimensionalidad de los datos. \n",
    "\n",
    "<div class=\"alert alert-success\">\n",
    "\n",
    "## Ejemplo 3.\n",
    "\n",
    "Realizar la factorizaciónn QR del sistema del ejemplo 1.\n",
    "\n",
    "</div>"
   ]
  },
  {
   "cell_type": "code",
   "execution_count": null,
   "id": "9065d9f1-eb89-4ca6-847f-2a8a1efb4d77",
   "metadata": {
    "tags": []
   },
   "outputs": [],
   "source": [
    "# Usando sympy\n",
    "Q, R = M.QRdecomposition()"
   ]
  },
  {
   "cell_type": "code",
   "execution_count": null,
   "id": "ce6500d4-d4ef-49a6-a8d5-17ce474ca975",
   "metadata": {
    "tags": []
   },
   "outputs": [],
   "source": [
    "Q"
   ]
  },
  {
   "cell_type": "code",
   "execution_count": null,
   "id": "cbf055f6-d057-4dc5-858a-f748b281233f",
   "metadata": {
    "tags": []
   },
   "outputs": [],
   "source": [
    "R"
   ]
  },
  {
   "cell_type": "code",
   "execution_count": null,
   "id": "6a440982-6590-4b8f-8837-fc04c86ecbf0",
   "metadata": {
    "tags": []
   },
   "outputs": [],
   "source": [
    "Q * R"
   ]
  },
  {
   "cell_type": "code",
   "execution_count": null,
   "id": "d46ed382-95e1-4647-82b2-93a4be5e6b8e",
   "metadata": {},
   "outputs": [],
   "source": [
    "M"
   ]
  },
  {
   "cell_type": "markdown",
   "id": "eeebdccb-002f-473a-9cec-243ce06ec090",
   "metadata": {},
   "source": [
    "<div class=\"alert alert-success\">\n",
    "\n",
    "## Ejemplo 4.\n",
    "\n",
    "Encontrar los eigenvalores de la siguiente matriz usando la descomposición QR:\n",
    "\n",
    "$\n",
    "A = \n",
    "\\left[\n",
    "\\begin{array}{ccc}\n",
    "2 & 1 & 0 \\\\\n",
    "1 & 3 & 1 \\\\\n",
    "0 & 1 & 4\n",
    "\\end{array}\n",
    "\\right] \n",
    "$\n",
    "\n",
    "</div>"
   ]
  },
  {
   "cell_type": "code",
   "execution_count": null,
   "id": "92194cf0-a22b-4b1d-ba34-d4fdbafb19de",
   "metadata": {
    "tags": []
   },
   "outputs": [],
   "source": [
    "# Usando numpy\n",
    "A = np.array([[2,1,0],\n",
    "              [1,3,1],\n",
    "              [0,1,4]])\n",
    "q, r = np.linalg.qr(A)"
   ]
  },
  {
   "cell_type": "code",
   "execution_count": null,
   "id": "bb53707b-8ee8-4c05-89c9-e113cacea465",
   "metadata": {
    "tags": []
   },
   "outputs": [],
   "source": [
    "q"
   ]
  },
  {
   "cell_type": "code",
   "execution_count": null,
   "id": "9a9a2b0b-1dd4-4fc7-9c0b-c61639cb6435",
   "metadata": {
    "tags": []
   },
   "outputs": [],
   "source": [
    "r"
   ]
  },
  {
   "cell_type": "code",
   "execution_count": null,
   "id": "2c68db88-16c0-448e-a695-b13045802e17",
   "metadata": {
    "tags": []
   },
   "outputs": [],
   "source": [
    "q @ r"
   ]
  },
  {
   "cell_type": "code",
   "execution_count": null,
   "id": "2554022e-0c31-4a58-9187-a37ec42966e7",
   "metadata": {},
   "outputs": [],
   "source": [
    "import macti.math as mmat\n",
    "\n",
    "for _ in range(1000):  # Número de iteraciones (ajustar según la convergencia)\n",
    "    r = r @ q\n",
    "    q, r = np.linalg.qr(r)\n",
    "\n",
    "print(\"Matriz R :\\n\", r)\n",
    "\n",
    "# Eigenvalores (aproximación)\n",
    "eigenvalores = np.diag(r)\n",
    "print(\"Eigenvalores aproximados:\\n\", eigenvalores)\n",
    "\n",
    "# Eigenvalores con la función eig de numpy.linalg\n",
    "w, v = np.linalg.eig(A)\n",
    "\n",
    "print(\"Eigenvalores (eig):\\n\", w)"
   ]
  },
  {
   "cell_type": "markdown",
   "id": "8cbd0f86-77d8-4f41-ad85-3066ce307a80",
   "metadata": {},
   "source": [
    "## Factorización de Cholesky\n",
    "\n",
    "La factorización de Cholesky es una técnica en álgebra lineal que descompone una matriz simétrica definida positiva en el producto de una matriz triangular inferior $L$ y su transpuesta $L^T$. Este método es útil para resolver sistemas de ecuaciones lineales de manera eficiente, especialmente cuando la matriz de coeficientes es simétrica y definida positiva. \n",
    "\n",
    "\n",
    "<div class=\"alert alert-success\">\n",
    "\n",
    "## Ejemplo 5.\n",
    "\n",
    "Realizar la factorización de Cholesky de la matriz del siguiente sistema lineal y resolverlo usando esta factorización.\n",
    "\n",
    "\n",
    "$\n",
    "\\left[\n",
    "\\begin{array}{cccc}\n",
    "6 & 3 & 4 & 8 \\\\ \n",
    "3 & 6 & 5 & 1 \\\\\n",
    "4 & 5 & 10 & 7 \\\\ \n",
    "8 & 1 & 7& 25\n",
    "\\end{array}\n",
    "\\right] \n",
    "\\left[ \n",
    "\\begin{array}{c}\n",
    "w \\\\ x \\\\ y \\\\ z \n",
    "\\end{array}\n",
    "\\right]\n",
    "= \n",
    "\\left[ \n",
    "\\begin{array}{c}\n",
    "1 \\\\ 2 \\\\ 3 \\\\ 4 \n",
    "\\end{array}\n",
    "\\right]\n",
    "$\n",
    "\n",
    "</div>"
   ]
  },
  {
   "cell_type": "code",
   "execution_count": null,
   "id": "6f219d86-6484-466c-8458-1206df33e97c",
   "metadata": {},
   "outputs": [],
   "source": [
    "C = np.array([[6, 3, 4, 8], \n",
    "              [3, 6, 5, 1], \n",
    "              [4, 5, 10, 7], \n",
    "              [8, 1, 7, 25]])"
   ]
  },
  {
   "cell_type": "code",
   "execution_count": null,
   "id": "737b51d6-087b-4daf-ba9d-5fe5be1c4034",
   "metadata": {
    "tags": []
   },
   "outputs": [],
   "source": [
    "L = np.linalg.cholesky(C)"
   ]
  },
  {
   "cell_type": "code",
   "execution_count": null,
   "id": "8e2992a7-ad44-45cb-8049-5c16a156a90b",
   "metadata": {
    "tags": []
   },
   "outputs": [],
   "source": [
    "L"
   ]
  },
  {
   "cell_type": "code",
   "execution_count": null,
   "id": "0421ba99-f526-4228-ac95-c4050f8791c9",
   "metadata": {},
   "outputs": [],
   "source": [
    "L.T"
   ]
  },
  {
   "cell_type": "code",
   "execution_count": null,
   "id": "18bad866-56c3-4328-ab92-9361c0ac9bf2",
   "metadata": {
    "tags": []
   },
   "outputs": [],
   "source": [
    "L @ L.T"
   ]
  },
  {
   "cell_type": "code",
   "execution_count": null,
   "id": "bd0a353c-93e2-464d-bc62-6cda35bb02d8",
   "metadata": {},
   "outputs": [],
   "source": [
    "from scipy.linalg import cho_factor, cho_solve\n",
    "c, low = cho_factor(C)\n",
    "b = np.array([1, 2, 3, 4])\n",
    "x = cho_solve((c, low), b)\n",
    "print(x)\n",
    "print(C @ x)\n",
    "np.allclose(C @ x - b, np.zeros(4))"
   ]
  },
  {
   "cell_type": "code",
   "execution_count": null,
   "id": "41ce4dc0-dc7b-44d6-9280-96b39e73f66d",
   "metadata": {},
   "outputs": [],
   "source": []
  }
 ],
 "metadata": {
  "kernelspec": {
   "display_name": "Python 3 (ipykernel)",
   "language": "python",
   "name": "python3"
  },
  "language_info": {
   "codemirror_mode": {
    "name": "ipython",
    "version": 3
   },
   "file_extension": ".py",
   "mimetype": "text/x-python",
   "name": "python",
   "nbconvert_exporter": "python",
   "pygments_lexer": "ipython3",
   "version": "3.11.6"
  }
 },
 "nbformat": 4,
 "nbformat_minor": 5
}
