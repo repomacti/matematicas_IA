{
 "cells": [
  {
   "cell_type": "markdown",
   "id": "e46960f7-006f-43b4-94f4-261a01af32bc",
   "metadata": {},
   "source": [
    "# Matrices: normas y eigenvalores/eigenvectores\n",
    "\n",
    "**Objetivo.** Revisar e ilustrar los conceptos de normas matriciales, sus eigenvalores y sus eigenvectores usando las bibliotecas `sympy` y `numpy`.\n",
    "\n",
    " <p xmlns:cc=\"http://creativecommons.org/ns#\" xmlns:dct=\"http://purl.org/dc/terms/\"><a property=\"dct:title\" rel=\"cc:attributionURL\" href=\"https://github.com/repomacti/macti/tree/main/notebooks/Algebra_Lineal_01\">MACTI-Algebra_Lineal_01</a> by <a rel=\"cc:attributionURL dct:creator\" property=\"cc:attributionName\" href=\"https://www.macti.unam.mx\">Luis M. de la Cruz</a> is licensed under <a href=\"http://creativecommons.org/licenses/by-sa/4.0/?ref=chooser-v1\" target=\"_blank\" rel=\"license noopener noreferrer\" style=\"display:inline-block;\">Attribution-ShareAlike 4.0 International<img style=\"height:22px!important;margin-left:3px;vertical-align:text-bottom;\" src=\"https://mirrors.creativecommons.org/presskit/icons/cc.svg?ref=chooser-v1\"><img style=\"height:22px!important;margin-left:3px;vertical-align:text-bottom;\" src=\"https://mirrors.creativecommons.org/presskit/icons/by.svg?ref=chooser-v1\"><img style=\"height:22px!important;margin-left:3px;vertical-align:text-bottom;\" src=\"https://mirrors.creativecommons.org/presskit/icons/sa.svg?ref=chooser-v1\"></a></p> \n",
    "\n",
    "**Trabajo realizado con el apoyo del Programa UNAM-DGAPA-PAPIME, proyectos PE101019 y PE101922.**"
   ]
  },
  {
   "cell_type": "markdown",
   "id": "40c8f742-be3f-4671-a761-c9b762ee651a",
   "metadata": {},
   "source": [
    "## Eigenvalores y Eigenvectores\n",
    "\n",
    "Si $A$ es una matriz cuadrada, entonces definimos el número $\\lambda$ (real o complejo) como **eigenvalor** (**valor propio** o **autovalor**) de $A$ si $A\\vec{u} = \\lambda \\vec{u}$, o equivalentemente si $det(A - \\lambda I) = 0$. El vector $\\vec{u}$ se llama **eigenvector** (**vector propio** o **autovector**) de $A$. El conjunto de todos los autovalores de la matriz $A$ se denomina espectro de $A$ y se denota como $\\rho(A)$."
   ]
  },
  {
   "cell_type": "code",
   "execution_count": null,
   "id": "b90b48d3-e88a-4d53-bfa1-fb73a4d90751",
   "metadata": {},
   "outputs": [],
   "source": [
    "import numpy as np\n",
    "import sympy\n",
    "import matplotlib.pyplot as plt\n",
    "import macti.vis as mvis\n",
    "import macti.math as mmat"
   ]
  },
  {
   "cell_type": "code",
   "execution_count": null,
   "id": "862fd564-150f-4245-a64c-2a9dd78dd85c",
   "metadata": {
    "tags": []
   },
   "outputs": [],
   "source": [
    "# Definimos la siguiente matriz.\n",
    "A = sympy.Matrix([[3.0, 2.0], [2.0, 6.0]])\n",
    "\n",
    "# Convertimos la matriz A a un arreglo de numpy\n",
    "A = np.array(A, dtype=float)\n",
    "A"
   ]
  },
  {
   "cell_type": "markdown",
   "id": "9547a7e6-806e-456e-8857-70f5db9adbcf",
   "metadata": {},
   "source": [
    "Los eigenvalores y eigenvectores se pueden calcular usando la función `np.linalg.eig()` `de numpy` como sigue:"
   ]
  },
  {
   "cell_type": "code",
   "execution_count": null,
   "id": "064fbbd3-6567-45ed-bb69-5c832955cc63",
   "metadata": {
    "tags": []
   },
   "outputs": [],
   "source": [
    "np.linalg.eig(A)  # w: eigenvalues, v: eigenvectors"
   ]
  },
  {
   "cell_type": "markdown",
   "id": "e9a2a7bf-9e07-4eaf-9a46-5ee14e778b93",
   "metadata": {
    "tags": []
   },
   "source": [
    "También podemos usar la función `macti.matem.eigen_land()` para obtener mayor información de los eigenvalores y eigenvectores como sigue:"
   ]
  },
  {
   "cell_type": "code",
   "execution_count": null,
   "id": "ce13ff74-10e5-4400-af28-094572d21633",
   "metadata": {},
   "outputs": [],
   "source": [
    "wA, vA = mmat.eigen_land(A)"
   ]
  },
  {
   "cell_type": "markdown",
   "id": "08e72578-8423-47da-8d25-21eddc5bcc6a",
   "metadata": {},
   "source": [
    "Podemos graficar los eigenvectores:"
   ]
  },
  {
   "cell_type": "code",
   "execution_count": null,
   "id": "2e6038c7-7bf4-4385-a67f-3cacd64bdeba",
   "metadata": {
    "tags": []
   },
   "outputs": [],
   "source": [
    "v = mvis.Plotter()\n",
    "v.set_coordsys()\n",
    "v.plot_vectors(1, [vA[:,0], vA[:,1]], ['$e_0^A$','$e_1^A$'])\n",
    "v.grid()"
   ]
  },
  {
   "cell_type": "markdown",
   "id": "d3a38041-98ab-4e0a-afb6-a957190f4af3",
   "metadata": {},
   "source": [
    "Observa que en este caso los eigenvectores son ortogonales.\n",
    "\n",
    "La relación \n",
    "\n",
    "$$\n",
    "A \\vec{u} = \\lambda \\vec{u}\n",
    "$$\n",
    "\n",
    "indica básicamente que al aplicar la matriz $A$ a un eigenvector $\\vec{u}$, el resultado es el mismo vector escalado $\\lambda \\vec{u}$, es decir no lo rota. Cualquier otro vector, que no sea un múltiplo de los eigenvectores, será rotado. Veamos esto en el siguiente código:"
   ]
  },
  {
   "cell_type": "code",
   "execution_count": null,
   "id": "99a39bc5-436f-4374-88d0-a01a9aa0f3ba",
   "metadata": {
    "tags": []
   },
   "outputs": [],
   "source": [
    "# definimos un vector\n",
    "x1 = np.array([-1.5,0.95])\n",
    "\n",
    "# Aplicamos la matriz A\n",
    "r1 = A @ x1\n",
    "\n",
    "# Ahora graficamos\n",
    "v = mvis.Plotter(1, 2, fig_par=dict(figsize=(8,3)))\n",
    "\n",
    "v.set_coordsys(1)\n",
    "v.plot_vectors(1, [x1, r1], \n",
    "                  ['$x_1$', '$A * x_1$'], \n",
    "               w = [0.03, 0.02], lcolors = ['black', 'deepskyblue'])\n",
    "v.set_coordsys(2)\n",
    "v.plot_vectors(2, [vA[:,0], A @ vA[:,0]], \n",
    "                  ['$e_0^A$', '$A * e_0^A$'], \n",
    "               w = [0.02, 0.01], lcolors = ['black', 'deepskyblue'], ofx=-100.0)\n",
    "\n",
    "v.legend([1,2], fontsize=9, ncol=1, loc='upper right')\n",
    "v.grid()"
   ]
  },
  {
   "cell_type": "markdown",
   "id": "db87ac58-05d4-4239-b510-4002f8bcba1d",
   "metadata": {},
   "source": [
    "Observamos que el eigenvectpr $e_0^A$ no rota cuando se le aplica $A$, pero el vector $\\vec{x}_1$ si es rotado un cierto ángulo cuando le aplicamos la matriz $A$."
   ]
  },
  {
   "cell_type": "markdown",
   "id": "9ad598b4-c8e3-48f9-a652-766faf86c157",
   "metadata": {},
   "source": [
    "## Normas Matriciales.\n",
    "\n",
    "La norma de una matriz $A$ es un número real positivo denotado por $||A||$.\n",
    "Dadas cualesquiera dos matrices $A$ y $B$ se cumplen los siguiente axiomas.\n",
    "1. $||A|| \\ge 0$.\n",
    "2. $||A|| = 0 \\iff A = 0$.\n",
    "3. $||aA|| = |a| ||A||$ para cualquier número real $a$.\n",
    "4. $||A+B|| \\le ||A|| + ||B||$ (desigualdad triangular).\n",
    "5. $||AB|| \\le ||A||||B||$ (compatibilidad).\n",
    "\n",
    "Definimos la siguiente matriz\n",
    "\n",
    "$$\n",
    "M =\n",
    "\\begin{bmatrix}\n",
    "-3 & 2 \\\\\n",
    "1 & -5\n",
    "\\end{bmatrix}\n",
    "$$\n"
   ]
  },
  {
   "cell_type": "code",
   "execution_count": null,
   "id": "e7f1f076-bb9c-4922-9781-cb6733175b37",
   "metadata": {
    "tags": []
   },
   "outputs": [],
   "source": [
    "M = np.array([[-3, 2],[1, -5]])\n",
    "M"
   ]
  },
  {
   "cell_type": "markdown",
   "id": "6800d31c-2713-44a4-9ab6-b347d7bbd6f6",
   "metadata": {},
   "source": [
    "### Norma 1.\n",
    "Consiste en sumar los valores absolutos de los elementos de cada **columna** y luego calular \n",
    "la suma máxima:\n",
    "$$\n",
    "||A||_1 = \\max_{1 \\le j \\le n} \\left( \\sum_{i=1}^n  |a_{ij}| \\right)\n",
    "$$"
   ]
  },
  {
   "cell_type": "code",
   "execution_count": null,
   "id": "14172ea6-fb13-4c5f-9dc7-c8972ad0786f",
   "metadata": {
    "tags": []
   },
   "outputs": [],
   "source": [
    "A_n1 = np.linalg.norm(M,1)\n",
    "print(A_n1)"
   ]
  },
  {
   "cell_type": "markdown",
   "id": "7fb39003-9482-418c-93a4-39422960974a",
   "metadata": {},
   "source": [
    "### Norma $\\infty$.\n",
    "Consiste en sumar los valores absolutos de los elementos de cada **renglón** y luego calular \n",
    "la suma máxima:\n",
    "$$\n",
    "||A||_\\infty = \\max_{1 \\le i \\le n} \\left( \\sum_{j=1}^n  |a_{ij}| \\right)\n",
    "$$"
   ]
  },
  {
   "cell_type": "code",
   "execution_count": null,
   "id": "351f3fc2-8724-4440-96a0-3c790a401a59",
   "metadata": {
    "tags": []
   },
   "outputs": [],
   "source": [
    "A_nI = np.linalg.norm(M, np.inf)\n",
    "print(A_nI)"
   ]
  },
  {
   "cell_type": "markdown",
   "id": "68625f3a-e799-43b8-a5be-9353523100db",
   "metadata": {},
   "source": [
    "### Norma de Frobenius\n",
    "\n",
    "$$\n",
    "||A||_F = \\left( \\sum_{i=1}^n \\sum_{j=1}^n |a_{ij}|^2 \\right)^{1/2}\n",
    "$$"
   ]
  },
  {
   "cell_type": "code",
   "execution_count": null,
   "id": "04d5abfc-0d29-455d-801f-74fb46870905",
   "metadata": {
    "tags": []
   },
   "outputs": [],
   "source": [
    "A_nFro = np.linalg.norm(M, 'fro')\n",
    "print(A_nFro)"
   ]
  },
  {
   "cell_type": "markdown",
   "id": "02196089-b11e-4c3d-8b39-5836ca8a66d3",
   "metadata": {},
   "source": [
    "<div class=\"alert alert-success\">\n",
    "\n",
    "## Ejemplo 3.\n",
    "\n",
    "Verificar que se cumplen los 5 axiomas de las normas matriciales para la Norma 1 usando la matriz $M$.\n",
    "</div>"
   ]
  },
  {
   "cell_type": "markdown",
   "id": "3aa9e74c-cc10-4180-8a1e-255bf8eb6b57",
   "metadata": {},
   "source": [
    "**Axioma 1**. $||M||_1 \\geq 0$"
   ]
  },
  {
   "cell_type": "code",
   "execution_count": null,
   "id": "efa47a05-1fd0-4840-8b17-7df3077eace8",
   "metadata": {
    "tags": []
   },
   "outputs": [],
   "source": [
    "M_n1 = np.linalg.norm(M,1 )\n",
    "print('M =\\n {}'.format(M))\n",
    "print('∥M∥₁ = {}'.format(M_n1))"
   ]
  },
  {
   "cell_type": "markdown",
   "id": "84ce9fda-0f5b-48e8-a8ac-27e4d8695894",
   "metadata": {},
   "source": [
    "**Axioma 2.** "
   ]
  },
  {
   "cell_type": "code",
   "execution_count": null,
   "id": "373a7816-f131-4f5d-948e-a274f017ccbc",
   "metadata": {
    "tags": []
   },
   "outputs": [],
   "source": [
    "ZERO = np.array([[0.0, 0.0], [0.0, 0.0]])\n",
    "ZERO_n1 = np.linalg.norm(ZERO,1)\n",
    "print('ZERO = \\n{}'.format(ZERO))\n",
    "print('∥ZERO∥₁ = {}'.format(ZERO_n1))"
   ]
  },
  {
   "cell_type": "markdown",
   "id": "e737d58e-9173-4d9d-b4f0-03ce6bae3979",
   "metadata": {},
   "source": [
    "**Axioma 3.**"
   ]
  },
  {
   "cell_type": "code",
   "execution_count": null,
   "id": "0b87d84a-342c-4ce4-992b-a31beef64a7e",
   "metadata": {
    "tags": []
   },
   "outputs": [],
   "source": [
    "a = -3.5\n",
    "a_M_n1 = np.linalg.norm(a * M, 1) \n",
    "print('∥M∥₁ = {}, \\t a = {}'.format(M_n1, a))\n",
    "print('\\n ∥a * M∥₁ = {} \\n |a| * ∥M∥₁ = {}'.format(a_M_n1, np.abs(a) * M_n1))"
   ]
  },
  {
   "cell_type": "markdown",
   "id": "a7b89c7f-0b17-47fa-9891-4a97ddcbda41",
   "metadata": {},
   "source": [
    "**Axioma 4.**"
   ]
  },
  {
   "cell_type": "code",
   "execution_count": null,
   "id": "b2a77085-c6c1-4f6c-9374-6fbc67d04a58",
   "metadata": {
    "tags": []
   },
   "outputs": [],
   "source": [
    "N = np.arange(4).reshape(2,2)\n",
    "\n",
    "M_p_N_n1= np.linalg.norm(M + N, 1)\n",
    "\n",
    "N_n1 = np.linalg.norm(N, 1)\n",
    "\n",
    "print('\\nNorma 1:')\n",
    "print(' ∥M + N∥₁ = {}'.format(M_p_N_n1))\n",
    "print(' ∥M∥₁ + ∥N∥₁ = {}'.format(M_n1 + N_n1))\n",
    "print(' ¿ ∥M + N∥₁ ≤ ∥M∥₁ + ∥N∥₁ ? ⮕ {}'.format(M_p_N_n1 <= M_n1 + N_n1))"
   ]
  },
  {
   "cell_type": "markdown",
   "id": "75b41ee2-4965-4bb6-ace4-b9de2cdf0b74",
   "metadata": {},
   "source": [
    "**Axioma 5.**"
   ]
  },
  {
   "cell_type": "code",
   "execution_count": null,
   "id": "d4744e85-174f-40a3-985f-22404e514769",
   "metadata": {
    "tags": []
   },
   "outputs": [],
   "source": [
    "M_x_N_n1= np.linalg.norm(M * N, 1)\n",
    "\n",
    "print('\\nNorma 1:')\n",
    "print(' ∥M * N∥₁ = {}'.format(M_x_N_n1))\n",
    "print(' ∥M∥₁ * ∥N∥₁ = {}'.format(M_n1 * N_n1))\n",
    "print(' ¿ ∥M * N∥₁ ≤ ∥M∥₁ * ∥N∥₁ ? ⮕ {}'.format(M_x_N_n1 <= M_n1 * N_n1))"
   ]
  },
  {
   "cell_type": "markdown",
   "id": "3509be29-1410-40e8-8d73-c3e5f8bc1775",
   "metadata": {},
   "source": [
    "### Número de condición\n",
    "\n",
    "El número de condición de una matriz $A$ se define como\n",
    "\n",
    "$$\n",
    "\\kappa(A) = ||A|| \\; ||A^{-1}||\n",
    "$$\n",
    "\n",
    "Este número siempre es más grande o igual a 1. Además nos da información \n",
    "acerca de que tan bien o mal está definido un problema que depende de la matriz en cuestión.\n",
    "Entre más grande sea este número es más difícil de resolver el problema."
   ]
  },
  {
   "cell_type": "code",
   "execution_count": null,
   "id": "cd0e3d76-437f-4b9c-8091-ac8f6979c118",
   "metadata": {
    "tags": []
   },
   "outputs": [],
   "source": [
    "A = np.array([[3., 2.],[2., 6.]])\n",
    "print(A)\n",
    "# Calculamos el número de condición usando funciones de numpy\n",
    "kA_F = np.linalg.norm(A, 'fro') * np.linalg.norm(np.linalg.inv(A), 'fro')\n",
    "print('𝜅(A) = {}'.format(kA_F))"
   ]
  },
  {
   "cell_type": "code",
   "execution_count": null,
   "id": "f92fb2ce-e150-4856-b770-192f58e7c400",
   "metadata": {
    "tags": []
   },
   "outputs": [],
   "source": [
    "# Existe una función para calcular el número de condición directamente\n",
    "kA_F = np.linalg.cond(A, 'fro')\n",
    "print('𝜅(A) = {}'.format(kA_F))"
   ]
  },
  {
   "cell_type": "code",
   "execution_count": null,
   "id": "c735bd92-b04b-41e7-b032-4d699542606e",
   "metadata": {
    "tags": []
   },
   "outputs": [],
   "source": [
    "# Matriz con un número de condición más grande\n",
    "B = np.array([[0.10, -1],[0.30, -1]])\n",
    "kB_F = np.linalg.cond(B, 'fro')\n",
    "print(B)\n",
    "print('𝜅(B) = {}'.format(kB_F))"
   ]
  },
  {
   "cell_type": "code",
   "execution_count": null,
   "id": "9c57b60b-980d-47c6-9094-e2ab09622f0a",
   "metadata": {
    "tags": []
   },
   "outputs": [],
   "source": [
    "# Matriz mal condicionada\n",
    "C = np.array([[0.10, -1000],[0.30, -1]])\n",
    "kC_F = np.linalg.cond(C, 'fro')\n",
    "print(C)\n",
    "print('𝜅(C) = {}'.format(kC_F))"
   ]
  },
  {
   "cell_type": "code",
   "execution_count": null,
   "id": "2d0a0ea3-cbaa-482a-bd60-e9b393dbb881",
   "metadata": {},
   "outputs": [],
   "source": []
  }
 ],
 "metadata": {
  "kernelspec": {
   "display_name": "Python 3 (ipykernel)",
   "language": "python",
   "name": "python3"
  },
  "language_info": {
   "codemirror_mode": {
    "name": "ipython",
    "version": 3
   },
   "file_extension": ".py",
   "mimetype": "text/x-python",
   "name": "python",
   "nbconvert_exporter": "python",
   "pygments_lexer": "ipython3",
   "version": "3.11.6"
  }
 },
 "nbformat": 4,
 "nbformat_minor": 5
}
