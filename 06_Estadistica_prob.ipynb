{
 "cells": [
  {
   "cell_type": "markdown",
   "id": "a1189639-0b4d-40b7-8514-8e605ab8a08e",
   "metadata": {},
   "source": [
    "# Matemáticas para IA con Python.\n",
    "\n",
    " <p xmlns:cc=\"http://creativecommons.org/ns#\" xmlns:dct=\"http://purl.org/dc/terms/\"><a property=\"dct:title\" rel=\"cc:attributionURL\" href=\"https://github.com/luiggix/intro_MeIA_2023\">Matemáticas para IA con Python</a> by <span property=\"cc:attributionName\">Luis Miguel de la Cruz Salas</span> is licensed under <a href=\"http://creativecommons.org/licenses/by-nc-sa/4.0/?ref=chooser-v1\" target=\"_blank\" rel=\"license noopener noreferrer\" style=\"display:inline-block;\">CC BY-NC-SA 4.0<img style=\"height:22px!important;margin-left:3px;vertical-align:text-bottom;\" src=\"https://mirrors.creativecommons.org/presskit/icons/cc.svg?ref=chooser-v1\"><img style=\"height:22px!important;margin-left:3px;vertical-align:text-bottom;\" src=\"https://mirrors.creativecommons.org/presskit/icons/by.svg?ref=chooser-v1\"><img style=\"height:22px!important;margin-left:3px;vertical-align:text-bottom;\" src=\"https://mirrors.creativecommons.org/presskit/icons/nc.svg?ref=chooser-v1\"><img style=\"height:22px!important;margin-left:3px;vertical-align:text-bottom;\" src=\"https://mirrors.creativecommons.org/presskit/icons/sa.svg?ref=chooser-v1\"></a></p> "
   ]
  },
  {
   "cell_type": "markdown",
   "id": "204a0766-83d6-415c-a3a8-e6de83078d08",
   "metadata": {},
   "source": [
    "# Probabilidad y estadística\n",
    "\n",
    "Cuando hablamos de estadísitica inevitablemente debemos referirnos también a la probabilidad.\n",
    "\n",
    "La probabilidad contiene un mundo de teorías que pueden ser muy complicadas pero que tienen aplicación en la vida real.\n",
    "\n",
    "En el nivel más básico nos preguntamos: ¿Cuál es la probabilidad de que un evento suceda?\n",
    "\n",
    "Para calcular esta probabilidad, es necesario considerar todos los demás eventos que también podrían ocurrir.\n",
    "\n",
    "Dos ejemplos clásicos son el lanzamiento de una moneda o de un dado. En el primero pueden ocurrir solo dos eventos (en México decimos Águila o Sol), en el segundo pueden ocurrir seis.\n",
    "\n",
    "Para calcular la probabilidad de que un evento ocurra, contamos las posibilidades de que realmente ocurra y dividimos el resultado entre el número total de posibilidades. De esta manera en el caso del lanzamiento de una moneda tenemos un $50\\%$ de que ocurra uno de los eventos (la mitad Águila, la otra mitad Sol). En el caso del dado la probabilidad es de $16.6\\%$ ($1/6$). \n",
    "\n",
    "Observando los eventos que pueden ocurrir, la probabilidad nos proporciona un sistema para realizar predicciones de qué tan frecuente un evento puede ocurrir.\n",
    "\n",
    "Sin embargo, en la realidad puede pasar que cuando lances la moneda, en vez de obtener la mitad de Águila y la otra mitad de Sol, te encuentres con que la mayoría de las veces cae por ejemplo Sol, y entonces pienses que la moneda está \"cargada\".\n",
    "\n",
    "Pero regularmente el número de lanzamientos no es lo suficientemente grande para poder hacer esta suposición (me están haciendo trampa); lo que debes hacer para evitar pensar mal, es lanzar muchas veces la moneda (10, 100, 1000, ...) y **¡empezar a recopilar datos!**; y luego usar la estadística para calcular las probabilidades con base en tus observaciones y checar que realmente se obtiene lo esperado (50-50, en el caso del lanzamiento de la moneda).\n",
    "\n",
    "Veamos el siguiente ejemplo:"
   ]
  },
  {
   "cell_type": "code",
   "execution_count": null,
   "id": "0d206900-0d24-4fdc-b1aa-c663480d9f05",
   "metadata": {
    "tags": []
   },
   "outputs": [],
   "source": [
    "import random\n",
    "import math\n",
    "\n",
    "def lanzamiento(n):\n",
    "    sol = 0\n",
    "    aguila = 0\n",
    "    for i in range(n):\n",
    "        resultado = random.random()\n",
    "        if resultado <= 0.5:\n",
    "            sol += 1\n",
    "        else:\n",
    "            aguila +=1\n",
    "\n",
    "    return aguila/n, sol/n"
   ]
  },
  {
   "cell_type": "code",
   "execution_count": null,
   "id": "53d69771-2d12-434d-b2ac-2949ec4f0b5d",
   "metadata": {
    "tags": []
   },
   "outputs": [],
   "source": [
    "lanzamiento(10)"
   ]
  },
  {
   "cell_type": "markdown",
   "id": "0b3c7b54-68a0-411e-899a-564154397f03",
   "metadata": {},
   "source": [
    "Observa que el error con respecto del resultado ideal (50-50) se desvanece conforme aumentamos el número de lanzamientos. Podemos calcular una *desviación* con respecto del resultado esperado:"
   ]
  },
  {
   "cell_type": "code",
   "execution_count": null,
   "id": "a96d86ac-3f27-4a18-9f1d-78ed35d707c9",
   "metadata": {
    "tags": []
   },
   "outputs": [],
   "source": [
    "a, s = lanzamiento(1000)\n",
    "\n",
    "print('Águila : {:.2f} ({:.2f}) \\t Sol : {:.2f} ({:.2f})'.format(a, math.fabs(a-0.5), s, math.fabs(s-0.5)))"
   ]
  },
  {
   "cell_type": "markdown",
   "id": "0aef81b2-32b7-4b96-964a-ae6e8f3d42fd",
   "metadata": {},
   "source": [
    "Entonces, la estadística nos permite calcular probabilidades a partir de observaciones del mundo real, siempre y cuando tengamos suficientes datos.\n",
    "\n",
    "La probabilidad nos proporciona las teorías, mientras que la estadística nos provee de herramientas para probar esas teorías usando datos. \n",
    "\n",
    "Acabamos de mostrar lo anterior con el ejemplo del lanzamiento de una moneda, pero esto se puede aplicar a ejemplos que son mucho más complejos: \n",
    "* ¿Cuál es la probabilidad de que un meteorito caiga en el patio de mi casa? \n",
    "* ¿Cuál es la probabilidad de que me saque la lotería? \n",
    "* ¿Cuál es la probabilidad de que mi equipo favorito sea campeón? \n",
    "\n",
    "No es fácil responder a estas preguntas, a menos que tengamos mucha información, datos duros, para calcular estadísticas. Y entre más datos tengamos, nuestra confianza en esos cálculos será mayor."
   ]
  },
  {
   "cell_type": "markdown",
   "id": "eb1e006f-a0ab-4752-8028-2cfaee5bb8b4",
   "metadata": {},
   "source": [
    "# Variables aleatorias.\n",
    "\n",
    "Pero antes de comenzar a realizar cálculos estadísticos, tenemos que revisar ¿cuál es la naturaleza de nuestros datos?\n",
    "\n",
    "Nos referimos en este punto a las [**variables aleatorias**](https://es.wikipedia.org/wiki/Variable_aleatoria) como funciones que asignan un valor, usualmente numérico, al resultado de un experimento aleatorio.\n",
    "\n",
    "## Variable aleatoria discreta. \n",
    "\n",
    "Es aquella que solo toma ciertos valores (frecuentemente enteros) y que resulta principalmente del conteo realizado.  Una variable aleatoria discreta $X$ está definida por los valores que toma y sus probabilidades, las cuales deberán sumar 1.\n",
    "\n",
    "| $X$   | $P(X=x_i)$ |\n",
    "|-------|:----------:|\n",
    "|$x_1$  | $p_1$ |\n",
    "|$x_2$  | $p_2$ |\n",
    "|$\\dots$| $\\dots$ |\n",
    "|$x_n$  | $p_n$ |\n",
    "\n",
    "Se debe verificar que $\\sum_i p_i = 1$."
   ]
  },
  {
   "cell_type": "markdown",
   "id": "ad55f945-f502-4577-b23b-ce328f855e70",
   "metadata": {},
   "source": [
    "**Ejemplo 1**. El experimento de lanzar dos monedas tiene los siguientes resultados (espacio muestral): \n",
    "\n",
    "$$\n",
    "\\Omega = \\{ \\text{(Águila, Águila), (Águila, Sol), (Sol, Sol), (Sol, Águila)} \\}\n",
    "$$\n",
    "\n",
    "Definimos la variable aleatoria $X$ cómo el número de veces que cae $\\text{Águila}$. Podemos escribir $X: \\Omega \\rightarrow R_X$ tal que:\n",
    "\n",
    "$$\n",
    "\\begin{array}{ccccc}\n",
    " \\text{(Águila, Águila)} & \\text{(Águila, Sol)} & \\text{(Sol, Sol)} & \\text{(Sol, Águila)} \\\\\n",
    "\\downarrow & \\downarrow & \\downarrow & \\downarrow \\\\\n",
    " 2 & 1 & 0 & 1 \n",
    "\\end{array}\n",
    "$$\n",
    "\n",
    "Entonces, nuestra distribución de probabilidades es:\n",
    "\n",
    "| $X$   | $P(X=x_i)$ |\n",
    "|-------|:-----------:|\n",
    "|$0$  | $0.25$ |\n",
    "|$1$  | $0.50$ |\n",
    "|$2$  | $0.25$ |\n",
    "\n",
    "La [**función de probabilidad**](https://es.wikipedia.org/wiki/Funci%C3%B3n_de_probabilidad)  (también llamada función de masa de probabilidad o **pmf** por sus siglas en inglés), proporciona la probabilidad de que una variable aleatoria discreta sea exactamente igual a algún valor. La función de probabilidad suele ser el medio principal para definir una distribución de probabilidad discreta, y tales funciones existen para variables aleatorias escalares o multivariantes, cuyo dominio es discreto."
   ]
  },
  {
   "cell_type": "markdown",
   "id": "c9d52388-96c6-4d17-82bd-4707835802c6",
   "metadata": {},
   "source": [
    "## Variable aleatoria continua. \n",
    "\n",
    "Es aquella que resulta generalmente de la medición y puede tomar cualquier valor dentro de un intervalo dado. Este tipo de variables están caracterizadas por una [**función de densidad de probabilidad**](https://es.wikipedia.org/wiki/Funci%C3%B3n_de_densidad_de_probabilidad), que es una generalización de la distribución de probabilidad del caso discreto."
   ]
  },
  {
   "cell_type": "markdown",
   "id": "8a67057f-067b-437c-8fb6-f76bcdae4755",
   "metadata": {},
   "source": [
    "**Ejemplo 2.**\n",
    "Considera el siguiente experimento: si nos paramos en una avenida y preguntamos a las personas su estatura, obtendremos resultados dentro de un intervalo bien definido $[e_{min}, e_{max}]$. El valor de esta variable puede ser cualquiera dentro de este intervalo (no es fácil contarlo). Tenemos entonces una variable aleatoria continua."
   ]
  },
  {
   "cell_type": "markdown",
   "id": "4fab0e1a-65b7-4e7e-b6ee-b6d60a20a32a",
   "metadata": {},
   "source": [
    "\n",
    "# Población, espacio muestral y sesgo.\n",
    "\n",
    "La mayoría de los resultados en estadística que se obtienen de una [**población**](https://es.wikipedia.org/wiki/Poblaci%C3%B3n_estad%C3%ADstica) general, se extraen a partir del estudio de una [**muestra**](https://es.wikipedia.org/wiki/Muestra_estad%C3%ADstica) de esta población. \n",
    "\n",
    "Una muestra es un subconjunto de casos o individuos de una población. Es importante que la muestra sea representativa, pues\n",
    "si la muestra está **sesgada** tendrá poco interés y su utilidad será limitada. El [**sesgo**](https://es.wikipedia.org/wiki/Sesgo) es un peso desproporcionado a favor o en contra de una cosa, persona o grupo en comparación con otra, generalmente de una manera que se considera injusta. Muchas veces los sesgos provienen de contextos culturales. "
   ]
  },
  {
   "cell_type": "markdown",
   "id": "4ec5a4ae-71bd-4720-ba73-ef7d384f30d4",
   "metadata": {},
   "source": [
    "# Estadística inferencial.\n",
    "Por ejemplo, si deseamos calcular la estatura promedio de todas las personas del mundo, sería muy complicado obtener la información de todas y cada una de las personas que habitan este planeta. Para obtener una estimación de dicho promedio podemos hacer uso de la **estadística inferencial**, pues nos permite obtener conclusiones de una gran cantidad de datos a partir de una muestra, es decir un pequeño conjunto de datos bien elegido y sin sesgos. \n",
    "\n",
    "La muestra debe ser elegida adecuadamente, de forma aleatoria y sin sesgos, para ello existen diferentes [**técnicas de muestreo**](https://es.wikipedia.org/wiki/Muestreo_(estad%C3%ADstica)) que pueden ser utilizadas.\n",
    "\n",
    "Con la muestra podemos calcular la media, la moda, la desviación estándar, etc. En este caso se les agrega el adjetivo *muestral*; por ejemplo la media de la muestra, es la **media muestral** y a apartir de este valor se puede inferir la media  de toda la población. Esto por supuesto genera errores, debido a que los cálculos se hacen sobre la muestra, pero podría ser pequeño si el muestreo fue adecuado, por lo que la media muestral puede ser representativa de toda la población.\n",
    "\n",
    "Podemos por ejemplo, obtener muestras de diferentes países o continentes, obtener la media y verificar si son diferentes. Esto se conoce como [**pruebas de hipótesis**](https://es.wikipedia.org/wiki/Contraste_de_hip%C3%B3tesis)."
   ]
  },
  {
   "cell_type": "markdown",
   "id": "ef3b8ed6-6bc2-4c5f-ad32-3d1742742032",
   "metadata": {},
   "source": [
    "# Distribuciones de probabilidad.\n",
    "\n",
    "El proceso de determinar resultados, esto es, llegar a ciertas conclusiones a través de la estadística, a partir de una muestra no sesgada de la población general, se conoce como [**inferencia estadística**](https://es.wikipedia.org/wiki/Estad%C3%ADstica_inferencial). Las inferencias se basan con frecuencia en hacer suposiciones acerca de la forma en que los datos se distribuyen. A estas formas de distribución se les conoce como [**distribuciones de probabilidad**](https://es.wikipedia.org/wiki/Distribuci%C3%B3n_de_probabilidad) de una variable aleatoria, y es una función que asigna a cada suceso definido sobre la variable, la probabilidad de que dicho suceso ocurra. "
   ]
  },
  {
   "cell_type": "markdown",
   "id": "f9c626b4-c5dc-47d8-9a2e-196de2ba9468",
   "metadata": {},
   "source": [
    "## Distribución normal\n",
    "\n",
    "Existen muchas variables del mundo real que se ajustan a una [**distribución normal**](https://es.wikipedia.org/wiki/Distribuci%C3%B3n_normal). Una de las características principales de esta distribución es que los datos más frecuentes se van a encontrar muy cerca de la media. Lejos de la media se tiene una menor cantidad de datos. La fórmula matemática es:\n",
    "\n",
    "$$\n",
    "p(x) = \\frac{1}{\\sqrt{2\\pi\\sigma^2}} e^{-\\frac{(x-\\mu)^2}{2\\sigma^2}} \n",
    "$$\n",
    "\n",
    "donde $x$ es la variable aleatoria continua, $\\mu$ es la media y $\\sigma^2$ la varianza."
   ]
  },
  {
   "cell_type": "code",
   "execution_count": null,
   "id": "75d85922-42ac-4cbd-868f-57d6133d0350",
   "metadata": {
    "tags": []
   },
   "outputs": [],
   "source": [
    "import numpy as np\n",
    "import matplotlib.pyplot as plt\n",
    "import statistics"
   ]
  },
  {
   "cell_type": "code",
   "execution_count": null,
   "id": "f0288fbf-a7c7-4acf-adba-a247fa644244",
   "metadata": {
    "tags": []
   },
   "outputs": [],
   "source": [
    "mu, sigma =  0, 0.1 # Media y desviación estándar\n",
    "s = np.random.normal(mu, sigma, 5000) # Distribución normal\n",
    "me = np.median(s) # Mediana\n",
    "\n",
    "print(f'Media {mu:.5f}, Mediana {me:.5f}, Desviación estándar {sigma:.5f}')\n",
    "\n",
    "c, bins, _ = plt.hist(s, 50, fc='silver', ec='darkgrey', alpha=0.5)#, density=True)\n",
    "print(c)\n",
    "print(bins)\n",
    "\n",
    "plt.vlines(mu, 0, max(c), color='limegreen', label='media', lw=4, ls='-')\n",
    "plt.vlines(me, 0, max(c), color='darkgreen', label='mediana')\n",
    "plt.legend()\n",
    "\n",
    "plt.show()"
   ]
  },
  {
   "cell_type": "markdown",
   "id": "3e3dabf5-f686-4ab6-98c9-d30af4f55c5b",
   "metadata": {},
   "source": [
    "## Función de densidad de probabilidad (PDF)\n",
    "\n",
    "En la teoría de la probabilidad, la [**función de densidad de probabilidad**](https://es.wikipedia.org/wiki/Funci%C3%B3n_de_densidad_de_probabilidad) (PDF por sus siglas en inglés), también conocida como función de densidad o simplemente densidad, de una variable aleatoria continua, describe la probabilidad relativa según la cual dicha variable aleatoria tomará determinado valor.\n",
    "\n",
    "La probabilidad de que la variable aleatoria caiga en una región específica del espacio de posibilidades estará dada por la integral de la densidad de esta variable entre los límites de dicha región.\n",
    "\n",
    "Una variable aleatoria $X$ tiene función de densidad $f_{X}(x)$, siendo $f_{X}(x)$ una función no-negativa integrable de Lebesgue, si se cumple:\n",
    "\n",
    "$$\n",
    "P[a\\leq X\\leq b]=\\int _{a}^{b}f_{X}(x)\\,dx\n",
    "$$\n",
    "\n",
    "Intuitivamente puede considerarse $f_{X}(x)dx$ como la probabilidad de $X$ de caer en el intervalo infinitesimal $[x,x+dx]$."
   ]
  },
  {
   "cell_type": "markdown",
   "id": "d4a550d0-6dc3-4248-86d5-f0c63309d98e",
   "metadata": {},
   "source": [
    "<div class=\"alert alert-block alert-success\">\n",
    "\n",
    "### Ejercicio 1.\n",
    "\n",
    "Usando la distribución normal, calcula la probabilidad de que una variable aleatoria obtenga valores entre la media y la desviación estándar. Utilica expresiones de `sympy`.\n",
    "\n",
    "\n",
    "$$\n",
    "P[\\mu \\leq X\\leq \\sigma]=\\int _{\\mu}^{\\sigma}\\frac{1}{\\sqrt{2\\pi\\sigma^2}} e^{-\\frac{(x-\\mu)^2}{2\\sigma^2}} \\,dx\n",
    "$$\n",
    "\n",
    "</div>"
   ]
  },
  {
   "cell_type": "code",
   "execution_count": null,
   "id": "776f3102-4549-4be9-ae23-894cede7a540",
   "metadata": {
    "tags": []
   },
   "outputs": [],
   "source": [
    "### BEGIN SOLUTION\n",
    "import sympy\n",
    "\n",
    "x = sympy.symbols('x')\n",
    "\n",
    "mu = 0.0\n",
    "sigma = 0.1\n",
    "\n",
    "normal = (2*sympy.pi*sigma**2) ** sympy.Rational(-1, 2) * sympy.exp(-(x-mu)**2/(2*sigma**2))\n",
    "\n",
    "display(normal)\n",
    "\n",
    "sympy.integrate(normal, (x, mu, sigma))\n",
    "### END SOLUTION"
   ]
  },
  {
   "cell_type": "markdown",
   "id": "d2fbdeaa-c0f4-431f-b2fe-a54fe7d9aa69",
   "metadata": {},
   "source": [
    "El resultado es de 34%. Si hacemos lo mismo para hacia la izquierda de la media tenemos otro 34%."
   ]
  },
  {
   "cell_type": "markdown",
   "id": "f7465b05-ab81-4e97-bd16-03fbd0b4c86f",
   "metadata": {},
   "source": [
    "<div class=\"alert alert-block alert-success\">\n",
    "\n",
    "### Ejercicio 2.\n",
    "\n",
    "Usando la distribución normal, calcula la probabilidad de que una variable aleatoria obtenga valores en los siguientes intervalos: $[\\sigma, 2\\sigma]$ y $[2\\sigma, 3\\sigma]$.\n",
    "</div>\n"
   ]
  },
  {
   "cell_type": "code",
   "execution_count": null,
   "id": "ca7065c4-bcdb-49d6-a246-f411ea15fe8d",
   "metadata": {
    "tags": []
   },
   "outputs": [],
   "source": [
    "### BEGIN SOLUTION\n",
    "display( sympy.integrate(normal, (x, sigma, 2*sigma)) )\n",
    "display( sympy.integrate(normal, (x, 2*sigma, 3*sigma)) )\n",
    "### END SOLUTION"
   ]
  },
  {
   "cell_type": "markdown",
   "id": "ce85f1d3-8928-4128-aa51-d10abf9ab3aa",
   "metadata": {
    "tags": []
   },
   "source": [
    "<div class=\"alert alert-block alert-success\">\n",
    "\n",
    "### Ejercicio 3.\n",
    "\n",
    "Graficar la distribución normal resaltando las características que se muestran en la siguiente figura:\n",
    "\n",
    "<img width=\"750\" alt=\"Normal distribution curve.\" src=\"https://upload.wikimedia.org/wikipedia/commons/thumb/3/3a/Standard_deviation_diagram_micro.svg/1024px-Standard_deviation_diagram_micro.svg.png\" >\n",
    "\n",
    "<a href=\"https://commons.wikimedia.org/wiki/File:Standard_deviation_diagram_micro.svg\">Ainali</a>, <a href=\"https://creativecommons.org/licenses/by-sa/3.0\">CC BY-SA 3.0</a>, via Wikimedia Commons\n",
    "\n",
    "</div>\n"
   ]
  },
  {
   "cell_type": "code",
   "execution_count": null,
   "id": "57f6f4fc-b932-4190-89e0-cc5e1107d532",
   "metadata": {},
   "outputs": [],
   "source": [
    "def normal(bins, sigma, mu):\n",
    "    return 1/(sigma * np.sqrt(2 * np.pi)) * np.exp( - (bins - mu)**2 / (2 * sigma**2) )\n",
    "\n",
    "# Generación de datos para la distribución normal.\n",
    "mu, sigma =  0, 0.1\n",
    "n = 5000\n",
    "s = np.random.normal(mu, sigma, n)\n",
    "me = statistics.median(s)"
   ]
  },
  {
   "cell_type": "code",
   "execution_count": null,
   "id": "e3f82d36-723b-435d-86fe-ee943bef0556",
   "metadata": {
    "tags": []
   },
   "outputs": [],
   "source": [
    "p1l = np.where(((mu - sigma) < s) & (s < 0), 1, 0).sum()*100/n\n",
    "p1r = np.where(((mu + sigma) > s) & (s > 0), 1, 0).sum()*100/n\n",
    "\n",
    "p2l = np.where(((mu - 2*sigma) < s) & (s < (mu - sigma)), 1, 0).sum()*100/n\n",
    "p2r = np.where(((mu + 2*sigma) > s) & (s > (mu + sigma)), 1, 0).sum()*100/n\n",
    "\n",
    "p3l = np.where(((mu - 3*sigma) < s) & (s < (mu - 2*sigma)), 1, 0).sum()*100/n\n",
    "p3r = np.where(((mu + 3*sigma) > s) & (s > (mu + 2*sigma)), 1, 0).sum()*100/n\n",
    "\n",
    "c, bins, _ = plt.hist(s, 50, fc='silver', ec='darkgrey', alpha=0.5, density=True)\n",
    "\n",
    "p = normal(bins, sigma, mu)\n",
    "\n",
    "plt.plot(bins, p, linewidth=2, color='dimgrey')\n",
    "plt.vlines(mu, 0, max(p), color='limegreen', label='media', lw=4, ls='-')\n",
    "plt.vlines(me, 0, max(p), color='darkgreen', label='mediana')\n",
    "plt.vlines([-sigma, sigma], 0, normal(sigma, sigma, mu), color='blue', lw=2, label='$\\sigma$')\n",
    "plt.vlines([-2*sigma, 2*sigma], 0, normal(2*sigma, sigma, mu), color='red', lw=2, label='$2 \\sigma$')\n",
    "plt.vlines([-3*sigma, 3*sigma], 0, normal(3*sigma, sigma, mu), color='k', lw=2, label='$3 \\sigma$')\n",
    "\n",
    "plt.text(-0.05,2.0, '{:.2f}%'.format(p1l), fontsize=8, ha='center', \n",
    "         bbox=dict(boxstyle=\"round\", ec='gray', fc='w',))\n",
    "plt.text(+0.05,2.0, '{:.2f}%'.format(p1r), fontsize=8, ha='center', \n",
    "         bbox=dict(boxstyle=\"round\", ec='gray', fc='w',))\n",
    "\n",
    "plt.text(-0.15,1.0, '{:.2f}%'.format(p2l), fontsize=8, ha='center', \n",
    "         bbox=dict(boxstyle=\"round\", ec='gray', fc='w',))\n",
    "plt.text(+0.15,1.0, '{:.2f}%'.format(p2r), fontsize=8, ha='center', \n",
    "         bbox=dict(boxstyle=\"round\", ec='gray', fc='w',))\n",
    "\n",
    "plt.text(-0.25,0.25, '{:.2f}%'.format(p3l), fontsize=8, ha='right', \n",
    "         bbox=dict(boxstyle=\"round\", ec='gray', fc='w',))\n",
    "plt.text(+0.25,0.25, '{:.2f}%'.format(p3r), fontsize=8, ha='left', \n",
    "         bbox=dict(boxstyle=\"round\", ec='gray', fc='w',))\n",
    "\n",
    "plt.suptitle('Regla empírica: 68, 95, 99.7')\n",
    "plt.title('2.35%, 13.50%, 34.00%, 34.00%, 13.50%, 2.35%', c='b', fontsize=10)\n",
    "plt.legend()\n",
    "\n",
    "plt.show()"
   ]
  },
  {
   "cell_type": "markdown",
   "id": "dce4704b-ad5a-442a-88b0-a02c6ba59d69",
   "metadata": {},
   "source": [
    "* El área bajo la curva de la función de densidad es uno, ya que la probabilidad total debe ser del 100%.\n",
    "* El resultado de la función de probabilidad es siempre positivo, ya que no existen probabilidades negativas."
   ]
  },
  {
   "cell_type": "markdown",
   "id": "83801405-8803-4b5d-b5ed-63175c14df5a",
   "metadata": {},
   "source": [
    "\n",
    "En este punto introducimos la [**función de distribución acumulada**](https://es.wikipedia.org/wiki/Funci%C3%B3n_de_distribuci%C3%B3n) (CDF por sus siglas en inglés), que se expresa como la integral de la función de densidad de probabilidad, $f_X$, para una variable discreta continua $X$:\n",
    "\n",
    "$$\n",
    "F_{X}(x)=\\int _{-\\infty }^{x}f_{X}(t)\\,dt\n",
    "$$\n"
   ]
  },
  {
   "cell_type": "markdown",
   "id": "bb92ae43-fce0-4b92-a891-a816893a6629",
   "metadata": {},
   "source": [
    "## Usando Scipy para calcular distribuciones.\n",
    "El módulo `stats` de la biblioteca `scipy` ofrece varias herramientas para trabajar con distribuciones. Se tienen definidad las siguientes distribuciones:\n",
    "\n",
    "* `scipy.stats.norm`: [**Distribución normal**](https://es.wikipedia.org/wiki/Distribuci%C3%B3n_normal).\n",
    "* `scipy.stats.binom`: [**Distribución binomial**](https://es.wikipedia.org/wiki/Distribuci%C3%B3n_binomial).\n",
    "* `scipy.stats.geom`: [**Distribución geométrica**](https://es.wikipedia.org/wiki/Distribuci%C3%B3n_geom%C3%A9trica).\n",
    "* `scipy.stats.logistic`: [**Distribución logística**](https://es.wikipedia.org/wiki/Distribuci%C3%B3n_log%C3%ADstica).\n",
    "* `scipy.stats.expon`: [**Distribución exponencial**](https://es.wikipedia.org/wiki/Distribuci%C3%B3n_exponencial).\n",
    "* `scipy.stats.uniform`: [**Distribución uniforme**](https://es.wikipedia.org/wiki/Distribuci%C3%B3n_uniforme).\n",
    "* `scipy.stats.poisson`: [**Distribución de Poisson**](https://es.wikipedia.org/wiki/Distribuci%C3%B3n_de_Poisson)."
   ]
  },
  {
   "cell_type": "markdown",
   "id": "5321d6db-2b7a-4e01-9b59-76b1be489b33",
   "metadata": {},
   "source": [
    "Para la distribución normal (`scipy.stats.norm`) se tienen definidos los siguientes métodos:\n",
    "\n",
    "* `pdf(x, loc=0, scale=1)` : Función de densidad $f_{X}(x)$ (distribuciones continuas).\n",
    "* `cdf(x, loc=0, scale=1)` : Función de distribución (acumulada) $F_{X}(x)$.\n",
    "* `sf(x)` = `1 - cdf(x)` \n",
    "* `ppf(q, loc=0, scale=1)` : Función inversa a `cdf(x)`. Nos permite obtener el valor correspondiente a una probabilidad. Por ejemplo, ` ppf(0.01)` nos da el valor de la variable aleatoria que corresponde con el $1$%.\n",
    "* `rvs(loc=0, scale=1, size=1)` : General las variables aleatorias de un tipo específico.\n",
    "\n",
    "Los parámetros que usan estas funciones son:\n",
    "\n",
    "- `x` Especifica un flotante o un arreglo de flotantes que representan a la variable aleatoria.\n",
    "- `q` Especifica un flotante o un arreglo de flotantes que representan a las probabilidades.\n",
    "- `loc` Especifica la media de la distribución, por omisión es igual a $0.0$. (Opcional).\n",
    "- `scale` Especifica la desviación estándar de la distribución; debe ser positiva; por omisión es igual a $1.0$.  (Opcional).\n",
    "- `size` Especifica la forma de la salida (shape). (Opcional)."
   ]
  },
  {
   "cell_type": "markdown",
   "id": "66163cd3-dd43-41a0-9a00-5c809c0bc618",
   "metadata": {},
   "source": [
    "<div class=\"alert alert-block alert-success\">\n",
    "\n",
    "### Ejercicio 4.\n",
    "\n",
    "La duración de un determinado componente electrónico, en horas, es una variable aleatoria continua que se distribuye según una distribución normal, con una media de $2000$ y una desviación estándar de $40$. Grafique la distribución normal usando scipy.\n",
    "\n",
    "</div>"
   ]
  },
  {
   "cell_type": "code",
   "execution_count": null,
   "id": "18d16b2b-1c50-4a83-af9b-06460a2bd2eb",
   "metadata": {
    "tags": []
   },
   "outputs": [],
   "source": [
    "import scipy\n",
    "\n",
    "media = 2000\n",
    "sigma = 40\n",
    "\n",
    "X = scipy.stats.norm(loc = media, scale = sigma)          # Distribución normal\n",
    "x = np.arange(X.ppf(0.01),X.ppf(0.99)) # del 1 al 99 %\n",
    "y = X.pdf(x) # Construcción de la función de densidad de probabilidad\n",
    "\n",
    "plt.plot(x, y)\n",
    "plt.show()"
   ]
  },
  {
   "cell_type": "markdown",
   "id": "86b4da3d-41d3-4e64-bcec-d0fa7336b430",
   "metadata": {},
   "source": [
    "<div class=\"alert alert-block alert-success\">\n",
    "\n",
    "### Ejercicio 5.\n",
    "\n",
    "Usando la disrtribución del ejercicio 4 responda lo siguiente: ¿Cuál es la probabilidad de que la duración de una de esas componentes sea superior a 1900 horas? ¿y de que esté entre 1850 y 1950 horas?\n",
    "\n",
    "</div>"
   ]
  },
  {
   "cell_type": "code",
   "execution_count": null,
   "id": "1f49e4b9-74cc-402e-8e05-147793a584cb",
   "metadata": {
    "tags": []
   },
   "outputs": [],
   "source": [
    "print(X.sf(1900))\n",
    "print(X.cdf(1950) - X.cdf(1850)) "
   ]
  },
  {
   "cell_type": "markdown",
   "id": "2ee7b7a9-3bfe-46cd-a7ce-86f18fcec976",
   "metadata": {},
   "source": [
    "### Otras funciones"
   ]
  },
  {
   "cell_type": "code",
   "execution_count": null,
   "id": "dd860fa2-8282-4d4c-95a5-662a45d3c73b",
   "metadata": {
    "tags": []
   },
   "outputs": [],
   "source": [
    "yd = X.rvs(media, sigma) # Datos aleatorios discretos con una distribución normal.\n",
    "\n",
    "plt.hist(yd, bins=20, fc='silver', ec='darkgrey',density=True) \n",
    "plt.plot(x, y, c='C3')\n",
    "plt.show()"
   ]
  },
  {
   "cell_type": "code",
   "execution_count": null,
   "id": "92f0ce2d-571a-4c8b-b3c6-6ce65afc84a8",
   "metadata": {
    "tags": []
   },
   "outputs": [],
   "source": [
    "ycdf = X.cdf(x) # Función de distribución acumulada\n",
    "\n",
    "plt.plot(x, ycdf) \n",
    "plt.show()"
   ]
  },
  {
   "cell_type": "markdown",
   "id": "e9f7b331-f35b-452d-b7a5-91985bf27287",
   "metadata": {},
   "source": [
    "## Distribución binomial.\n",
    "\n",
    "La [**distribución binomial**](https://es.wikipedia.org/wiki/Distribuci%C3%B3n_binomial) (eventos independientes) está definida para variables aleatorias discretas. Particularmente para la probabilidad de que un evento sea exitoso en donde solo se tienen dos posibilidades. \n",
    "\n",
    "$$\n",
    "P(k,n,p) =  \\binom{n}{k} p^k q^{n-k} = \\frac{n!}{k!(n-k)!}p^k q^{n-k}\n",
    "$$\n",
    "donde $n$ es el número de eventos, $k \\in [0, 1, \\dots, n]$ el número de éxitos en los $n$ eventos, $0 \\leq p \\leq 1$ probabilidad de éxito de un evento individual, $q = 1 - p$ probabilidad de falla. \n",
    "\n",
    "En la fórmula anterior aparece el coeficiente binomial que proporciona el número de formas en que se pueden extraer muestras (subconjuntos) de un conjunto dado. Tenemos entonces que el número de formas de escoger $k$ elementos a partir de un conjunto de $n$, está dado por la fórmula:\n",
    "\n",
    "$$\n",
    "\\binom{n}{k} = \\frac{n!}{k!(n-k)!}\n",
    "$$"
   ]
  },
  {
   "cell_type": "markdown",
   "id": "2d3d8201-f16d-4d22-863d-681a6f23e6fa",
   "metadata": {},
   "source": [
    "Para la distribución binomial (`scipy.stats.binom`) se tienen definidos métodos similares a los de la distribución normal, pero con diferentes parámetros:\n",
    "\n",
    "* `pmf(k, n, p, loc=0)` : Función de densidad $f_{X}(x)$ (distribuciones continuas).\n",
    "* `cdf(k, n, p, loc=0)` : Función de distribución (acumulada) $F_{X}(x)$.\n",
    "* `ppf(q, n, p, loc=0)` : Función inversa a `cdf(x)`. Nos permite obtener el valor correspondiente a una probabilidad. Por ejemplo, ` ppf(0.01)` nos da el valor de la variable aleatoria que corresponde con el $1$%.\n",
    "* `rvs(n, p, loc=0, size=1)` : General las variables aleatorias de un tipo específico.\n",
    "\n",
    "Los parámetros que usan estas funciones son:\n",
    "\n",
    "- `k` Especifica un flotante o un arreglo de flotantes que representan a la variable aleatoria.\n",
    "- `q` Especifica un flotante o un arreglo de flotantes que representan a las probabilidades.\n",
    "- `n` Especifica el número de eventos, debe ser mayor que $0$.\n",
    "- `q` Especifica la probabilidad de éxito de cada evento, debe estar en el intervalo $[0,1]$. Puede ser un flotante o un arreglo.\n",
    "- `loc` Especifica la ubicación de la distribución, por omisión es igual a $0.0$. (Opcional).\n",
    "- `size` Especifica la forma de la salida (shape). (Opcional)."
   ]
  },
  {
   "cell_type": "markdown",
   "id": "2b98836f-f655-4c5f-9084-e27c3af64abb",
   "metadata": {},
   "source": [
    "<div class=\"alert alert-block alert-success\">\n",
    "\n",
    "### Ejercicio 6.\n",
    "\n",
    "La probabilidad de que un test específico sea aprobado por una persona es del $20$%. ¿Cuál es la probabilidad de que de 5 personas seleccionadas al azar, 3 de ellas aprueben el test?\n",
    "</div>\n",
    "\n",
    "**Solución**.\n",
    "\n",
    "$$\n",
    "P(k=3, n=5, p=0.5) = \\binom{5}{3} 0.2^3 0.8^{5-3} = \\frac{5!}{3!(5-3)!}0.2^3 0.8^{5-3} = 0.05\n",
    "$$\n",
    "\n"
   ]
  },
  {
   "cell_type": "code",
   "execution_count": null,
   "id": "825a7658-1a45-41aa-b1c9-be570d70b891",
   "metadata": {
    "tags": []
   },
   "outputs": [],
   "source": [
    "p = 0.2\n",
    "n = 5\n",
    "\n",
    "x = np.arange(0, n+1, 1)\n",
    "y = scipy.stats.binom.pmf(k = x, n = n, p = p) # Calcula la función de distribución de masa binomial (pmf)\n",
    "   \n",
    "plt.scatter(x, y, zorder=5)\n",
    "plt.vlines(x, 0, y, colors='C1', lw=5, alpha=0.5)\n",
    "plt.xticks(x)\n",
    "plt.ylim(0, max(y)*1.2)\n",
    "\n",
    "for xi, yi in zip(x, y):\n",
    "    plt.text(xi, yi+0.01, '{:.2f}'.format(yi), ha='center', va='bottom')\n",
    "    \n",
    "plt.show()"
   ]
  },
  {
   "cell_type": "markdown",
   "id": "6a112992-09d4-4972-92db-b07691823f22",
   "metadata": {},
   "source": [
    "Para el caso de las distribuciones de probabilidades discretas, la [**función de distribución acumulada (cdf)**](https://es.wikipedia.org/wiki/Funci%C3%B3n_de_distribuci%C3%B3n) se basa en sumas. Para la distribución binomial tenemos:\n",
    "\n",
    "$$\n",
    "F(k; n,p) =  P(X \\leq k) = \\sum_{i=0}^{[k]} \\binom{n}{i} p^i q^{n-i} = \\frac{n!}{i!(n-i)!}p^i q^{n-i}\n",
    "$$\n",
    "\n",
    "donde $[k]$ es el entero más grande menor o igual a $k$. Cuando $F$ se evalúa en $k$ obtenemos la probabilidad de que la variable aleatoria $X$ tome un valor menor o igual a $k$."
   ]
  },
  {
   "cell_type": "markdown",
   "id": "0b1c7dde-1e92-42cf-bfd1-ff4d065ae5c7",
   "metadata": {},
   "source": [
    "<div class=\"alert alert-block alert-success\">\n",
    "\n",
    "### Ejercicio 7.\n",
    " \n",
    "Calcular y graficar la <b>cdf</b> para la distribución del ejemplo 6.\n",
    "</div>"
   ]
  },
  {
   "cell_type": "code",
   "execution_count": null,
   "id": "c17dd39b-bea9-47b2-bc81-08cfe6e730fc",
   "metadata": {
    "tags": []
   },
   "outputs": [],
   "source": [
    "n = 5\n",
    "p = 0.2\n",
    "x = np.arange(0, n+1, 1)\n",
    "y = scipy.stats.binom.cdf(x, n, p)\n",
    "plt.plot(x, y, 'o-') \n",
    "plt.ylim(0,1.1)\n",
    "plt.xlim(-0.1,5.1)\n",
    "plt.xticks(x)\n",
    "\n",
    "plt.show()"
   ]
  },
  {
   "cell_type": "markdown",
   "id": "3313193b-d183-4641-b14e-7d2df74a269f",
   "metadata": {},
   "source": [
    "## Estimación de densidad de kernel (KDE)\n",
    "\n",
    "Supon que tenemos un conjunto de datos representados mediante un histograma como el siguiente:"
   ]
  },
  {
   "cell_type": "code",
   "execution_count": null,
   "id": "4d960a0e-bc72-4d83-99b1-7166c2a05b0d",
   "metadata": {
    "tags": []
   },
   "outputs": [],
   "source": [
    "import pandas as pd\n",
    "datos = pd.read_csv('./gpa_iq.csv')\n",
    "datos"
   ]
  },
  {
   "cell_type": "markdown",
   "id": "64342062-ffe1-49f3-a526-c226761e4964",
   "metadata": {},
   "source": [
    "Usamos la columna `iq` para generar un histograma:"
   ]
  },
  {
   "cell_type": "code",
   "execution_count": null,
   "id": "1287febd-24d9-4b7a-b502-3333fef20dbc",
   "metadata": {
    "tags": []
   },
   "outputs": [],
   "source": [
    "counts, bins, _ = plt.hist(datos.iq, bins=5, fc='silver', ec='darkgrey', align='left')\n",
    "plt.xticks(bins, fontsize=9)\n",
    "plt.show()"
   ]
  },
  {
   "cell_type": "markdown",
   "id": "bc8987dc-2fc2-4e83-a0cd-39437c9d4039",
   "metadata": {},
   "source": [
    "Es posible crear una versión suavizada de el histograma anterior mediante lo que se conoce como [**KDE**](https://en.wikipedia.org/wiki/Kernel_density_estimation) (Kernel Density Estimation). Esta KDE nos permite estimar la PDF a partir de nuestro conjunto de datos.\n",
    "\n",
    "En ese ejemplo se tienen 6 puntos. Para construir el KDE se colocan kernels de tipo Gausiano (normal), que se indican con las líneas rojas, sobre cada uno de los datos (ticks negros). Se suman todos los kernel para crear una estimación de la función de densidad de probabilidad. \n",
    "\n",
    "<a title=\"Drleft at English Wikipedia, CC BY-SA 3.0 &lt;https://creativecommons.org/licenses/by-sa/3.0&gt;, via Wikimedia Commons\" href=\"https://commons.wikimedia.org/wiki/File:Comparison_of_1D_histogram_and_KDE.png\"><img alt=\"Comparison of 1D histogram and KDE\" src=\"https://upload.wikimedia.org/wikipedia/commons/thumb/4/41/Comparison_of_1D_histogram_and_KDE.png/512px-Comparison_of_1D_histogram_and_KDE.png\"></a>\n",
    "\n",
    "La definición formal de KDE es como sigue: sean $(x_1, x_2, \\dots, x_n)$ muestras independiente con una función de densidad $f$ desconocida. Para estimar la forma de la $f$ usamos lo siguiente: \n",
    "\n",
    "$$\n",
    "{\\widehat {f}}_{h}(x)={\\frac {1}{n}}\\sum _{i=1}^{n}K_{h}(x-x_{i})={\\frac {1}{nh}}\\sum _{i=1}^{n}K{\\Big (}{\\frac {x-x_{i}}{h}}{\\Big )}\n",
    "$$\n",
    "\n",
    "donde $K$ es el kernel, una función no negativa y $h>0$. El parámetro $h$ se conoce como el ancho de banda (*bandwith*). Existen varias metodologías para elegir este parámetro de forma óptima.\n",
    "\n",
    "Con los datos que tenemos, podemos construir un KDE fácilmente usando `seaborn` como sigue:"
   ]
  },
  {
   "cell_type": "code",
   "execution_count": null,
   "id": "1b53ddae-94fd-41a2-91cb-db0afadc8b9f",
   "metadata": {
    "tags": []
   },
   "outputs": [],
   "source": [
    "import seaborn as sns\n",
    "sns.kdeplot(datos.iq)"
   ]
  },
  {
   "cell_type": "code",
   "execution_count": null,
   "id": "56eae84e-98dd-488f-ba92-08e6306e0ac2",
   "metadata": {
    "tags": []
   },
   "outputs": [],
   "source": [
    "sns.kdeplot(datos.iq, fill=True, bw_adjust=0.5) # Moviendo el bandwidth"
   ]
  },
  {
   "cell_type": "code",
   "execution_count": null,
   "id": "57f3ec03-fb68-4a93-8a11-1ecd2b698875",
   "metadata": {
    "tags": []
   },
   "outputs": [],
   "source": [
    "# CDF\n",
    "sns.kdeplot(datos.iq, fill=True, bw_adjust=0.5, cumulative=True) # Moviendo el bandwidth"
   ]
  },
  {
   "cell_type": "code",
   "execution_count": null,
   "id": "51a4d4b3-6e20-4f0c-a6de-854e10be82f3",
   "metadata": {
    "tags": []
   },
   "outputs": [],
   "source": [
    "sns.displot(datos.iq, kde=True)"
   ]
  },
  {
   "cell_type": "code",
   "execution_count": null,
   "id": "08eece90-27f0-46e4-b09e-9e0f09099e3f",
   "metadata": {
    "tags": []
   },
   "outputs": [],
   "source": [
    "sns.kdeplot(datos)"
   ]
  },
  {
   "cell_type": "code",
   "execution_count": null,
   "id": "f04eac1c-6ec5-4aed-9dc9-460545d401f5",
   "metadata": {
    "tags": []
   },
   "outputs": [],
   "source": [
    "sns.kdeplot([datos.gender, datos.gpa])"
   ]
  },
  {
   "cell_type": "code",
   "execution_count": null,
   "id": "d78ebddf-4332-4581-b39d-98995a398d9f",
   "metadata": {
    "tags": []
   },
   "outputs": [],
   "source": [
    "sns.kdeplot(datos, x= \"iq\", y = \"concept\")"
   ]
  },
  {
   "cell_type": "code",
   "execution_count": null,
   "id": "084e7361-2bb9-4df1-bc1e-6a7ddf615d25",
   "metadata": {
    "tags": []
   },
   "outputs": [],
   "source": [
    "sns.kdeplot(datos, x= \"iq\", y = \"concept\", fill=True, cbar=True)"
   ]
  },
  {
   "cell_type": "markdown",
   "id": "11f57d67-710b-4708-b55a-96fff71ebdad",
   "metadata": {},
   "source": [
    "## Otras posibles distribuciones.\n",
    "\n",
    "* Variable aleatoria discreta (enteros):\n",
    "    - [Distribución de Poisson](https://es.wikipedia.org/wiki/Distribuci%C3%B3n_de_Poisson) (eventos independientes).\n",
    "    - [Distribución hipergeométrica](https://es.wikipedia.org/wiki/Distribuci%C3%B3n_hipergeom%C3%A9trica) (eventos dependientes).\n",
    "\n",
    "* Variable aleatoria continua (números reales):\n",
    "    - [Distribución de Cauchy](https://es.wikipedia.org/wiki/Distribuci%C3%B3n_de_Cauchy).\n",
    "    - [Distribución exponencial](https://es.wikipedia.org/wiki/Distribuci%C3%B3n_exponencial)."
   ]
  },
  {
   "cell_type": "markdown",
   "id": "6c2ab431-cbe0-4ac1-a39d-bc3a4fca29b2",
   "metadata": {},
   "source": [
    "# Teorema de Límite Central\n",
    "\n",
    "<blockquote>\n",
    "Independientemente de la forma de la población, la forma de la distribución muestral de la media se aproxima a una curva normal,  si el tamaño de la muestra es lo suficientemente grande.\n",
    "\n",
    "[**Statistics**](https://books.google.com.mx/books?id=KcxjDwAAQBAJ), Witte, R.S., Witte, J.S., ISBN 9781119254515, 2017, Wiley.\n",
    "</blockquote>\n"
   ]
  },
  {
   "cell_type": "markdown",
   "id": "72a467dd-a179-4328-9e33-43f7dfb201dd",
   "metadata": {},
   "source": [
    "Para ejemplificar usaremos una población generada aleatoriamente y sesgada."
   ]
  },
  {
   "cell_type": "code",
   "execution_count": null,
   "id": "917ac4cf-8b22-4c9f-a9f8-59b3b25034ac",
   "metadata": {
    "tags": []
   },
   "outputs": [],
   "source": [
    "def data_set(sesgo, tam):\n",
    "    datos_aleatorios = scipy.stats.skewnorm.rvs(sesgo, size=tam, random_state=1)\n",
    "    return datos_aleatorios"
   ]
  },
  {
   "cell_type": "code",
   "execution_count": null,
   "id": "4a0299c1-307c-4ff4-b2c0-1ebe7234880b",
   "metadata": {
    "tags": []
   },
   "outputs": [],
   "source": [
    "data1 = data_set(sesgo = 10, tam = 10000)\n",
    "print(data1.size, data1.max(), data1.min())"
   ]
  },
  {
   "cell_type": "code",
   "execution_count": null,
   "id": "a9a65db7-8801-4dd0-8052-76134f64561e",
   "metadata": {
    "tags": []
   },
   "outputs": [],
   "source": [
    "# Modifica el valor de bins= 5, 10, 20, 100, 200\n",
    "plt.hist(data1, bins=200, alpha=0.75, fc='C2')\n",
    "plt.show()"
   ]
  },
  {
   "cell_type": "markdown",
   "id": "4f083f67-9f5d-4582-b797-f6cc2d080dbd",
   "metadata": {},
   "source": [
    "Observamos una distribución sesgada hacia la izquierda.\n",
    "\n",
    "Ahora tomemos una muestra de la población, digamos de 30 y calculemos el promedio y lo graficamos."
   ]
  },
  {
   "cell_type": "code",
   "execution_count": null,
   "id": "477a7425-0349-4a71-8c5e-b7b039900640",
   "metadata": {
    "tags": []
   },
   "outputs": [],
   "source": [
    "np.random.choice(data1, 30)"
   ]
  },
  {
   "cell_type": "code",
   "execution_count": null,
   "id": "16026379-0679-4763-9c4b-27a322635b6b",
   "metadata": {
    "tags": []
   },
   "outputs": [],
   "source": [
    "media = np.random.choice(data1, 30).mean()\n",
    "print(media)\n",
    "\n",
    "# Modifica el valor de bins= 5, 10, 20, 100, 200\n",
    "plt.hist(media, bins=1, alpha=0.75, fc='C2', rwidth=0.1)\n",
    "plt.xlim(-1, 4.5)\n",
    "plt.show()"
   ]
  },
  {
   "cell_type": "markdown",
   "id": "61554f6c-ddf4-4dbe-923b-57b533d69755",
   "metadata": {},
   "source": [
    "Repetimos el proceso varias veces para varias muestras:"
   ]
  },
  {
   "cell_type": "code",
   "execution_count": null,
   "id": "74db66db-4e03-4b62-9e4e-ada16d2ff09c",
   "metadata": {
    "tags": []
   },
   "outputs": [],
   "source": [
    "num_muestras = 1000\n",
    "tam_muestra = 30\n",
    "promedio = np.array([])\n",
    "for i in range(num_muestras):\n",
    "    media = np.random.choice(data1, tam_muestra).mean()\n",
    "    promedio = np.append(promedio, media)\n",
    "\n",
    "plt.hist(promedio, bins=200, alpha=0.75, fc='C2', rwidth=0.75)\n",
    "plt.show()"
   ]
  },
  {
   "cell_type": "markdown",
   "id": "e8e9a647-a153-43c0-9615-27d50a339fa8",
   "metadata": {},
   "source": [
    "Observa que entre más muestras tomemos, obtendremos una distribución normal.\n",
    "\n",
    "Dado lo anterior, podemos aprovechar las técnicas estadísticas que asumen una distribución normal. "
   ]
  },
  {
   "cell_type": "markdown",
   "id": "da6d5db0-75b5-42dd-91fd-56dbc7fb54c5",
   "metadata": {},
   "source": [
    "# Intervalo de confianza\n",
    "\n",
    "Cuando trabajamos con muestras generalmente se introduce un error en los cálculos estadísticos. Para estimar este error podemos hacer uso del [**intervalo de confianza**](https://es.wikipedia.org/wiki/Intervalo_de_confianza). El intervalo de confianza consiste de un par de números entre los cuales se estima que estará cierto valor desconocido respecto de un parámetro poblacional y este par de números se calcula a partir de datos de una muestra.\n",
    "\n",
    "Un intervalo con el porcentaje de confianza $(1-\\alpha )100\\%$ para estimar un parámetro poblacional \n",
    "$\\theta$, que sigue una determinada distribución de probabilidad, es una expresión del tipo:\n",
    "$[\\theta_{1} , \\theta_{2}]$ tal que $P[\\theta_{1} \\leq \\theta \\leq \\theta_{2}]=1-\\alpha$ donde $P$ es la función de distribución de probabilidad de $\\theta$.\n",
    "El número $\\alpha$ se conoce como error aleatorio o nivel de significancia.\n",
    "\n",
    "Se puede demostrar que el intervalo de confianza de la media de una población está dado por $[-Z_c\\frac{\\sigma}{\\sqrt{n}}, Z_c\\frac{\\sigma}{\\sqrt{n}}]$ y sus valores más comunes son:\n",
    "\n",
    "| $1-\\alpha$ | $Z_c$ |\n",
    "|------|-----|\n",
    "| 0.90  | 1.645 | \n",
    "| 0.95  | 1.960 | \n",
    "| 0.99  | 2.58 | \n"
   ]
  },
  {
   "cell_type": "code",
   "execution_count": null,
   "id": "718f1f01-f4b3-409b-9b0a-3997af761a64",
   "metadata": {
    "tags": []
   },
   "outputs": [],
   "source": [
    "print('90% : {:.2f}'.format(scipy.stats.norm.ppf(1-(1-0.90)/2)))\n",
    "print('95% : {:.2f}'.format(scipy.stats.norm.ppf(1-(1-0.95)/2)))\n",
    "print('99% : {:.2f}'.format(scipy.stats.norm.ppf(1-(1-0.99)/2)))"
   ]
  },
  {
   "cell_type": "code",
   "execution_count": null,
   "id": "b87abbf0-feb0-4420-910e-9a348b8bb270",
   "metadata": {
    "tags": []
   },
   "outputs": [],
   "source": [
    "sns.barplot(datos, errorbar=('ci',90), capsize=0.1)"
   ]
  },
  {
   "cell_type": "code",
   "execution_count": null,
   "id": "298f3216-6273-4ad7-bb4f-a13a2f685c5a",
   "metadata": {},
   "outputs": [],
   "source": []
  }
 ],
 "metadata": {
  "kernelspec": {
   "display_name": "Python 3 (ipykernel)",
   "language": "python",
   "name": "python3"
  },
  "language_info": {
   "codemirror_mode": {
    "name": "ipython",
    "version": 3
   },
   "file_extension": ".py",
   "mimetype": "text/x-python",
   "name": "python",
   "nbconvert_exporter": "python",
   "pygments_lexer": "ipython3",
   "version": "3.11.6"
  }
 },
 "nbformat": 4,
 "nbformat_minor": 5
}
