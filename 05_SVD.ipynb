{
 "cells": [
  {
   "cell_type": "markdown",
   "id": "71d732bf-8b04-4359-a87b-f308989c9c6b",
   "metadata": {},
   "source": [
    "# Matemáticas para IA con Python.\n",
    "\n",
    " <p xmlns:cc=\"http://creativecommons.org/ns#\" xmlns:dct=\"http://purl.org/dc/terms/\"><a property=\"dct:title\" rel=\"cc:attributionURL\" href=\"https://github.com/luiggix/intro_MeIA_2023\">Matemáticas para IA con Python</a> by <span property=\"cc:attributionName\">Luis Miguel de la Cruz Salas</span> is licensed under <a href=\"http://creativecommons.org/licenses/by-nc-sa/4.0/?ref=chooser-v1\" target=\"_blank\" rel=\"license noopener noreferrer\" style=\"display:inline-block;\">CC BY-NC-SA 4.0<img style=\"height:22px!important;margin-left:3px;vertical-align:text-bottom;\" src=\"https://mirrors.creativecommons.org/presskit/icons/cc.svg?ref=chooser-v1\"><img style=\"height:22px!important;margin-left:3px;vertical-align:text-bottom;\" src=\"https://mirrors.creativecommons.org/presskit/icons/by.svg?ref=chooser-v1\"><img style=\"height:22px!important;margin-left:3px;vertical-align:text-bottom;\" src=\"https://mirrors.creativecommons.org/presskit/icons/nc.svg?ref=chooser-v1\"><img style=\"height:22px!important;margin-left:3px;vertical-align:text-bottom;\" src=\"https://mirrors.creativecommons.org/presskit/icons/sa.svg?ref=chooser-v1\"></a></p> "
   ]
  },
  {
   "cell_type": "markdown",
   "id": "f329badf-13be-45a3-94ec-fa1ba251833d",
   "metadata": {},
   "source": [
    "# Descomposición en Valores Singulares.\n",
    "\n",
    "La descomposición en valores singulares (SVD por sus siglas en inglés) es un método para la reducción de dimensionalidad. En pocas palabras, SVD descompone una matriz en otras tres matrices.\n",
    "\n",
    "SVD es uno de los métodos de factorización de matrices más populares debido a sus numerosas aplicaciones:\n",
    "\n",
    "* Inversión de matrices.\n",
    "* Compresión de datos.\n",
    "* Eliminación de ruido en datos.\n",
    "* Procesos de Inteligencia Artificial.\n",
    "\n",
    "Una matriz puede verse como una transformación lineal en el espacio (rotación, traslación, escalamiento), en este sentido SVD descompone una transformación en tres movimientos.\n",
    "\n",
    "Matemáticamente tenemos:\n",
    "\n",
    "$$\n",
    "A_{n\\times p} = U_{n\\times n} S_{n\\times p} V^T_{p\\times p} \n",
    "$$\n",
    "\n",
    "donde $n$ representa el número de renglones (muestras), y $p$ representa el número de dimensiones (variables). Por ejemplo, para $n = 4$ y $p = 3$ tendríamos lo siguiente:\n",
    "\n",
    "$$\n",
    "\\underbrace{\n",
    "\\left[\n",
    "\\begin{array}{ccc}\n",
    "a_{00} & a_{01} & a_{02} \\\\\n",
    "a_{10} & a_{11} & a_{12} \\\\\n",
    "a_{20} & a_{21} & a_{22} \\\\\n",
    "a_{30} & a_{31} & a_{32} \\\\\n",
    "\\end{array}\n",
    "\\right] }_{4 \\times 3}\n",
    "= \n",
    "\\underbrace{\n",
    "\\underbrace{\n",
    "\\left[\n",
    "\\begin{array}{ccc}\n",
    "u_{00} & u_{01} & u_{02} & u_{03}\\\\\n",
    "u_{10} & u_{11} & u_{12} & u_{13}\\\\\n",
    "u_{20} & u_{21} & u_{22} & u_{23}\\\\\n",
    "u_{30} & u_{31} & u_{32} & u_{33}\\\\\n",
    "\\end{array}\n",
    "\\right]}_{4 \\times 4}\n",
    "\\underbrace{\n",
    "\\underbrace{\n",
    "\\left[\n",
    "\\begin{array}{ccc}\n",
    "s_{00} & 0 & 0 \\\\\n",
    "0 & s_{11} & 0 \\\\\n",
    "0 & 0 & s_{22} \\\\\n",
    "0 & 0 & 0  \\\\\n",
    "\\end{array}\n",
    "\\right]}_{4 \\times 3}\n",
    "\\underbrace{\n",
    "\\left[\n",
    "\\begin{array}{ccc}\n",
    "v_{00} & v_{01} & v_{02} \\\\\n",
    "v_{10} & v_{11} & v_{12} \\\\\n",
    "v_{20} & v_{21} & v_{22} \\\\\n",
    "\\end{array}\n",
    "\\right]}_{3 \\times 3} \n",
    "}_{4 \\times 3}\n",
    "}_{4 \\times 3}\n",
    "$$\n",
    "\n",
    "## Descripción de las matrices.\n",
    "$U$ y $V^T$ son matrices ortogonales, $S$ es una matriz de valores singulares. En términos de transformaciones,tenemos que $U$ y $V^T$ producen rotaciones y $S$ produces un escalamiento. \n",
    "\n",
    "\n",
    "La columnas de $U$ son los eigenvectores ortonormales de la matriz $A A^T$ y se conocen como los vectores singulares izquierdos de $A$.\n",
    "\n",
    "La columnas de $V$ son los eigenvectores ortonormales de la matriz $A^T A$ y se conocen como los vectores singulares derechos de $A$.\n",
    "\n",
    "Los valores singulares de la matriz $S$ son las raíces cuadradas de los eigenvalores de la matriz $A^T A$ (equivalentemente de $A A^T)$ colocados en su diagonal en orden descendente.\n"
   ]
  },
  {
   "cell_type": "markdown",
   "id": "f3de8aee-c97d-484b-89d3-f072aeba2dde",
   "metadata": {},
   "source": [
    "## Reducción de dimensionalidad.\n",
    "\n",
    "Lo interesante de esta descomposición es que se puede reducir dimensionalidad si quitamos algunos elementos de las matrices $U$, $S$ y $V$:\n",
    "\n",
    "$$\n",
    "\\underbrace{\n",
    "\\left[\n",
    "\\begin{array}{ccc}\n",
    "a_{00} & a_{01} & a_{02} \\\\\n",
    "a_{10} & a_{11} & a_{12} \\\\\n",
    "a_{20} & a_{21} & a_{22} \\\\\n",
    "a_{30} & a_{31} & a_{32} \\\\\n",
    "\\end{array}\n",
    "\\right] }_{4 \\times 3}\n",
    "\\approx\n",
    "\\underbrace{\n",
    "\\left[\n",
    "\\begin{array}{ccc}\n",
    "a^{*}_{00} & a^{*}_{01} & a^{*}_{02} \\\\\n",
    "a^{*}_{10} & a^{*}_{11} & a^{*}_{12} \\\\\n",
    "a^{*}_{20} & a^{*}_{21} & a^{*}_{22} \\\\\n",
    "a^{*}_{30} & a^{*}_{31} & a^{*}_{32} \\\\\n",
    "\\end{array}\n",
    "\\right] }_{4 \\times 3}\n",
    "= \n",
    "\\underbrace{\n",
    "\\underbrace{\n",
    "\\left[\n",
    "\\begin{array}{ccc}\n",
    "u_{00} & u_{01} & u_{02} & u_{03}\\\\\n",
    "u_{10} & u_{11} & u_{12} & u_{13}\\\\\n",
    "u_{20} & u_{21} & u_{22} & u_{23}\\\\\n",
    "u_{30} & u_{31} & u_{32} & u_{33}\\\\\n",
    "\\end{array}\n",
    "\\right]}_{4 \\times 4}\n",
    "\\underbrace{\n",
    "\\underbrace{\n",
    "\\left[\n",
    "\\begin{array}{ccc}\n",
    "s_{00} & 0 \\\\\n",
    "0 & s_{11} \\\\\n",
    "0 & 0  \\\\\n",
    "0 & 0  \\\\\n",
    "\\end{array}\n",
    "\\right]}_{4 \\times 2}\n",
    "\\underbrace{\n",
    "\\left[\n",
    "\\begin{array}{ccc}\n",
    "v_{00} & v_{01} & v_{02} \\\\\n",
    "v_{10} & v_{11} & v_{12} \\\\\n",
    "\\end{array}\n",
    "\\right]}_{2 \\times 3} \n",
    "}_{4 \\times 3}\n",
    "}_{4 \\times 3}\n",
    "$$"
   ]
  },
  {
   "cell_type": "code",
   "execution_count": null,
   "id": "37f598b9-10d5-4891-8e3c-cc23e67a47ac",
   "metadata": {
    "tags": []
   },
   "outputs": [],
   "source": [
    "import numpy as np"
   ]
  },
  {
   "cell_type": "code",
   "execution_count": null,
   "id": "a985bde1-8738-4ff3-b447-f87483d99df9",
   "metadata": {
    "tags": []
   },
   "outputs": [],
   "source": [
    "A = np.array([[1,2,3,4,5],\n",
    "              [6,7,8,9,10],\n",
    "              [11,12,13,14,15],\n",
    "              [16,17,18,19,20],])\n",
    "\n",
    "print('A {} : \\n {}'.format(A.shape, A))"
   ]
  },
  {
   "cell_type": "code",
   "execution_count": null,
   "id": "dc8110f2-a5c2-4ad5-8b0a-96251b5f156e",
   "metadata": {
    "tags": []
   },
   "outputs": [],
   "source": [
    "# Factorización SVD:\n",
    "U, S, VT = np.linalg.svd(A)\n",
    "\n",
    "print('U {} : \\n {}'.format(U.shape, U))\n",
    "print('S {} : \\n {}'.format(S.shape, S))\n",
    "print('VT {} : \\n {}'.format(VT.shape, VT))"
   ]
  },
  {
   "cell_type": "markdown",
   "id": "d9c82d26-9895-45d0-951c-796e3a403c75",
   "metadata": {},
   "source": [
    "\n",
    "Observa que la $S$ no está dada en formato matriz."
   ]
  },
  {
   "cell_type": "code",
   "execution_count": null,
   "id": "c3a3f7f5-e77a-4045-9fbc-5ebe77c0844d",
   "metadata": {
    "tags": []
   },
   "outputs": [],
   "source": [
    "# Convertimos S en matriz diagonal completa:\n",
    "Sigma = np.zeros(A.shape)\n",
    "np.fill_diagonal(Sigma, S)\n",
    "print('S {} : \\n {}'.format(Sigma.shape, Sigma))"
   ]
  },
  {
   "cell_type": "markdown",
   "id": "4198237b-9894-4117-a5f4-4614415a0c42",
   "metadata": {},
   "source": [
    "Reconstruimos la matriz:"
   ]
  },
  {
   "cell_type": "code",
   "execution_count": null,
   "id": "63ab4819-1dc5-4804-94d9-4532b945f56f",
   "metadata": {
    "tags": []
   },
   "outputs": [],
   "source": [
    "np.dot(U, np.dot(Sigma, VT))\n",
    "#U @ Sigma @ VT"
   ]
  },
  {
   "cell_type": "markdown",
   "id": "1acf958e-8a1a-4b9b-a295-aee86d295fe0",
   "metadata": {},
   "source": [
    "Checa que las matrices `U` y `VT` son ortonormales."
   ]
  },
  {
   "cell_type": "code",
   "execution_count": null,
   "id": "03e81451-78c6-4a5b-aa7a-bcdb27f5062a",
   "metadata": {},
   "outputs": [],
   "source": []
  },
  {
   "cell_type": "markdown",
   "id": "5ec1fc11-8205-4363-b3df-a9ec2f3ee5a2",
   "metadata": {},
   "source": [
    "Ahora reconstruimos la matriz eliminando algunas componentes:"
   ]
  },
  {
   "cell_type": "code",
   "execution_count": null,
   "id": "1866aa29-e7f4-4927-80b7-848da5b0e540",
   "metadata": {
    "tags": []
   },
   "outputs": [],
   "source": [
    "comp = 2\n",
    "Sigma = Sigma[:, : comp] # Solo las primeras componentes (columnas) de S\n",
    "VT = VT[:comp, :]  # Solo las primeras componentes (renglones) de VT\n",
    "    \n",
    "print('S {} : \\n {}'.format(Sigma.shape, Sigma))\n",
    "print('VT {} : \\n {}'.format(VT.shape, VT))"
   ]
  },
  {
   "cell_type": "markdown",
   "id": "921e3033-cb46-4da2-996a-c600d4f6b7c9",
   "metadata": {},
   "source": [
    "Reconstruimos la matriz nuevamente:"
   ]
  },
  {
   "cell_type": "code",
   "execution_count": null,
   "id": "a95bf926-258d-464b-9295-0bb1bfab32f5",
   "metadata": {
    "tags": []
   },
   "outputs": [],
   "source": [
    "np.dot(U, np.dot(Sigma, VT))"
   ]
  },
  {
   "cell_type": "markdown",
   "id": "a897710c-78a0-4a68-8bc3-6008387c66fb",
   "metadata": {},
   "source": [
    "## Aplicación a imágenes"
   ]
  },
  {
   "cell_type": "code",
   "execution_count": null,
   "id": "8f841549-8fbb-4d8a-8e5d-92954d9c5148",
   "metadata": {
    "tags": []
   },
   "outputs": [],
   "source": [
    "from PIL import Image\n",
    "import matplotlib.pyplot as plt"
   ]
  },
  {
   "cell_type": "code",
   "execution_count": null,
   "id": "90bcd5ea-b332-4063-89d4-370f9abb6382",
   "metadata": {
    "tags": []
   },
   "outputs": [],
   "source": [
    "imagen = np.asarray(Image.open('./img04.jpg').convert(\"L\"))\n",
    "plt.imshow(imagen, cmap='gray')\n",
    "plt.xticks([])\n",
    "plt.yticks([])\n",
    "plt.show()"
   ]
  },
  {
   "cell_type": "code",
   "execution_count": null,
   "id": "3a279bfe-145c-4fdf-97b6-ea1846162578",
   "metadata": {
    "tags": []
   },
   "outputs": [],
   "source": [
    "# Descomposición SVD\n",
    "U, S, VT = np.linalg.svd(imagen)\n",
    "Sm = np.zeros(imagen.shape)\n",
    "np.fill_diagonal(Sm, S)\n",
    "#Sm[:len(S), :len(S)] = np.diag(S)\n",
    "\n",
    "print('U {} '.format(U.shape))\n",
    "print('S {} '.format(Sm.shape))\n",
    "print('VT {} '.format(VT.shape))\n",
    "\n",
    "# Reconstrucción\n",
    "imagen_original = np.dot(U, np.dot(Sm, VT))"
   ]
  },
  {
   "cell_type": "code",
   "execution_count": null,
   "id": "f5759484-d1bd-4573-83ae-ce55dfa75ea0",
   "metadata": {
    "tags": []
   },
   "outputs": [],
   "source": [
    "# Reducción de componentes\n",
    "comp = 10\n",
    "S_r = Sm[:, : comp] # Solo las primeras componentes de S, (las primeras columnas).\n",
    "VT_r = VT[:comp, :]  # Solo las primeras componentes de VT (los primeros renglones)\n",
    "\n",
    "# Reconstrucción con información reducida\n",
    "imagen_reducida =np.dot(U, np.dot(S_r, VT_r))\n",
    "\n",
    "xinfo_o = f'U {U.shape}, S {Sm.shape}, VT {VT.shape}'\n",
    "xinfo_r = f'U {U.shape}, S {S_r.shape}, VT {VT_r.shape}'\n",
    "\n",
    "plt.subplot(121)\n",
    "plt.imshow(imagen_original, cmap='gray')\n",
    "plt.xticks([])\n",
    "plt.yticks([])\n",
    "plt.title('Original')\n",
    "plt.xlabel(xinfo_o, fontsize=8)\n",
    "\n",
    "plt.subplot(122)\n",
    "plt.imshow(imagen_reducida, cmap='gray')\n",
    "plt.xticks([])\n",
    "plt.yticks([])\n",
    "plt.title('Reducida')\n",
    "plt.xlabel(xinfo_r, fontsize=8)\n",
    "\n",
    "\n",
    "plt.tight_layout()\n",
    "plt.show()"
   ]
  },
  {
   "cell_type": "code",
   "execution_count": null,
   "id": "9e7a66d4-a4ce-48a1-a63b-c9e30d565808",
   "metadata": {},
   "outputs": [],
   "source": []
  }
 ],
 "metadata": {
  "kernelspec": {
   "display_name": "Python 3 (ipykernel)",
   "language": "python",
   "name": "python3"
  },
  "language_info": {
   "codemirror_mode": {
    "name": "ipython",
    "version": 3
   },
   "file_extension": ".py",
   "mimetype": "text/x-python",
   "name": "python",
   "nbconvert_exporter": "python",
   "pygments_lexer": "ipython3",
   "version": "3.11.6"
  }
 },
 "nbformat": 4,
 "nbformat_minor": 5
}
